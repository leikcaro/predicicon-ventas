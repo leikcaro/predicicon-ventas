{
  "nbformat": 4,
  "nbformat_minor": 0,
  "metadata": {
    "colab": {
      "name": "Proy1Parte5.ipynb",
      "provenance": [],
      "authorship_tag": "ABX9TyNaHVZVmG3YrqVV/AN+Bony",
      "include_colab_link": true
    },
    "kernelspec": {
      "name": "python3",
      "display_name": "Python 3"
    },
    "language_info": {
      "name": "python"
    }
  },
  "cells": [
    {
      "cell_type": "markdown",
      "metadata": {
        "id": "view-in-github",
        "colab_type": "text"
      },
      "source": [
        "<a href=\"https://colab.research.google.com/github/leikcaro/predicicon-ventas/blob/main/Proy1Parte5.ipynb\" target=\"_parent\"><img src=\"https://colab.research.google.com/assets/colab-badge.svg\" alt=\"Open In Colab\"/></a>"
      ]
    },
    {
      "cell_type": "code",
      "execution_count": 179,
      "metadata": {
        "colab": {
          "base_uri": "https://localhost:8080/"
        },
        "id": "9V2D_netvOLb",
        "outputId": "082818b9-f90b-4e33-a22c-31aff6bfddff"
      },
      "outputs": [
        {
          "output_type": "stream",
          "name": "stdout",
          "text": [
            "Drive already mounted at /content/drive; to attempt to forcibly remount, call drive.mount(\"/content/drive\", force_remount=True).\n"
          ]
        }
      ],
      "source": [
        "from google.colab import drive\n",
        "drive.mount('/content/drive')\n",
        "import pandas as pd\n",
        "import numpy as np\n",
        "# importar modelo de regresión lineal\n",
        "from sklearn.linear_model import LinearRegression\n",
        "\n"
      ]
    },
    {
      "cell_type": "code",
      "source": [
        "filename = '/content/drive/MyDrive/Coding Dojo/Proyecto 1 /sales_predictions.csv'\n",
        "df = pd.read_csv(filename)\n",
        "df.head()\n"
      ],
      "metadata": {
        "colab": {
          "base_uri": "https://localhost:8080/",
          "height": 357
        },
        "id": "GlWYRyZtvbAy",
        "outputId": "f1352299-51cb-4a39-a50c-ab4bae530065"
      },
      "execution_count": 180,
      "outputs": [
        {
          "output_type": "execute_result",
          "data": {
            "text/plain": [
              "  Item_Identifier  Item_Weight Item_Fat_Content  Item_Visibility  \\\n",
              "0           FDA15         9.30          Low Fat         0.016047   \n",
              "1           DRC01         5.92          Regular         0.019278   \n",
              "2           FDN15        17.50          Low Fat         0.016760   \n",
              "3           FDX07        19.20          Regular         0.000000   \n",
              "4           NCD19         8.93          Low Fat         0.000000   \n",
              "\n",
              "               Item_Type  Item_MRP Outlet_Identifier  \\\n",
              "0                  Dairy  249.8092            OUT049   \n",
              "1            Soft Drinks   48.2692            OUT018   \n",
              "2                   Meat  141.6180            OUT049   \n",
              "3  Fruits and Vegetables  182.0950            OUT010   \n",
              "4              Household   53.8614            OUT013   \n",
              "\n",
              "   Outlet_Establishment_Year Outlet_Size Outlet_Location_Type  \\\n",
              "0                       1999      Medium               Tier 1   \n",
              "1                       2009      Medium               Tier 3   \n",
              "2                       1999      Medium               Tier 1   \n",
              "3                       1998         NaN               Tier 3   \n",
              "4                       1987        High               Tier 3   \n",
              "\n",
              "         Outlet_Type  Item_Outlet_Sales  \n",
              "0  Supermarket Type1          3735.1380  \n",
              "1  Supermarket Type2           443.4228  \n",
              "2  Supermarket Type1          2097.2700  \n",
              "3      Grocery Store           732.3800  \n",
              "4  Supermarket Type1           994.7052  "
            ],
            "text/html": [
              "\n",
              "  <div id=\"df-4fabb1df-5a32-4046-8ef9-94b34d9c0e31\">\n",
              "    <div class=\"colab-df-container\">\n",
              "      <div>\n",
              "<style scoped>\n",
              "    .dataframe tbody tr th:only-of-type {\n",
              "        vertical-align: middle;\n",
              "    }\n",
              "\n",
              "    .dataframe tbody tr th {\n",
              "        vertical-align: top;\n",
              "    }\n",
              "\n",
              "    .dataframe thead th {\n",
              "        text-align: right;\n",
              "    }\n",
              "</style>\n",
              "<table border=\"1\" class=\"dataframe\">\n",
              "  <thead>\n",
              "    <tr style=\"text-align: right;\">\n",
              "      <th></th>\n",
              "      <th>Item_Identifier</th>\n",
              "      <th>Item_Weight</th>\n",
              "      <th>Item_Fat_Content</th>\n",
              "      <th>Item_Visibility</th>\n",
              "      <th>Item_Type</th>\n",
              "      <th>Item_MRP</th>\n",
              "      <th>Outlet_Identifier</th>\n",
              "      <th>Outlet_Establishment_Year</th>\n",
              "      <th>Outlet_Size</th>\n",
              "      <th>Outlet_Location_Type</th>\n",
              "      <th>Outlet_Type</th>\n",
              "      <th>Item_Outlet_Sales</th>\n",
              "    </tr>\n",
              "  </thead>\n",
              "  <tbody>\n",
              "    <tr>\n",
              "      <th>0</th>\n",
              "      <td>FDA15</td>\n",
              "      <td>9.30</td>\n",
              "      <td>Low Fat</td>\n",
              "      <td>0.016047</td>\n",
              "      <td>Dairy</td>\n",
              "      <td>249.8092</td>\n",
              "      <td>OUT049</td>\n",
              "      <td>1999</td>\n",
              "      <td>Medium</td>\n",
              "      <td>Tier 1</td>\n",
              "      <td>Supermarket Type1</td>\n",
              "      <td>3735.1380</td>\n",
              "    </tr>\n",
              "    <tr>\n",
              "      <th>1</th>\n",
              "      <td>DRC01</td>\n",
              "      <td>5.92</td>\n",
              "      <td>Regular</td>\n",
              "      <td>0.019278</td>\n",
              "      <td>Soft Drinks</td>\n",
              "      <td>48.2692</td>\n",
              "      <td>OUT018</td>\n",
              "      <td>2009</td>\n",
              "      <td>Medium</td>\n",
              "      <td>Tier 3</td>\n",
              "      <td>Supermarket Type2</td>\n",
              "      <td>443.4228</td>\n",
              "    </tr>\n",
              "    <tr>\n",
              "      <th>2</th>\n",
              "      <td>FDN15</td>\n",
              "      <td>17.50</td>\n",
              "      <td>Low Fat</td>\n",
              "      <td>0.016760</td>\n",
              "      <td>Meat</td>\n",
              "      <td>141.6180</td>\n",
              "      <td>OUT049</td>\n",
              "      <td>1999</td>\n",
              "      <td>Medium</td>\n",
              "      <td>Tier 1</td>\n",
              "      <td>Supermarket Type1</td>\n",
              "      <td>2097.2700</td>\n",
              "    </tr>\n",
              "    <tr>\n",
              "      <th>3</th>\n",
              "      <td>FDX07</td>\n",
              "      <td>19.20</td>\n",
              "      <td>Regular</td>\n",
              "      <td>0.000000</td>\n",
              "      <td>Fruits and Vegetables</td>\n",
              "      <td>182.0950</td>\n",
              "      <td>OUT010</td>\n",
              "      <td>1998</td>\n",
              "      <td>NaN</td>\n",
              "      <td>Tier 3</td>\n",
              "      <td>Grocery Store</td>\n",
              "      <td>732.3800</td>\n",
              "    </tr>\n",
              "    <tr>\n",
              "      <th>4</th>\n",
              "      <td>NCD19</td>\n",
              "      <td>8.93</td>\n",
              "      <td>Low Fat</td>\n",
              "      <td>0.000000</td>\n",
              "      <td>Household</td>\n",
              "      <td>53.8614</td>\n",
              "      <td>OUT013</td>\n",
              "      <td>1987</td>\n",
              "      <td>High</td>\n",
              "      <td>Tier 3</td>\n",
              "      <td>Supermarket Type1</td>\n",
              "      <td>994.7052</td>\n",
              "    </tr>\n",
              "  </tbody>\n",
              "</table>\n",
              "</div>\n",
              "      <button class=\"colab-df-convert\" onclick=\"convertToInteractive('df-4fabb1df-5a32-4046-8ef9-94b34d9c0e31')\"\n",
              "              title=\"Convert this dataframe to an interactive table.\"\n",
              "              style=\"display:none;\">\n",
              "        \n",
              "  <svg xmlns=\"http://www.w3.org/2000/svg\" height=\"24px\"viewBox=\"0 0 24 24\"\n",
              "       width=\"24px\">\n",
              "    <path d=\"M0 0h24v24H0V0z\" fill=\"none\"/>\n",
              "    <path d=\"M18.56 5.44l.94 2.06.94-2.06 2.06-.94-2.06-.94-.94-2.06-.94 2.06-2.06.94zm-11 1L8.5 8.5l.94-2.06 2.06-.94-2.06-.94L8.5 2.5l-.94 2.06-2.06.94zm10 10l.94 2.06.94-2.06 2.06-.94-2.06-.94-.94-2.06-.94 2.06-2.06.94z\"/><path d=\"M17.41 7.96l-1.37-1.37c-.4-.4-.92-.59-1.43-.59-.52 0-1.04.2-1.43.59L10.3 9.45l-7.72 7.72c-.78.78-.78 2.05 0 2.83L4 21.41c.39.39.9.59 1.41.59.51 0 1.02-.2 1.41-.59l7.78-7.78 2.81-2.81c.8-.78.8-2.07 0-2.86zM5.41 20L4 18.59l7.72-7.72 1.47 1.35L5.41 20z\"/>\n",
              "  </svg>\n",
              "      </button>\n",
              "      \n",
              "  <style>\n",
              "    .colab-df-container {\n",
              "      display:flex;\n",
              "      flex-wrap:wrap;\n",
              "      gap: 12px;\n",
              "    }\n",
              "\n",
              "    .colab-df-convert {\n",
              "      background-color: #E8F0FE;\n",
              "      border: none;\n",
              "      border-radius: 50%;\n",
              "      cursor: pointer;\n",
              "      display: none;\n",
              "      fill: #1967D2;\n",
              "      height: 32px;\n",
              "      padding: 0 0 0 0;\n",
              "      width: 32px;\n",
              "    }\n",
              "\n",
              "    .colab-df-convert:hover {\n",
              "      background-color: #E2EBFA;\n",
              "      box-shadow: 0px 1px 2px rgba(60, 64, 67, 0.3), 0px 1px 3px 1px rgba(60, 64, 67, 0.15);\n",
              "      fill: #174EA6;\n",
              "    }\n",
              "\n",
              "    [theme=dark] .colab-df-convert {\n",
              "      background-color: #3B4455;\n",
              "      fill: #D2E3FC;\n",
              "    }\n",
              "\n",
              "    [theme=dark] .colab-df-convert:hover {\n",
              "      background-color: #434B5C;\n",
              "      box-shadow: 0px 1px 3px 1px rgba(0, 0, 0, 0.15);\n",
              "      filter: drop-shadow(0px 1px 2px rgba(0, 0, 0, 0.3));\n",
              "      fill: #FFFFFF;\n",
              "    }\n",
              "  </style>\n",
              "\n",
              "      <script>\n",
              "        const buttonEl =\n",
              "          document.querySelector('#df-4fabb1df-5a32-4046-8ef9-94b34d9c0e31 button.colab-df-convert');\n",
              "        buttonEl.style.display =\n",
              "          google.colab.kernel.accessAllowed ? 'block' : 'none';\n",
              "\n",
              "        async function convertToInteractive(key) {\n",
              "          const element = document.querySelector('#df-4fabb1df-5a32-4046-8ef9-94b34d9c0e31');\n",
              "          const dataTable =\n",
              "            await google.colab.kernel.invokeFunction('convertToInteractive',\n",
              "                                                     [key], {});\n",
              "          if (!dataTable) return;\n",
              "\n",
              "          const docLinkHtml = 'Like what you see? Visit the ' +\n",
              "            '<a target=\"_blank\" href=https://colab.research.google.com/notebooks/data_table.ipynb>data table notebook</a>'\n",
              "            + ' to learn more about interactive tables.';\n",
              "          element.innerHTML = '';\n",
              "          dataTable['output_type'] = 'display_data';\n",
              "          await google.colab.output.renderOutput(dataTable, element);\n",
              "          const docLink = document.createElement('div');\n",
              "          docLink.innerHTML = docLinkHtml;\n",
              "          element.appendChild(docLink);\n",
              "        }\n",
              "      </script>\n",
              "    </div>\n",
              "  </div>\n",
              "  "
            ]
          },
          "metadata": {},
          "execution_count": 180
        }
      ]
    },
    {
      "cell_type": "code",
      "source": [
        "df.info()\n"
      ],
      "metadata": {
        "colab": {
          "base_uri": "https://localhost:8080/"
        },
        "id": "c3sRc3jnvrYU",
        "outputId": "b0d0df15-262d-45fa-be01-c2a892527db0"
      },
      "execution_count": 181,
      "outputs": [
        {
          "output_type": "stream",
          "name": "stdout",
          "text": [
            "<class 'pandas.core.frame.DataFrame'>\n",
            "RangeIndex: 8523 entries, 0 to 8522\n",
            "Data columns (total 12 columns):\n",
            " #   Column                     Non-Null Count  Dtype  \n",
            "---  ------                     --------------  -----  \n",
            " 0   Item_Identifier            8523 non-null   object \n",
            " 1   Item_Weight                7060 non-null   float64\n",
            " 2   Item_Fat_Content           8523 non-null   object \n",
            " 3   Item_Visibility            8523 non-null   float64\n",
            " 4   Item_Type                  8523 non-null   object \n",
            " 5   Item_MRP                   8523 non-null   float64\n",
            " 6   Outlet_Identifier          8523 non-null   object \n",
            " 7   Outlet_Establishment_Year  8523 non-null   int64  \n",
            " 8   Outlet_Size                6113 non-null   object \n",
            " 9   Outlet_Location_Type       8523 non-null   object \n",
            " 10  Outlet_Type                8523 non-null   object \n",
            " 11  Item_Outlet_Sales          8523 non-null   float64\n",
            "dtypes: float64(4), int64(1), object(7)\n",
            "memory usage: 799.2+ KB\n"
          ]
        }
      ]
    },
    {
      "cell_type": "markdown",
      "source": [
        "Según lo anterior, podemos apreciar datos nulos en \"Outlet_Size\" e Item_Weight\"."
      ],
      "metadata": {
        "id": "52prZBuFwb5f"
      }
    },
    {
      "cell_type": "code",
      "source": [
        "df[df['Item_Weight'].isna()]"
      ],
      "metadata": {
        "colab": {
          "base_uri": "https://localhost:8080/",
          "height": 644
        },
        "id": "ZbB8EuuR3MDj",
        "outputId": "eb780d4e-01a4-4f91-f046-d1f2964baed7"
      },
      "execution_count": 182,
      "outputs": [
        {
          "output_type": "execute_result",
          "data": {
            "text/plain": [
              "     Item_Identifier  Item_Weight Item_Fat_Content  Item_Visibility  \\\n",
              "7              FDP10          NaN          Low Fat         0.127470   \n",
              "18             DRI11          NaN          Low Fat         0.034238   \n",
              "21             FDW12          NaN          Regular         0.035400   \n",
              "23             FDC37          NaN          Low Fat         0.057557   \n",
              "29             FDC14          NaN          Regular         0.072222   \n",
              "...              ...          ...              ...              ...   \n",
              "8485           DRK37          NaN          Low Fat         0.043792   \n",
              "8487           DRG13          NaN          Low Fat         0.037006   \n",
              "8488           NCN14          NaN          Low Fat         0.091473   \n",
              "8490           FDU44          NaN          Regular         0.102296   \n",
              "8504           NCN18          NaN          Low Fat         0.124111   \n",
              "\n",
              "                  Item_Type  Item_MRP Outlet_Identifier  \\\n",
              "7               Snack Foods  107.7622            OUT027   \n",
              "18              Hard Drinks  113.2834            OUT027   \n",
              "21             Baking Goods  144.5444            OUT027   \n",
              "23             Baking Goods  107.6938            OUT019   \n",
              "29                   Canned   43.6454            OUT019   \n",
              "...                     ...       ...               ...   \n",
              "8485            Soft Drinks  189.0530            OUT027   \n",
              "8487            Soft Drinks  164.7526            OUT027   \n",
              "8488                 Others  184.6608            OUT027   \n",
              "8490  Fruits and Vegetables  162.3552            OUT019   \n",
              "8504              Household  111.7544            OUT027   \n",
              "\n",
              "      Outlet_Establishment_Year Outlet_Size Outlet_Location_Type  \\\n",
              "7                          1985      Medium               Tier 3   \n",
              "18                         1985      Medium               Tier 3   \n",
              "21                         1985      Medium               Tier 3   \n",
              "23                         1985       Small               Tier 1   \n",
              "29                         1985       Small               Tier 1   \n",
              "...                         ...         ...                  ...   \n",
              "8485                       1985      Medium               Tier 3   \n",
              "8487                       1985      Medium               Tier 3   \n",
              "8488                       1985      Medium               Tier 3   \n",
              "8490                       1985       Small               Tier 1   \n",
              "8504                       1985      Medium               Tier 3   \n",
              "\n",
              "            Outlet_Type  Item_Outlet_Sales  \n",
              "7     Supermarket Type3          4022.7636  \n",
              "18    Supermarket Type3          2303.6680  \n",
              "21    Supermarket Type3          4064.0432  \n",
              "23        Grocery Store           214.3876  \n",
              "29        Grocery Store           125.8362  \n",
              "...                 ...                ...  \n",
              "8485  Supermarket Type3          6261.8490  \n",
              "8487  Supermarket Type3          4111.3150  \n",
              "8488  Supermarket Type3          2756.4120  \n",
              "8490      Grocery Store           487.3656  \n",
              "8504  Supermarket Type3          4138.6128  \n",
              "\n",
              "[1463 rows x 12 columns]"
            ],
            "text/html": [
              "\n",
              "  <div id=\"df-d2e5a21a-02ac-4c76-a1f5-26d4f4cce4c7\">\n",
              "    <div class=\"colab-df-container\">\n",
              "      <div>\n",
              "<style scoped>\n",
              "    .dataframe tbody tr th:only-of-type {\n",
              "        vertical-align: middle;\n",
              "    }\n",
              "\n",
              "    .dataframe tbody tr th {\n",
              "        vertical-align: top;\n",
              "    }\n",
              "\n",
              "    .dataframe thead th {\n",
              "        text-align: right;\n",
              "    }\n",
              "</style>\n",
              "<table border=\"1\" class=\"dataframe\">\n",
              "  <thead>\n",
              "    <tr style=\"text-align: right;\">\n",
              "      <th></th>\n",
              "      <th>Item_Identifier</th>\n",
              "      <th>Item_Weight</th>\n",
              "      <th>Item_Fat_Content</th>\n",
              "      <th>Item_Visibility</th>\n",
              "      <th>Item_Type</th>\n",
              "      <th>Item_MRP</th>\n",
              "      <th>Outlet_Identifier</th>\n",
              "      <th>Outlet_Establishment_Year</th>\n",
              "      <th>Outlet_Size</th>\n",
              "      <th>Outlet_Location_Type</th>\n",
              "      <th>Outlet_Type</th>\n",
              "      <th>Item_Outlet_Sales</th>\n",
              "    </tr>\n",
              "  </thead>\n",
              "  <tbody>\n",
              "    <tr>\n",
              "      <th>7</th>\n",
              "      <td>FDP10</td>\n",
              "      <td>NaN</td>\n",
              "      <td>Low Fat</td>\n",
              "      <td>0.127470</td>\n",
              "      <td>Snack Foods</td>\n",
              "      <td>107.7622</td>\n",
              "      <td>OUT027</td>\n",
              "      <td>1985</td>\n",
              "      <td>Medium</td>\n",
              "      <td>Tier 3</td>\n",
              "      <td>Supermarket Type3</td>\n",
              "      <td>4022.7636</td>\n",
              "    </tr>\n",
              "    <tr>\n",
              "      <th>18</th>\n",
              "      <td>DRI11</td>\n",
              "      <td>NaN</td>\n",
              "      <td>Low Fat</td>\n",
              "      <td>0.034238</td>\n",
              "      <td>Hard Drinks</td>\n",
              "      <td>113.2834</td>\n",
              "      <td>OUT027</td>\n",
              "      <td>1985</td>\n",
              "      <td>Medium</td>\n",
              "      <td>Tier 3</td>\n",
              "      <td>Supermarket Type3</td>\n",
              "      <td>2303.6680</td>\n",
              "    </tr>\n",
              "    <tr>\n",
              "      <th>21</th>\n",
              "      <td>FDW12</td>\n",
              "      <td>NaN</td>\n",
              "      <td>Regular</td>\n",
              "      <td>0.035400</td>\n",
              "      <td>Baking Goods</td>\n",
              "      <td>144.5444</td>\n",
              "      <td>OUT027</td>\n",
              "      <td>1985</td>\n",
              "      <td>Medium</td>\n",
              "      <td>Tier 3</td>\n",
              "      <td>Supermarket Type3</td>\n",
              "      <td>4064.0432</td>\n",
              "    </tr>\n",
              "    <tr>\n",
              "      <th>23</th>\n",
              "      <td>FDC37</td>\n",
              "      <td>NaN</td>\n",
              "      <td>Low Fat</td>\n",
              "      <td>0.057557</td>\n",
              "      <td>Baking Goods</td>\n",
              "      <td>107.6938</td>\n",
              "      <td>OUT019</td>\n",
              "      <td>1985</td>\n",
              "      <td>Small</td>\n",
              "      <td>Tier 1</td>\n",
              "      <td>Grocery Store</td>\n",
              "      <td>214.3876</td>\n",
              "    </tr>\n",
              "    <tr>\n",
              "      <th>29</th>\n",
              "      <td>FDC14</td>\n",
              "      <td>NaN</td>\n",
              "      <td>Regular</td>\n",
              "      <td>0.072222</td>\n",
              "      <td>Canned</td>\n",
              "      <td>43.6454</td>\n",
              "      <td>OUT019</td>\n",
              "      <td>1985</td>\n",
              "      <td>Small</td>\n",
              "      <td>Tier 1</td>\n",
              "      <td>Grocery Store</td>\n",
              "      <td>125.8362</td>\n",
              "    </tr>\n",
              "    <tr>\n",
              "      <th>...</th>\n",
              "      <td>...</td>\n",
              "      <td>...</td>\n",
              "      <td>...</td>\n",
              "      <td>...</td>\n",
              "      <td>...</td>\n",
              "      <td>...</td>\n",
              "      <td>...</td>\n",
              "      <td>...</td>\n",
              "      <td>...</td>\n",
              "      <td>...</td>\n",
              "      <td>...</td>\n",
              "      <td>...</td>\n",
              "    </tr>\n",
              "    <tr>\n",
              "      <th>8485</th>\n",
              "      <td>DRK37</td>\n",
              "      <td>NaN</td>\n",
              "      <td>Low Fat</td>\n",
              "      <td>0.043792</td>\n",
              "      <td>Soft Drinks</td>\n",
              "      <td>189.0530</td>\n",
              "      <td>OUT027</td>\n",
              "      <td>1985</td>\n",
              "      <td>Medium</td>\n",
              "      <td>Tier 3</td>\n",
              "      <td>Supermarket Type3</td>\n",
              "      <td>6261.8490</td>\n",
              "    </tr>\n",
              "    <tr>\n",
              "      <th>8487</th>\n",
              "      <td>DRG13</td>\n",
              "      <td>NaN</td>\n",
              "      <td>Low Fat</td>\n",
              "      <td>0.037006</td>\n",
              "      <td>Soft Drinks</td>\n",
              "      <td>164.7526</td>\n",
              "      <td>OUT027</td>\n",
              "      <td>1985</td>\n",
              "      <td>Medium</td>\n",
              "      <td>Tier 3</td>\n",
              "      <td>Supermarket Type3</td>\n",
              "      <td>4111.3150</td>\n",
              "    </tr>\n",
              "    <tr>\n",
              "      <th>8488</th>\n",
              "      <td>NCN14</td>\n",
              "      <td>NaN</td>\n",
              "      <td>Low Fat</td>\n",
              "      <td>0.091473</td>\n",
              "      <td>Others</td>\n",
              "      <td>184.6608</td>\n",
              "      <td>OUT027</td>\n",
              "      <td>1985</td>\n",
              "      <td>Medium</td>\n",
              "      <td>Tier 3</td>\n",
              "      <td>Supermarket Type3</td>\n",
              "      <td>2756.4120</td>\n",
              "    </tr>\n",
              "    <tr>\n",
              "      <th>8490</th>\n",
              "      <td>FDU44</td>\n",
              "      <td>NaN</td>\n",
              "      <td>Regular</td>\n",
              "      <td>0.102296</td>\n",
              "      <td>Fruits and Vegetables</td>\n",
              "      <td>162.3552</td>\n",
              "      <td>OUT019</td>\n",
              "      <td>1985</td>\n",
              "      <td>Small</td>\n",
              "      <td>Tier 1</td>\n",
              "      <td>Grocery Store</td>\n",
              "      <td>487.3656</td>\n",
              "    </tr>\n",
              "    <tr>\n",
              "      <th>8504</th>\n",
              "      <td>NCN18</td>\n",
              "      <td>NaN</td>\n",
              "      <td>Low Fat</td>\n",
              "      <td>0.124111</td>\n",
              "      <td>Household</td>\n",
              "      <td>111.7544</td>\n",
              "      <td>OUT027</td>\n",
              "      <td>1985</td>\n",
              "      <td>Medium</td>\n",
              "      <td>Tier 3</td>\n",
              "      <td>Supermarket Type3</td>\n",
              "      <td>4138.6128</td>\n",
              "    </tr>\n",
              "  </tbody>\n",
              "</table>\n",
              "<p>1463 rows × 12 columns</p>\n",
              "</div>\n",
              "      <button class=\"colab-df-convert\" onclick=\"convertToInteractive('df-d2e5a21a-02ac-4c76-a1f5-26d4f4cce4c7')\"\n",
              "              title=\"Convert this dataframe to an interactive table.\"\n",
              "              style=\"display:none;\">\n",
              "        \n",
              "  <svg xmlns=\"http://www.w3.org/2000/svg\" height=\"24px\"viewBox=\"0 0 24 24\"\n",
              "       width=\"24px\">\n",
              "    <path d=\"M0 0h24v24H0V0z\" fill=\"none\"/>\n",
              "    <path d=\"M18.56 5.44l.94 2.06.94-2.06 2.06-.94-2.06-.94-.94-2.06-.94 2.06-2.06.94zm-11 1L8.5 8.5l.94-2.06 2.06-.94-2.06-.94L8.5 2.5l-.94 2.06-2.06.94zm10 10l.94 2.06.94-2.06 2.06-.94-2.06-.94-.94-2.06-.94 2.06-2.06.94z\"/><path d=\"M17.41 7.96l-1.37-1.37c-.4-.4-.92-.59-1.43-.59-.52 0-1.04.2-1.43.59L10.3 9.45l-7.72 7.72c-.78.78-.78 2.05 0 2.83L4 21.41c.39.39.9.59 1.41.59.51 0 1.02-.2 1.41-.59l7.78-7.78 2.81-2.81c.8-.78.8-2.07 0-2.86zM5.41 20L4 18.59l7.72-7.72 1.47 1.35L5.41 20z\"/>\n",
              "  </svg>\n",
              "      </button>\n",
              "      \n",
              "  <style>\n",
              "    .colab-df-container {\n",
              "      display:flex;\n",
              "      flex-wrap:wrap;\n",
              "      gap: 12px;\n",
              "    }\n",
              "\n",
              "    .colab-df-convert {\n",
              "      background-color: #E8F0FE;\n",
              "      border: none;\n",
              "      border-radius: 50%;\n",
              "      cursor: pointer;\n",
              "      display: none;\n",
              "      fill: #1967D2;\n",
              "      height: 32px;\n",
              "      padding: 0 0 0 0;\n",
              "      width: 32px;\n",
              "    }\n",
              "\n",
              "    .colab-df-convert:hover {\n",
              "      background-color: #E2EBFA;\n",
              "      box-shadow: 0px 1px 2px rgba(60, 64, 67, 0.3), 0px 1px 3px 1px rgba(60, 64, 67, 0.15);\n",
              "      fill: #174EA6;\n",
              "    }\n",
              "\n",
              "    [theme=dark] .colab-df-convert {\n",
              "      background-color: #3B4455;\n",
              "      fill: #D2E3FC;\n",
              "    }\n",
              "\n",
              "    [theme=dark] .colab-df-convert:hover {\n",
              "      background-color: #434B5C;\n",
              "      box-shadow: 0px 1px 3px 1px rgba(0, 0, 0, 0.15);\n",
              "      filter: drop-shadow(0px 1px 2px rgba(0, 0, 0, 0.3));\n",
              "      fill: #FFFFFF;\n",
              "    }\n",
              "  </style>\n",
              "\n",
              "      <script>\n",
              "        const buttonEl =\n",
              "          document.querySelector('#df-d2e5a21a-02ac-4c76-a1f5-26d4f4cce4c7 button.colab-df-convert');\n",
              "        buttonEl.style.display =\n",
              "          google.colab.kernel.accessAllowed ? 'block' : 'none';\n",
              "\n",
              "        async function convertToInteractive(key) {\n",
              "          const element = document.querySelector('#df-d2e5a21a-02ac-4c76-a1f5-26d4f4cce4c7');\n",
              "          const dataTable =\n",
              "            await google.colab.kernel.invokeFunction('convertToInteractive',\n",
              "                                                     [key], {});\n",
              "          if (!dataTable) return;\n",
              "\n",
              "          const docLinkHtml = 'Like what you see? Visit the ' +\n",
              "            '<a target=\"_blank\" href=https://colab.research.google.com/notebooks/data_table.ipynb>data table notebook</a>'\n",
              "            + ' to learn more about interactive tables.';\n",
              "          element.innerHTML = '';\n",
              "          dataTable['output_type'] = 'display_data';\n",
              "          await google.colab.output.renderOutput(dataTable, element);\n",
              "          const docLink = document.createElement('div');\n",
              "          docLink.innerHTML = docLinkHtml;\n",
              "          element.appendChild(docLink);\n",
              "        }\n",
              "      </script>\n",
              "    </div>\n",
              "  </div>\n",
              "  "
            ]
          },
          "metadata": {},
          "execution_count": 182
        }
      ]
    },
    {
      "cell_type": "code",
      "source": [
        "#ocuparemos el metodo fillna para rellenar datos faltantes de en item weight, ya que es un dato numérico y no queremos perder \n",
        "#valiosa información de las otras columnas, haremos una imputacion usando el valor proedio\n",
        "\n",
        "values = {\"Item_Weight\": df[\"Item_Weight\"].mean()}\n",
        "df= df.fillna(value=values)\n",
        "#como el elemento 7 es un NaN, chequeamos con los primeros 10 elementos para ver si la imputacion fue la correcta\n",
        "df.head(10)"
      ],
      "metadata": {
        "colab": {
          "base_uri": "https://localhost:8080/",
          "height": 600
        },
        "id": "q_4uPwrSvszv",
        "outputId": "e28186d0-5bd9-41f3-a7cc-87b2fec58b3b"
      },
      "execution_count": 183,
      "outputs": [
        {
          "output_type": "execute_result",
          "data": {
            "text/plain": [
              "  Item_Identifier  Item_Weight Item_Fat_Content  Item_Visibility  \\\n",
              "0           FDA15     9.300000          Low Fat         0.016047   \n",
              "1           DRC01     5.920000          Regular         0.019278   \n",
              "2           FDN15    17.500000          Low Fat         0.016760   \n",
              "3           FDX07    19.200000          Regular         0.000000   \n",
              "4           NCD19     8.930000          Low Fat         0.000000   \n",
              "5           FDP36    10.395000          Regular         0.000000   \n",
              "6           FDO10    13.650000          Regular         0.012741   \n",
              "7           FDP10    12.857645          Low Fat         0.127470   \n",
              "8           FDH17    16.200000          Regular         0.016687   \n",
              "9           FDU28    19.200000          Regular         0.094450   \n",
              "\n",
              "               Item_Type  Item_MRP Outlet_Identifier  \\\n",
              "0                  Dairy  249.8092            OUT049   \n",
              "1            Soft Drinks   48.2692            OUT018   \n",
              "2                   Meat  141.6180            OUT049   \n",
              "3  Fruits and Vegetables  182.0950            OUT010   \n",
              "4              Household   53.8614            OUT013   \n",
              "5           Baking Goods   51.4008            OUT018   \n",
              "6            Snack Foods   57.6588            OUT013   \n",
              "7            Snack Foods  107.7622            OUT027   \n",
              "8           Frozen Foods   96.9726            OUT045   \n",
              "9           Frozen Foods  187.8214            OUT017   \n",
              "\n",
              "   Outlet_Establishment_Year Outlet_Size Outlet_Location_Type  \\\n",
              "0                       1999      Medium               Tier 1   \n",
              "1                       2009      Medium               Tier 3   \n",
              "2                       1999      Medium               Tier 1   \n",
              "3                       1998         NaN               Tier 3   \n",
              "4                       1987        High               Tier 3   \n",
              "5                       2009      Medium               Tier 3   \n",
              "6                       1987        High               Tier 3   \n",
              "7                       1985      Medium               Tier 3   \n",
              "8                       2002         NaN               Tier 2   \n",
              "9                       2007         NaN               Tier 2   \n",
              "\n",
              "         Outlet_Type  Item_Outlet_Sales  \n",
              "0  Supermarket Type1          3735.1380  \n",
              "1  Supermarket Type2           443.4228  \n",
              "2  Supermarket Type1          2097.2700  \n",
              "3      Grocery Store           732.3800  \n",
              "4  Supermarket Type1           994.7052  \n",
              "5  Supermarket Type2           556.6088  \n",
              "6  Supermarket Type1           343.5528  \n",
              "7  Supermarket Type3          4022.7636  \n",
              "8  Supermarket Type1          1076.5986  \n",
              "9  Supermarket Type1          4710.5350  "
            ],
            "text/html": [
              "\n",
              "  <div id=\"df-048ff551-1ea1-4d98-bb54-4c67890ed7f5\">\n",
              "    <div class=\"colab-df-container\">\n",
              "      <div>\n",
              "<style scoped>\n",
              "    .dataframe tbody tr th:only-of-type {\n",
              "        vertical-align: middle;\n",
              "    }\n",
              "\n",
              "    .dataframe tbody tr th {\n",
              "        vertical-align: top;\n",
              "    }\n",
              "\n",
              "    .dataframe thead th {\n",
              "        text-align: right;\n",
              "    }\n",
              "</style>\n",
              "<table border=\"1\" class=\"dataframe\">\n",
              "  <thead>\n",
              "    <tr style=\"text-align: right;\">\n",
              "      <th></th>\n",
              "      <th>Item_Identifier</th>\n",
              "      <th>Item_Weight</th>\n",
              "      <th>Item_Fat_Content</th>\n",
              "      <th>Item_Visibility</th>\n",
              "      <th>Item_Type</th>\n",
              "      <th>Item_MRP</th>\n",
              "      <th>Outlet_Identifier</th>\n",
              "      <th>Outlet_Establishment_Year</th>\n",
              "      <th>Outlet_Size</th>\n",
              "      <th>Outlet_Location_Type</th>\n",
              "      <th>Outlet_Type</th>\n",
              "      <th>Item_Outlet_Sales</th>\n",
              "    </tr>\n",
              "  </thead>\n",
              "  <tbody>\n",
              "    <tr>\n",
              "      <th>0</th>\n",
              "      <td>FDA15</td>\n",
              "      <td>9.300000</td>\n",
              "      <td>Low Fat</td>\n",
              "      <td>0.016047</td>\n",
              "      <td>Dairy</td>\n",
              "      <td>249.8092</td>\n",
              "      <td>OUT049</td>\n",
              "      <td>1999</td>\n",
              "      <td>Medium</td>\n",
              "      <td>Tier 1</td>\n",
              "      <td>Supermarket Type1</td>\n",
              "      <td>3735.1380</td>\n",
              "    </tr>\n",
              "    <tr>\n",
              "      <th>1</th>\n",
              "      <td>DRC01</td>\n",
              "      <td>5.920000</td>\n",
              "      <td>Regular</td>\n",
              "      <td>0.019278</td>\n",
              "      <td>Soft Drinks</td>\n",
              "      <td>48.2692</td>\n",
              "      <td>OUT018</td>\n",
              "      <td>2009</td>\n",
              "      <td>Medium</td>\n",
              "      <td>Tier 3</td>\n",
              "      <td>Supermarket Type2</td>\n",
              "      <td>443.4228</td>\n",
              "    </tr>\n",
              "    <tr>\n",
              "      <th>2</th>\n",
              "      <td>FDN15</td>\n",
              "      <td>17.500000</td>\n",
              "      <td>Low Fat</td>\n",
              "      <td>0.016760</td>\n",
              "      <td>Meat</td>\n",
              "      <td>141.6180</td>\n",
              "      <td>OUT049</td>\n",
              "      <td>1999</td>\n",
              "      <td>Medium</td>\n",
              "      <td>Tier 1</td>\n",
              "      <td>Supermarket Type1</td>\n",
              "      <td>2097.2700</td>\n",
              "    </tr>\n",
              "    <tr>\n",
              "      <th>3</th>\n",
              "      <td>FDX07</td>\n",
              "      <td>19.200000</td>\n",
              "      <td>Regular</td>\n",
              "      <td>0.000000</td>\n",
              "      <td>Fruits and Vegetables</td>\n",
              "      <td>182.0950</td>\n",
              "      <td>OUT010</td>\n",
              "      <td>1998</td>\n",
              "      <td>NaN</td>\n",
              "      <td>Tier 3</td>\n",
              "      <td>Grocery Store</td>\n",
              "      <td>732.3800</td>\n",
              "    </tr>\n",
              "    <tr>\n",
              "      <th>4</th>\n",
              "      <td>NCD19</td>\n",
              "      <td>8.930000</td>\n",
              "      <td>Low Fat</td>\n",
              "      <td>0.000000</td>\n",
              "      <td>Household</td>\n",
              "      <td>53.8614</td>\n",
              "      <td>OUT013</td>\n",
              "      <td>1987</td>\n",
              "      <td>High</td>\n",
              "      <td>Tier 3</td>\n",
              "      <td>Supermarket Type1</td>\n",
              "      <td>994.7052</td>\n",
              "    </tr>\n",
              "    <tr>\n",
              "      <th>5</th>\n",
              "      <td>FDP36</td>\n",
              "      <td>10.395000</td>\n",
              "      <td>Regular</td>\n",
              "      <td>0.000000</td>\n",
              "      <td>Baking Goods</td>\n",
              "      <td>51.4008</td>\n",
              "      <td>OUT018</td>\n",
              "      <td>2009</td>\n",
              "      <td>Medium</td>\n",
              "      <td>Tier 3</td>\n",
              "      <td>Supermarket Type2</td>\n",
              "      <td>556.6088</td>\n",
              "    </tr>\n",
              "    <tr>\n",
              "      <th>6</th>\n",
              "      <td>FDO10</td>\n",
              "      <td>13.650000</td>\n",
              "      <td>Regular</td>\n",
              "      <td>0.012741</td>\n",
              "      <td>Snack Foods</td>\n",
              "      <td>57.6588</td>\n",
              "      <td>OUT013</td>\n",
              "      <td>1987</td>\n",
              "      <td>High</td>\n",
              "      <td>Tier 3</td>\n",
              "      <td>Supermarket Type1</td>\n",
              "      <td>343.5528</td>\n",
              "    </tr>\n",
              "    <tr>\n",
              "      <th>7</th>\n",
              "      <td>FDP10</td>\n",
              "      <td>12.857645</td>\n",
              "      <td>Low Fat</td>\n",
              "      <td>0.127470</td>\n",
              "      <td>Snack Foods</td>\n",
              "      <td>107.7622</td>\n",
              "      <td>OUT027</td>\n",
              "      <td>1985</td>\n",
              "      <td>Medium</td>\n",
              "      <td>Tier 3</td>\n",
              "      <td>Supermarket Type3</td>\n",
              "      <td>4022.7636</td>\n",
              "    </tr>\n",
              "    <tr>\n",
              "      <th>8</th>\n",
              "      <td>FDH17</td>\n",
              "      <td>16.200000</td>\n",
              "      <td>Regular</td>\n",
              "      <td>0.016687</td>\n",
              "      <td>Frozen Foods</td>\n",
              "      <td>96.9726</td>\n",
              "      <td>OUT045</td>\n",
              "      <td>2002</td>\n",
              "      <td>NaN</td>\n",
              "      <td>Tier 2</td>\n",
              "      <td>Supermarket Type1</td>\n",
              "      <td>1076.5986</td>\n",
              "    </tr>\n",
              "    <tr>\n",
              "      <th>9</th>\n",
              "      <td>FDU28</td>\n",
              "      <td>19.200000</td>\n",
              "      <td>Regular</td>\n",
              "      <td>0.094450</td>\n",
              "      <td>Frozen Foods</td>\n",
              "      <td>187.8214</td>\n",
              "      <td>OUT017</td>\n",
              "      <td>2007</td>\n",
              "      <td>NaN</td>\n",
              "      <td>Tier 2</td>\n",
              "      <td>Supermarket Type1</td>\n",
              "      <td>4710.5350</td>\n",
              "    </tr>\n",
              "  </tbody>\n",
              "</table>\n",
              "</div>\n",
              "      <button class=\"colab-df-convert\" onclick=\"convertToInteractive('df-048ff551-1ea1-4d98-bb54-4c67890ed7f5')\"\n",
              "              title=\"Convert this dataframe to an interactive table.\"\n",
              "              style=\"display:none;\">\n",
              "        \n",
              "  <svg xmlns=\"http://www.w3.org/2000/svg\" height=\"24px\"viewBox=\"0 0 24 24\"\n",
              "       width=\"24px\">\n",
              "    <path d=\"M0 0h24v24H0V0z\" fill=\"none\"/>\n",
              "    <path d=\"M18.56 5.44l.94 2.06.94-2.06 2.06-.94-2.06-.94-.94-2.06-.94 2.06-2.06.94zm-11 1L8.5 8.5l.94-2.06 2.06-.94-2.06-.94L8.5 2.5l-.94 2.06-2.06.94zm10 10l.94 2.06.94-2.06 2.06-.94-2.06-.94-.94-2.06-.94 2.06-2.06.94z\"/><path d=\"M17.41 7.96l-1.37-1.37c-.4-.4-.92-.59-1.43-.59-.52 0-1.04.2-1.43.59L10.3 9.45l-7.72 7.72c-.78.78-.78 2.05 0 2.83L4 21.41c.39.39.9.59 1.41.59.51 0 1.02-.2 1.41-.59l7.78-7.78 2.81-2.81c.8-.78.8-2.07 0-2.86zM5.41 20L4 18.59l7.72-7.72 1.47 1.35L5.41 20z\"/>\n",
              "  </svg>\n",
              "      </button>\n",
              "      \n",
              "  <style>\n",
              "    .colab-df-container {\n",
              "      display:flex;\n",
              "      flex-wrap:wrap;\n",
              "      gap: 12px;\n",
              "    }\n",
              "\n",
              "    .colab-df-convert {\n",
              "      background-color: #E8F0FE;\n",
              "      border: none;\n",
              "      border-radius: 50%;\n",
              "      cursor: pointer;\n",
              "      display: none;\n",
              "      fill: #1967D2;\n",
              "      height: 32px;\n",
              "      padding: 0 0 0 0;\n",
              "      width: 32px;\n",
              "    }\n",
              "\n",
              "    .colab-df-convert:hover {\n",
              "      background-color: #E2EBFA;\n",
              "      box-shadow: 0px 1px 2px rgba(60, 64, 67, 0.3), 0px 1px 3px 1px rgba(60, 64, 67, 0.15);\n",
              "      fill: #174EA6;\n",
              "    }\n",
              "\n",
              "    [theme=dark] .colab-df-convert {\n",
              "      background-color: #3B4455;\n",
              "      fill: #D2E3FC;\n",
              "    }\n",
              "\n",
              "    [theme=dark] .colab-df-convert:hover {\n",
              "      background-color: #434B5C;\n",
              "      box-shadow: 0px 1px 3px 1px rgba(0, 0, 0, 0.15);\n",
              "      filter: drop-shadow(0px 1px 2px rgba(0, 0, 0, 0.3));\n",
              "      fill: #FFFFFF;\n",
              "    }\n",
              "  </style>\n",
              "\n",
              "      <script>\n",
              "        const buttonEl =\n",
              "          document.querySelector('#df-048ff551-1ea1-4d98-bb54-4c67890ed7f5 button.colab-df-convert');\n",
              "        buttonEl.style.display =\n",
              "          google.colab.kernel.accessAllowed ? 'block' : 'none';\n",
              "\n",
              "        async function convertToInteractive(key) {\n",
              "          const element = document.querySelector('#df-048ff551-1ea1-4d98-bb54-4c67890ed7f5');\n",
              "          const dataTable =\n",
              "            await google.colab.kernel.invokeFunction('convertToInteractive',\n",
              "                                                     [key], {});\n",
              "          if (!dataTable) return;\n",
              "\n",
              "          const docLinkHtml = 'Like what you see? Visit the ' +\n",
              "            '<a target=\"_blank\" href=https://colab.research.google.com/notebooks/data_table.ipynb>data table notebook</a>'\n",
              "            + ' to learn more about interactive tables.';\n",
              "          element.innerHTML = '';\n",
              "          dataTable['output_type'] = 'display_data';\n",
              "          await google.colab.output.renderOutput(dataTable, element);\n",
              "          const docLink = document.createElement('div');\n",
              "          docLink.innerHTML = docLinkHtml;\n",
              "          element.appendChild(docLink);\n",
              "        }\n",
              "      </script>\n",
              "    </div>\n",
              "  </div>\n",
              "  "
            ]
          },
          "metadata": {},
          "execution_count": 183
        }
      ]
    },
    {
      "cell_type": "code",
      "source": [
        "#revisamos si efectivamente se imputaron los valores correctamente en todas las filas con datos faltantes en Item Weight\n",
        "df.info()"
      ],
      "metadata": {
        "colab": {
          "base_uri": "https://localhost:8080/"
        },
        "id": "6v-3YH622zQ3",
        "outputId": "3f31c69e-5f51-47ad-db23-a395d52ca805"
      },
      "execution_count": 184,
      "outputs": [
        {
          "output_type": "stream",
          "name": "stdout",
          "text": [
            "<class 'pandas.core.frame.DataFrame'>\n",
            "RangeIndex: 8523 entries, 0 to 8522\n",
            "Data columns (total 12 columns):\n",
            " #   Column                     Non-Null Count  Dtype  \n",
            "---  ------                     --------------  -----  \n",
            " 0   Item_Identifier            8523 non-null   object \n",
            " 1   Item_Weight                8523 non-null   float64\n",
            " 2   Item_Fat_Content           8523 non-null   object \n",
            " 3   Item_Visibility            8523 non-null   float64\n",
            " 4   Item_Type                  8523 non-null   object \n",
            " 5   Item_MRP                   8523 non-null   float64\n",
            " 6   Outlet_Identifier          8523 non-null   object \n",
            " 7   Outlet_Establishment_Year  8523 non-null   int64  \n",
            " 8   Outlet_Size                6113 non-null   object \n",
            " 9   Outlet_Location_Type       8523 non-null   object \n",
            " 10  Outlet_Type                8523 non-null   object \n",
            " 11  Item_Outlet_Sales          8523 non-null   float64\n",
            "dtypes: float64(4), int64(1), object(7)\n",
            "memory usage: 799.2+ KB\n"
          ]
        }
      ]
    },
    {
      "cell_type": "markdown",
      "source": [
        "En el caso de Outlet Size, al ser la variable tipo string, podemos rellenar con el valor más frecuente, o sea la moda si no deseamos borrar el dato.\n",
        "Creo que es importante no borrar el dato, ya que el tamaño de la tienda es menos relevante que toda la informacion del producto en si.\n",
        "\n",
        "\n",
        "\n",
        "\n",
        "\n"
      ],
      "metadata": {
        "id": "9e-Xt0bm5Zyp"
      }
    },
    {
      "cell_type": "code",
      "source": [
        "df['Outlet_Size'].value_counts()"
      ],
      "metadata": {
        "colab": {
          "base_uri": "https://localhost:8080/"
        },
        "id": "192q3pQoiuTa",
        "outputId": "ed7e8195-eeef-435f-c216-99730b60ae48"
      },
      "execution_count": 185,
      "outputs": [
        {
          "output_type": "execute_result",
          "data": {
            "text/plain": [
              "Medium    2793\n",
              "Small     2388\n",
              "High       932\n",
              "Name: Outlet_Size, dtype: int64"
            ]
          },
          "metadata": {},
          "execution_count": 185
        }
      ]
    },
    {
      "cell_type": "code",
      "source": [
        "df[\"Outlet_Size\"]= df[\"Outlet_Size\"].fillna(\"Medium\")#dado que \"Medium es la moda, rellenaremos con ese valor\"\n",
        "df['Outlet_Size'].value_counts()"
      ],
      "metadata": {
        "colab": {
          "base_uri": "https://localhost:8080/"
        },
        "id": "mc8CWa4x4nIL",
        "outputId": "13d05976-b636-48b9-ad1e-9a18bdd71ecd"
      },
      "execution_count": 186,
      "outputs": [
        {
          "output_type": "execute_result",
          "data": {
            "text/plain": [
              "Medium    5203\n",
              "Small     2388\n",
              "High       932\n",
              "Name: Outlet_Size, dtype: int64"
            ]
          },
          "metadata": {},
          "execution_count": 186
        }
      ]
    },
    {
      "cell_type": "code",
      "source": [
        "df.info()"
      ],
      "metadata": {
        "colab": {
          "base_uri": "https://localhost:8080/"
        },
        "id": "T8nV-4qhHXMs",
        "outputId": "8d591021-ccfe-4be1-f6b3-50034207ec10"
      },
      "execution_count": 187,
      "outputs": [
        {
          "output_type": "stream",
          "name": "stdout",
          "text": [
            "<class 'pandas.core.frame.DataFrame'>\n",
            "RangeIndex: 8523 entries, 0 to 8522\n",
            "Data columns (total 12 columns):\n",
            " #   Column                     Non-Null Count  Dtype  \n",
            "---  ------                     --------------  -----  \n",
            " 0   Item_Identifier            8523 non-null   object \n",
            " 1   Item_Weight                8523 non-null   float64\n",
            " 2   Item_Fat_Content           8523 non-null   object \n",
            " 3   Item_Visibility            8523 non-null   float64\n",
            " 4   Item_Type                  8523 non-null   object \n",
            " 5   Item_MRP                   8523 non-null   float64\n",
            " 6   Outlet_Identifier          8523 non-null   object \n",
            " 7   Outlet_Establishment_Year  8523 non-null   int64  \n",
            " 8   Outlet_Size                8523 non-null   object \n",
            " 9   Outlet_Location_Type       8523 non-null   object \n",
            " 10  Outlet_Type                8523 non-null   object \n",
            " 11  Item_Outlet_Sales          8523 non-null   float64\n",
            "dtypes: float64(4), int64(1), object(7)\n",
            "memory usage: 799.2+ KB\n"
          ]
        }
      ]
    },
    {
      "cell_type": "code",
      "source": [
        "#Ya podemos empezar a analizar la información y generar datos estadísticos de ella."
      ],
      "metadata": {
        "id": "xJ39VM8LIpB3"
      },
      "execution_count": 188,
      "outputs": []
    },
    {
      "cell_type": "code",
      "source": [
        "#partiremos viendo los tipos de alimentos\n",
        "df[\"Item_Type\"].value_counts()"
      ],
      "metadata": {
        "colab": {
          "base_uri": "https://localhost:8080/"
        },
        "id": "S7t1Ww56IpKQ",
        "outputId": "b47136b7-f17d-48ee-f92f-7c7394a7f6d1"
      },
      "execution_count": 189,
      "outputs": [
        {
          "output_type": "execute_result",
          "data": {
            "text/plain": [
              "Fruits and Vegetables    1232\n",
              "Snack Foods              1200\n",
              "Household                 910\n",
              "Frozen Foods              856\n",
              "Dairy                     682\n",
              "Canned                    649\n",
              "Baking Goods              648\n",
              "Health and Hygiene        520\n",
              "Soft Drinks               445\n",
              "Meat                      425\n",
              "Breads                    251\n",
              "Hard Drinks               214\n",
              "Others                    169\n",
              "Starchy Foods             148\n",
              "Breakfast                 110\n",
              "Seafood                    64\n",
              "Name: Item_Type, dtype: int64"
            ]
          },
          "metadata": {},
          "execution_count": 189
        }
      ]
    },
    {
      "cell_type": "code",
      "source": [
        "#lo que más hay son frutas y vegetales, seguido de snacks\n",
        "#ahora veremos los tipos de alimentos y su visibilidad promedio\n",
        "df.groupby([\"Item_Type\"])[\"Item_Visibility\"].mean()"
      ],
      "metadata": {
        "colab": {
          "base_uri": "https://localhost:8080/"
        },
        "id": "Ow2wiUh2IpUB",
        "outputId": "ee274a5b-5de0-4e8b-ad72-1f0aa5fc7a8e"
      },
      "execution_count": 190,
      "outputs": [
        {
          "output_type": "execute_result",
          "data": {
            "text/plain": [
              "Item_Type\n",
              "Baking Goods             0.069169\n",
              "Breads                   0.066255\n",
              "Breakfast                0.085723\n",
              "Canned                   0.068129\n",
              "Dairy                    0.072427\n",
              "Frozen Foods             0.065645\n",
              "Fruits and Vegetables    0.068513\n",
              "Hard Drinks              0.064943\n",
              "Health and Hygiene       0.055216\n",
              "Household                0.061322\n",
              "Meat                     0.062284\n",
              "Others                   0.060241\n",
              "Seafood                  0.074976\n",
              "Snack Foods              0.066850\n",
              "Soft Drinks              0.063972\n",
              "Starchy Foods            0.067564\n",
              "Name: Item_Visibility, dtype: float64"
            ]
          },
          "metadata": {},
          "execution_count": 190
        }
      ]
    },
    {
      "cell_type": "markdown",
      "source": [
        "se observa que la visibilidad de los alimentos en mayor cantidad no es tan alta como la de masas y otros, pero se ve claramente que los snacks, \n",
        "el segundo tipo con mayor cantidad de productos, esta muy abajo en la visibilidad."
      ],
      "metadata": {
        "id": "4D8RtZ0lKdU0"
      }
    },
    {
      "cell_type": "code",
      "source": [
        "df.Item_Fat_Content.value_counts()"
      ],
      "metadata": {
        "colab": {
          "base_uri": "https://localhost:8080/"
        },
        "id": "SmpiA9eKHYFl",
        "outputId": "08ba4ebb-a364-4c7f-ea16-eb3a334caa20"
      },
      "execution_count": 191,
      "outputs": [
        {
          "output_type": "execute_result",
          "data": {
            "text/plain": [
              "Low Fat    5089\n",
              "Regular    2889\n",
              "LF          316\n",
              "reg         117\n",
              "low fat     112\n",
              "Name: Item_Fat_Content, dtype: int64"
            ]
          },
          "metadata": {},
          "execution_count": 191
        }
      ]
    },
    {
      "cell_type": "markdown",
      "source": [
        "De lo anterior vemos que no hay altos en grasa, pero que tenemos un pequeño problema: LF debe corresponder a Low Fat al igual que low fat, lo mismo para reg y Regular. Esto es un error de tipeo por lo que vamos a arreglarlo para poder agrupar de mejor manera."
      ],
      "metadata": {
        "id": "IvKolZrAKqOV"
      }
    },
    {
      "cell_type": "code",
      "source": [
        "values2 = {\"low fat\": \"Low Fat\", \"LF\": \"Low Fat\", \"reg\": \"Regular\"}\n",
        "df.Item_Fat_Content= df.Item_Fat_Content.replace(to_replace=values2)\n",
        "df.Item_Fat_Content.value_counts()"
      ],
      "metadata": {
        "colab": {
          "base_uri": "https://localhost:8080/"
        },
        "id": "kXrrLzriKnd4",
        "outputId": "9c849872-6310-4192-fd10-96dbb4809ab0"
      },
      "execution_count": 192,
      "outputs": [
        {
          "output_type": "execute_result",
          "data": {
            "text/plain": [
              "Low Fat    5517\n",
              "Regular    3006\n",
              "Name: Item_Fat_Content, dtype: int64"
            ]
          },
          "metadata": {},
          "execution_count": 192
        }
      ]
    },
    {
      "cell_type": "markdown",
      "source": [
        "Revisaremos todas las columnas tipo object para revisar problemas de tipeo similares"
      ],
      "metadata": {
        "id": "CHoNtbaROyhC"
      }
    },
    {
      "cell_type": "code",
      "source": [
        "df.Item_Type.value_counts()"
      ],
      "metadata": {
        "colab": {
          "base_uri": "https://localhost:8080/"
        },
        "id": "ERc1bKVpOSdm",
        "outputId": "a1661827-514e-4abe-a737-c68f7bec7ac8"
      },
      "execution_count": 193,
      "outputs": [
        {
          "output_type": "execute_result",
          "data": {
            "text/plain": [
              "Fruits and Vegetables    1232\n",
              "Snack Foods              1200\n",
              "Household                 910\n",
              "Frozen Foods              856\n",
              "Dairy                     682\n",
              "Canned                    649\n",
              "Baking Goods              648\n",
              "Health and Hygiene        520\n",
              "Soft Drinks               445\n",
              "Meat                      425\n",
              "Breads                    251\n",
              "Hard Drinks               214\n",
              "Others                    169\n",
              "Starchy Foods             148\n",
              "Breakfast                 110\n",
              "Seafood                    64\n",
              "Name: Item_Type, dtype: int64"
            ]
          },
          "metadata": {},
          "execution_count": 193
        }
      ]
    },
    {
      "cell_type": "code",
      "source": [
        "df.Outlet_Identifier.value_counts()"
      ],
      "metadata": {
        "colab": {
          "base_uri": "https://localhost:8080/"
        },
        "id": "VihGbco2OyMF",
        "outputId": "cc11d28c-2444-4931-83e6-b1bb7c377ed2"
      },
      "execution_count": 194,
      "outputs": [
        {
          "output_type": "execute_result",
          "data": {
            "text/plain": [
              "OUT027    935\n",
              "OUT013    932\n",
              "OUT049    930\n",
              "OUT046    930\n",
              "OUT035    930\n",
              "OUT045    929\n",
              "OUT018    928\n",
              "OUT017    926\n",
              "OUT010    555\n",
              "OUT019    528\n",
              "Name: Outlet_Identifier, dtype: int64"
            ]
          },
          "metadata": {},
          "execution_count": 194
        }
      ]
    },
    {
      "cell_type": "code",
      "source": [
        "df.Outlet_Size.value_counts()"
      ],
      "metadata": {
        "colab": {
          "base_uri": "https://localhost:8080/"
        },
        "id": "s27b7d73PSQh",
        "outputId": "ebf3622d-335a-4026-cd47-e1e7bd1e030d"
      },
      "execution_count": 195,
      "outputs": [
        {
          "output_type": "execute_result",
          "data": {
            "text/plain": [
              "Medium    5203\n",
              "Small     2388\n",
              "High       932\n",
              "Name: Outlet_Size, dtype: int64"
            ]
          },
          "metadata": {},
          "execution_count": 195
        }
      ]
    },
    {
      "cell_type": "code",
      "source": [
        "df.Outlet_Location_Type.value_counts()"
      ],
      "metadata": {
        "colab": {
          "base_uri": "https://localhost:8080/"
        },
        "id": "PzGYBi-GPu6v",
        "outputId": "08ab16d0-9e03-4358-9c10-168518c25923"
      },
      "execution_count": 196,
      "outputs": [
        {
          "output_type": "execute_result",
          "data": {
            "text/plain": [
              "Tier 3    3350\n",
              "Tier 2    2785\n",
              "Tier 1    2388\n",
              "Name: Outlet_Location_Type, dtype: int64"
            ]
          },
          "metadata": {},
          "execution_count": 196
        }
      ]
    },
    {
      "cell_type": "code",
      "source": [
        "df.Outlet_Type.value_counts()"
      ],
      "metadata": {
        "colab": {
          "base_uri": "https://localhost:8080/"
        },
        "id": "__huG9QaPzyH",
        "outputId": "8a30ca2c-2b3b-4229-bc4d-430bfd946301"
      },
      "execution_count": 197,
      "outputs": [
        {
          "output_type": "execute_result",
          "data": {
            "text/plain": [
              "Supermarket Type1    5577\n",
              "Grocery Store        1083\n",
              "Supermarket Type3     935\n",
              "Supermarket Type2     928\n",
              "Name: Outlet_Type, dtype: int64"
            ]
          },
          "metadata": {},
          "execution_count": 197
        }
      ]
    },
    {
      "cell_type": "markdown",
      "source": [
        "No se observan errores de tipeo en otras columnas, por lo que seguimos con los datos estadísticos"
      ],
      "metadata": {
        "id": "oTr3ozRCP7ag"
      }
    },
    {
      "cell_type": "code",
      "source": [
        "#Algo no muy relevante pero para ir cerrando el analisis de los items es el peso promedio por tipo de aliemento, util para temas logísticos\n",
        "df.groupby([\"Item_Type\"])[\"Item_Weight\"].mean()"
      ],
      "metadata": {
        "colab": {
          "base_uri": "https://localhost:8080/"
        },
        "id": "5fkJC2DlQmTL",
        "outputId": "521fe4e1-6c4a-4538-8088-a36780020d20"
      },
      "execution_count": 198,
      "outputs": [
        {
          "output_type": "execute_result",
          "data": {
            "text/plain": [
              "Item_Type\n",
              "Baking Goods             12.377448\n",
              "Breads                   11.629818\n",
              "Breakfast                12.785278\n",
              "Canned                   12.399254\n",
              "Dairy                    13.329387\n",
              "Frozen Foods             12.865543\n",
              "Fruits and Vegetables    13.161297\n",
              "Hard Drinks              11.611435\n",
              "Health and Hygiene       13.093044\n",
              "Household                13.297274\n",
              "Meat                     12.825689\n",
              "Others                   13.664761\n",
              "Seafood                  12.614756\n",
              "Snack Foods              12.964871\n",
              "Soft Drinks              12.008636\n",
              "Starchy Foods            13.589410\n",
              "Name: Item_Weight, dtype: float64"
            ]
          },
          "metadata": {},
          "execution_count": 198
        }
      ]
    },
    {
      "cell_type": "markdown",
      "source": [
        "Curiosamente casi todos los articulos pesan lo mismo en promedio! revisemos los minimos y maximos"
      ],
      "metadata": {
        "id": "WNn7y2H0RZwz"
      }
    },
    {
      "cell_type": "code",
      "source": [
        "df.groupby([\"Item_Type\"])[\"Item_Weight\"].min()"
      ],
      "metadata": {
        "colab": {
          "base_uri": "https://localhost:8080/"
        },
        "id": "E1mnw-mkRee0",
        "outputId": "567652e0-2994-4f31-8b77-8d1a28c6b648"
      },
      "execution_count": 199,
      "outputs": [
        {
          "output_type": "execute_result",
          "data": {
            "text/plain": [
              "Item_Type\n",
              "Baking Goods             4.880\n",
              "Breads                   4.635\n",
              "Breakfast                6.425\n",
              "Canned                   4.615\n",
              "Dairy                    4.805\n",
              "Frozen Foods             4.555\n",
              "Fruits and Vegetables    5.460\n",
              "Hard Drinks              4.610\n",
              "Health and Hygiene       5.175\n",
              "Household                5.030\n",
              "Meat                     5.150\n",
              "Others                   5.500\n",
              "Seafood                  5.365\n",
              "Snack Foods              5.095\n",
              "Soft Drinks              4.590\n",
              "Starchy Foods            6.695\n",
              "Name: Item_Weight, dtype: float64"
            ]
          },
          "metadata": {},
          "execution_count": 199
        }
      ]
    },
    {
      "cell_type": "code",
      "source": [
        "df.groupby([\"Item_Type\"])[\"Item_Weight\"].max()"
      ],
      "metadata": {
        "colab": {
          "base_uri": "https://localhost:8080/"
        },
        "id": "1kmHiTVYRqUr",
        "outputId": "e7ffdeb9-bd4c-4d20-e666-ce7f2c6eee13"
      },
      "execution_count": 200,
      "outputs": [
        {
          "output_type": "execute_result",
          "data": {
            "text/plain": [
              "Item_Type\n",
              "Baking Goods             20.85\n",
              "Breads                   20.85\n",
              "Breakfast                21.10\n",
              "Canned                   21.35\n",
              "Dairy                    20.70\n",
              "Frozen Foods             20.85\n",
              "Fruits and Vegetables    21.35\n",
              "Hard Drinks              19.70\n",
              "Health and Hygiene       21.25\n",
              "Household                21.25\n",
              "Meat                     21.25\n",
              "Others                   20.50\n",
              "Seafood                  20.75\n",
              "Snack Foods              21.25\n",
              "Soft Drinks              20.75\n",
              "Starchy Foods            21.20\n",
              "Name: Item_Weight, dtype: float64"
            ]
          },
          "metadata": {},
          "execution_count": 200
        }
      ]
    },
    {
      "cell_type": "markdown",
      "source": [
        "Los pesos de los productos oscilan entre 4 y 21.5 aprox. "
      ],
      "metadata": {
        "id": "rbbXWVISRybG"
      }
    },
    {
      "cell_type": "code",
      "source": [
        "#revisaremos los valores promedio por tipo de alimento"
      ],
      "metadata": {
        "id": "Gr4tpZa4R_qw"
      },
      "execution_count": 201,
      "outputs": []
    },
    {
      "cell_type": "code",
      "source": [
        "g2=df.groupby([\"Item_Type\"])[\"Item_MRP\"].mean()\n",
        "g2"
      ],
      "metadata": {
        "colab": {
          "base_uri": "https://localhost:8080/"
        },
        "id": "MUR-wNUISSli",
        "outputId": "30de1dc9-a930-4f1c-d0b6-029d4018a6f7"
      },
      "execution_count": 202,
      "outputs": [
        {
          "output_type": "execute_result",
          "data": {
            "text/plain": [
              "Item_Type\n",
              "Baking Goods             126.380766\n",
              "Breads                   140.952669\n",
              "Breakfast                141.788151\n",
              "Canned                   139.763832\n",
              "Dairy                    148.499208\n",
              "Frozen Foods             138.503366\n",
              "Fruits and Vegetables    144.581235\n",
              "Hard Drinks              137.077928\n",
              "Health and Hygiene       130.818921\n",
              "Household                149.424753\n",
              "Meat                     139.882032\n",
              "Others                   132.851430\n",
              "Seafood                  141.841719\n",
              "Snack Foods              146.194934\n",
              "Soft Drinks              131.492506\n",
              "Starchy Foods            147.838023\n",
              "Name: Item_MRP, dtype: float64"
            ]
          },
          "metadata": {},
          "execution_count": 202
        }
      ]
    },
    {
      "cell_type": "code",
      "source": [
        "df.groupby([\"Item_Type\"])[\"Item_MRP\"].min()"
      ],
      "metadata": {
        "colab": {
          "base_uri": "https://localhost:8080/"
        },
        "id": "TmcWpJaKSkMN",
        "outputId": "d20dcde8-f5f1-47f2-fda6-46933fe50ac8"
      },
      "execution_count": 203,
      "outputs": [
        {
          "output_type": "execute_result",
          "data": {
            "text/plain": [
              "Item_Type\n",
              "Baking Goods             33.9874\n",
              "Breads                   31.9558\n",
              "Breakfast                40.0480\n",
              "Canned                   36.3506\n",
              "Dairy                    33.4874\n",
              "Frozen Foods             31.9558\n",
              "Fruits and Vegetables    36.2506\n",
              "Hard Drinks              34.2532\n",
              "Health and Hygiene       33.1216\n",
              "Household                32.4558\n",
              "Meat                     34.7532\n",
              "Others                   35.0190\n",
              "Seafood                  33.7216\n",
              "Snack Foods              32.3558\n",
              "Soft Drinks              31.2900\n",
              "Starchy Foods            34.0532\n",
              "Name: Item_MRP, dtype: float64"
            ]
          },
          "metadata": {},
          "execution_count": 203
        }
      ]
    },
    {
      "cell_type": "code",
      "source": [
        "df.groupby([\"Item_Type\"])[\"Item_MRP\"].max()"
      ],
      "metadata": {
        "colab": {
          "base_uri": "https://localhost:8080/"
        },
        "id": "jDX8H1f5Sn-B",
        "outputId": "f2193c27-898d-49c2-ec84-eecf1b29955e"
      },
      "execution_count": 204,
      "outputs": [
        {
          "output_type": "execute_result",
          "data": {
            "text/plain": [
              "Item_Type\n",
              "Baking Goods             265.5568\n",
              "Breads                   263.6594\n",
              "Breakfast                234.9300\n",
              "Canned                   266.8884\n",
              "Dairy                    266.6884\n",
              "Frozen Foods             264.8910\n",
              "Fruits and Vegetables    264.2252\n",
              "Hard Drinks              261.4278\n",
              "Health and Hygiene       266.6884\n",
              "Household                264.7910\n",
              "Meat                     261.5936\n",
              "Others                   254.9040\n",
              "Seafood                  240.2880\n",
              "Snack Foods              264.9568\n",
              "Soft Drinks              263.5910\n",
              "Starchy Foods            263.0252\n",
              "Name: Item_MRP, dtype: float64"
            ]
          },
          "metadata": {},
          "execution_count": 204
        }
      ]
    },
    {
      "cell_type": "markdown",
      "source": [
        "Es muy curioso que los valores y pesos sean tan similares para tipos de item tan diferentes!"
      ],
      "metadata": {
        "id": "_NI285WYSt0E"
      }
    },
    {
      "cell_type": "code",
      "source": [
        "#Ahora veremos como se distribuyen los items para venta en diferentes PDV, veremos que items son los mas vendidos:"
      ],
      "metadata": {
        "id": "kwbv-SyGS0kn"
      },
      "execution_count": 205,
      "outputs": []
    },
    {
      "cell_type": "code",
      "source": [
        "  gr1=df.groupby(by=[\"Item_Type\",\"Outlet_Type\"])[\"Outlet_Type\"].count()\n",
        "  gr1"
      ],
      "metadata": {
        "colab": {
          "base_uri": "https://localhost:8080/"
        },
        "id": "1sCB1skyTOJk",
        "outputId": "e422f43f-0cdb-4fae-d11f-39a1a096b268"
      },
      "execution_count": 206,
      "outputs": [
        {
          "output_type": "execute_result",
          "data": {
            "text/plain": [
              "Item_Type      Outlet_Type      \n",
              "Baking Goods   Grocery Store         85\n",
              "               Supermarket Type1    426\n",
              "               Supermarket Type2     68\n",
              "               Supermarket Type3     69\n",
              "Breads         Grocery Store         33\n",
              "                                   ... \n",
              "Soft Drinks    Supermarket Type3     45\n",
              "Starchy Foods  Grocery Store         13\n",
              "               Supermarket Type1    104\n",
              "               Supermarket Type2     17\n",
              "               Supermarket Type3     14\n",
              "Name: Outlet_Type, Length: 64, dtype: int64"
            ]
          },
          "metadata": {},
          "execution_count": 206
        }
      ]
    },
    {
      "cell_type": "markdown",
      "source": [
        "Otra información relevante son las ventas por PDV para cada item, identificando los mejores PDV por categoria de item"
      ],
      "metadata": {
        "id": "KeKS9u4IVbXW"
      }
    },
    {
      "cell_type": "code",
      "source": [
        "  df.groupby(by=[\"Item_Type\",\"Outlet_Identifier\"])[\"Item_MRP\"].sum()\n",
        "  baking_grocery=df[(df['Item_Type']==\"Baking Goods\") & (df['Outlet_Type']== \"Grocery Store\")]['Outlet_Type'].count()\n",
        "  baking_super1= df[(df['Item_Type']==\"Baking Goods\") & (df['Outlet_Type']== \"Supermarket Type1\")]['Outlet_Type'].count()\n",
        "  baking_super2= df[(df['Item_Type']==\"Baking Goods\") & (df['Outlet_Type']== \"Supermarket Type2\")]['Outlet_Type'].count()\n",
        "  baking_super3= df[(df['Item_Type']==\"Baking Goods\") & (df['Outlet_Type']== \"Supermarket Type3\")]['Outlet_Type'].count()\n",
        "  baking_list=[baking_grocery, baking_super1, baking_super2, baking_super3]"
      ],
      "metadata": {
        "id": "33OqId1GVp_c"
      },
      "execution_count": 207,
      "outputs": []
    },
    {
      "cell_type": "code",
      "source": [
        "g2.plot.bar()"
      ],
      "metadata": {
        "colab": {
          "base_uri": "https://localhost:8080/",
          "height": 466
        },
        "id": "faQKJTpngzjB",
        "outputId": "002b27e2-41f5-4d25-a607-d3a1da5fb473"
      },
      "execution_count": 208,
      "outputs": [
        {
          "output_type": "execute_result",
          "data": {
            "text/plain": [
              "<matplotlib.axes._subplots.AxesSubplot at 0x7f05fece00d0>"
            ]
          },
          "metadata": {},
          "execution_count": 208
        },
        {
          "output_type": "display_data",
          "data": {
            "text/plain": [
              "<Figure size 576x396 with 1 Axes>"
            ],
            "image/png": "[encoded data removed]"
          },
          "metadata": {}
        }
      ]
    },
    {
      "cell_type": "code",
      "source": [
        "import matplotlib.pyplot as plt\n",
        "baking_names= ['Groc_Store', 'SuperT1', 'SuperT2', 'SuperT3']\n",
        "plt.pie(baking_list, labels=baking_names)\n",
        "#en este grafico podemos ver, para la categoria de baking goods, como se distribuyen las ventas, siendo los super t1 quienes mas venden este tipo de producto\n"
      ],
      "metadata": {
        "colab": {
          "base_uri": "https://localhost:8080/",
          "height": 475
        },
        "id": "UuAnxcxOhHpk",
        "outputId": "c53af831-1aa0-4f55-f286-08bc9143f9b4"
      },
      "execution_count": 209,
      "outputs": [
        {
          "output_type": "execute_result",
          "data": {
            "text/plain": [
              "([<matplotlib.patches.Wedge at 0x7f05feb87b90>,\n",
              "  <matplotlib.patches.Wedge at 0x7f05feb69dd0>,\n",
              "  <matplotlib.patches.Wedge at 0x7f05feb39b90>,\n",
              "  <matplotlib.patches.Wedge at 0x7f05feb2fed0>],\n",
              " [Text(1.007913586994831, 0.44057939256303574, 'Groc_Store'),\n",
              "  Text(-1.065228946431528, 0.2743852978648394, 'SuperT1'),\n",
              "  Text(0.5955203149055512, -0.9248543423343988, 'SuperT2'),\n",
              "  Text(1.0390242700176564, -0.3611489530848406, 'SuperT3')])"
            ]
          },
          "metadata": {},
          "execution_count": 209
        },
        {
          "output_type": "display_data",
          "data": {
            "text/plain": [
              "<Figure size 576x396 with 1 Axes>"
            ],
            "image/png": "[encoded data removed]"
          },
          "metadata": {}
        }
      ]
    },
    {
      "cell_type": "code",
      "source": [
        "import seaborn as sns"
      ],
      "metadata": {
        "id": "d2PAxaRPuCxf"
      },
      "execution_count": 210,
      "outputs": []
    },
    {
      "cell_type": "code",
      "source": [
        "#Este grafico muestra todos los datos numericos y sus correlaciones, donde podemos ver que solo se destaca una correlacion moderada en el caso de Item_MRP y Item _Outlet_Sales\n",
        "sns.heatmap(df.corr())"
      ],
      "metadata": {
        "colab": {
          "base_uri": "https://localhost:8080/",
          "height": 480
        },
        "id": "CmMIF4eUuG4P",
        "outputId": "42e74772-8ec1-4482-bd9e-a22bf061c3f3"
      },
      "execution_count": 211,
      "outputs": [
        {
          "output_type": "execute_result",
          "data": {
            "text/plain": [
              "<matplotlib.axes._subplots.AxesSubplot at 0x7f06012a0b90>"
            ]
          },
          "metadata": {},
          "execution_count": 211
        },
        {
          "output_type": "display_data",
          "data": {
            "text/plain": [
              "<Figure size 576x396 with 2 Axes>"
            ],
            "image/png": "[encoded data removed]"
          },
          "metadata": {}
        }
      ]
    },
    {
      "cell_type": "code",
      "source": [
        "#Seria interesante ver un hitograma de variables relevantes, como Item_MRP y Item Outlet Sales"
      ],
      "metadata": {
        "id": "cR33qoCcQ73j"
      },
      "execution_count": 212,
      "outputs": []
    },
    {
      "cell_type": "code",
      "source": [
        "df[\"Item_MRP\"].hist() #Los precios se distribuyen de manera homogenea, excepto que de 200 en adelante hay menos productos que en el resto de los precios"
      ],
      "metadata": {
        "id": "tIbiQgOjuL7L",
        "colab": {
          "base_uri": "https://localhost:8080/",
          "height": 365
        },
        "outputId": "55775428-86aa-4859-dc8e-4293c73e8653"
      },
      "execution_count": 213,
      "outputs": [
        {
          "output_type": "execute_result",
          "data": {
            "text/plain": [
              "<matplotlib.axes._subplots.AxesSubplot at 0x7f05feb39110>"
            ]
          },
          "metadata": {},
          "execution_count": 213
        },
        {
          "output_type": "display_data",
          "data": {
            "text/plain": [
              "<Figure size 576x396 with 1 Axes>"
            ],
            "image/png": "[encoded data removed]"
          },
          "metadata": {}
        }
      ]
    },
    {
      "cell_type": "code",
      "source": [
        "#dado que queremos tener mas control de como se presenta esta información para mejorar nuestro analisis, usaremos Matplotlib para poder detallar algunos puntos del gráfico\n",
        "plt.style.use('seaborn')\n",
        "\n",
        "Item_MRP=np.array(df[\"Item_MRP\"])\n",
        "plt.hist(Item_MRP, label='Item_MRP', stacked=True, edgecolor='white', lw=1, bins=30)\n",
        "plt.xlabel('Retail Prices in USD')\n",
        "plt.xticks(np.arange(0, 300, step=20))\n",
        "plt.ylabel('count')\n",
        "plt.legend()\n"
      ],
      "metadata": {
        "colab": {
          "base_uri": "https://localhost:8080/",
          "height": 379
        },
        "id": "TZpvKzp2SLAw",
        "outputId": "843179e4-8773-4eb2-8f51-ba26702d9130"
      },
      "execution_count": 214,
      "outputs": [
        {
          "output_type": "execute_result",
          "data": {
            "text/plain": [
              "<matplotlib.legend.Legend at 0x7f060138c7d0>"
            ]
          },
          "metadata": {},
          "execution_count": 214
        },
        {
          "output_type": "display_data",
          "data": {
            "text/plain": [
              "<Figure size 576x396 with 1 Axes>"
            ],
            "image/png": "[encoded data removed]"
          },
          "metadata": {}
        }
      ]
    },
    {
      "cell_type": "code",
      "source": [
        "df[\"Item_Outlet_Sales\"].hist() #Los precios se distribuyen de manera homogenea, excepto que de 200 en adelante hay menos productos que en el resto de los precios"
      ],
      "metadata": {
        "colab": {
          "base_uri": "https://localhost:8080/",
          "height": 365
        },
        "id": "UQ1O61E-R1U_",
        "outputId": "e7e9add2-2936-430f-dfb8-9e87486fcfc6"
      },
      "execution_count": 215,
      "outputs": [
        {
          "output_type": "execute_result",
          "data": {
            "text/plain": [
              "<matplotlib.axes._subplots.AxesSubplot at 0x7f05ff55abd0>"
            ]
          },
          "metadata": {},
          "execution_count": 215
        },
        {
          "output_type": "display_data",
          "data": {
            "text/plain": [
              "<Figure size 576x396 with 1 Axes>"
            ],
            "image/png": "[encoded data removed]"
          },
          "metadata": {}
        }
      ]
    },
    {
      "cell_type": "code",
      "source": [
        "#Lo mismo en el caso de Item Outles Sales\n",
        "Item_MRP=np.array(df[\"Item_Outlet_Sales\"])\n",
        "plt.hist(Item_MRP, label='Item_Outlet_Sales', stacked=True, edgecolor='white', lw=1, bins=30)\n",
        "plt.xlabel('Item_Outlet_Sales in USD')\n",
        "plt.xticks(np.arange(0, 12000, step=1000))\n",
        "plt.ylabel('count')\n",
        "plt.legend()"
      ],
      "metadata": {
        "colab": {
          "base_uri": "https://localhost:8080/",
          "height": 379
        },
        "id": "Yeghv_eaT3RD",
        "outputId": "a4772141-6b90-4dc2-c5ac-0beb1430d534"
      },
      "execution_count": 216,
      "outputs": [
        {
          "output_type": "execute_result",
          "data": {
            "text/plain": [
              "<matplotlib.legend.Legend at 0x7f05fefe84d0>"
            ]
          },
          "metadata": {},
          "execution_count": 216
        },
        {
          "output_type": "display_data",
          "data": {
            "text/plain": [
              "<Figure size 576x396 with 1 Axes>"
            ],
            "image/png": "[encoded data removed]"
          },
          "metadata": {}
        }
      ]
    },
    {
      "cell_type": "code",
      "source": [
        "#de lo anterior podemos concluir que el grafico tiene un acento a la izquierda, y se distribuje de manera muy uniforme, donde la mayor cantidad de locales vende menos de 3500 \n",
        "\n",
        "#ahora veremos algunos gráficos tipo box para poder entender mejor "
      ],
      "metadata": {
        "id": "EPKoilBpVDvF"
      },
      "execution_count": 217,
      "outputs": []
    },
    {
      "cell_type": "code",
      "source": [
        "#Los minoristas piden que diseñemos un modelo que ayude a predecir ventas en los PDV, y para ello desarrollaremos en primera instancia, dos modelos sencillos,\n",
        "#evaluando si tienen buenos resultados predictivos: linear regression y KNN\n",
        "#Previo a dicho analisis revisaremos los tipos de datos, ya que para hacer regresion lineal necesitamos datos numericos o categóricos\n",
        "df.info()\n"
      ],
      "metadata": {
        "colab": {
          "base_uri": "https://localhost:8080/"
        },
        "id": "3H7nnva749lr",
        "outputId": "734f7c07-b6f3-4462-99ba-2c87858a8694"
      },
      "execution_count": 218,
      "outputs": [
        {
          "output_type": "stream",
          "name": "stdout",
          "text": [
            "<class 'pandas.core.frame.DataFrame'>\n",
            "RangeIndex: 8523 entries, 0 to 8522\n",
            "Data columns (total 12 columns):\n",
            " #   Column                     Non-Null Count  Dtype  \n",
            "---  ------                     --------------  -----  \n",
            " 0   Item_Identifier            8523 non-null   object \n",
            " 1   Item_Weight                8523 non-null   float64\n",
            " 2   Item_Fat_Content           8523 non-null   object \n",
            " 3   Item_Visibility            8523 non-null   float64\n",
            " 4   Item_Type                  8523 non-null   object \n",
            " 5   Item_MRP                   8523 non-null   float64\n",
            " 6   Outlet_Identifier          8523 non-null   object \n",
            " 7   Outlet_Establishment_Year  8523 non-null   int64  \n",
            " 8   Outlet_Size                8523 non-null   object \n",
            " 9   Outlet_Location_Type       8523 non-null   object \n",
            " 10  Outlet_Type                8523 non-null   object \n",
            " 11  Item_Outlet_Sales          8523 non-null   float64\n",
            "dtypes: float64(4), int64(1), object(7)\n",
            "memory usage: 799.2+ KB\n"
          ]
        }
      ]
    },
    {
      "cell_type": "code",
      "source": [
        "#Analisis de los features\n",
        "#0. item ideintifier, no nos agrega valor esta columna al analisis por lo que lo eliminaremos para realizar linear regression:\n",
        "df=df.drop(\"Item_Identifier\", axis=1)\n",
        "#las columnas 2, 4, 6, 8, 9 y 10 pueden ser transformada en categorias, por lo que la dejaremos para hacer one hot encoding"
      ],
      "metadata": {
        "id": "Mbvn-pPBDDzG"
      },
      "execution_count": 219,
      "outputs": []
    },
    {
      "cell_type": "code",
      "source": [
        "df['Item_Fat_Content'].value_counts()"
      ],
      "metadata": {
        "colab": {
          "base_uri": "https://localhost:8080/"
        },
        "id": "eXkLyxJzejDt",
        "outputId": "ad69cfb2-6420-4fc2-ad63-da3478f5333f"
      },
      "execution_count": 220,
      "outputs": [
        {
          "output_type": "execute_result",
          "data": {
            "text/plain": [
              "Low Fat    5517\n",
              "Regular    3006\n",
              "Name: Item_Fat_Content, dtype: int64"
            ]
          },
          "metadata": {},
          "execution_count": 220
        }
      ]
    },
    {
      "cell_type": "code",
      "source": [
        "# al solo haber dos tipos, dejaremos low fat como 0 y regular como 1, ya que además low fat y regular fat son ordinales\n",
        "gen_ord_map = {'Low Fat': 0, 'Regular': 1}\n",
        "df['Item_Fat_Content_n'] = df['Item_Fat_Content'].map(gen_ord_map)\n",
        "df=df.drop([\"Item_Fat_Content\"], axis=1)\n",
        "df['Item_Fat_Content_n'][0:4]"
      ],
      "metadata": {
        "colab": {
          "base_uri": "https://localhost:8080/"
        },
        "id": "wtD5q4dicpVX",
        "outputId": "7b2202f2-3ab7-4f27-f4f5-97b21c874fae"
      },
      "execution_count": 221,
      "outputs": [
        {
          "output_type": "execute_result",
          "data": {
            "text/plain": [
              "0    0\n",
              "1    1\n",
              "2    0\n",
              "3    1\n",
              "Name: Item_Fat_Content_n, dtype: int64"
            ]
          },
          "metadata": {},
          "execution_count": 221
        }
      ]
    },
    {
      "cell_type": "code",
      "source": [
        "#revisaremos item_type\n",
        "df['Item_Type'].value_counts() #tenemos diferentes clasificaciones no ordinales por lo que quedan asi para que el one hot encoding las transforme"
      ],
      "metadata": {
        "colab": {
          "base_uri": "https://localhost:8080/"
        },
        "id": "muuI4_jWjRT6",
        "outputId": "1f9aafd3-31c5-4b89-d088-7495fd26c4df"
      },
      "execution_count": 222,
      "outputs": [
        {
          "output_type": "execute_result",
          "data": {
            "text/plain": [
              "Fruits and Vegetables    1232\n",
              "Snack Foods              1200\n",
              "Household                 910\n",
              "Frozen Foods              856\n",
              "Dairy                     682\n",
              "Canned                    649\n",
              "Baking Goods              648\n",
              "Health and Hygiene        520\n",
              "Soft Drinks               445\n",
              "Meat                      425\n",
              "Breads                    251\n",
              "Hard Drinks               214\n",
              "Others                    169\n",
              "Starchy Foods             148\n",
              "Breakfast                 110\n",
              "Seafood                    64\n",
              "Name: Item_Type, dtype: int64"
            ]
          },
          "metadata": {},
          "execution_count": 222
        }
      ]
    },
    {
      "cell_type": "code",
      "source": [
        "df['Outlet_Identifier'].value_counts() #lo mismo pasa en este caso"
      ],
      "metadata": {
        "colab": {
          "base_uri": "https://localhost:8080/"
        },
        "id": "J4fqbBBvkLet",
        "outputId": "fbbe6e1e-3307-4c60-fbc4-0ecf05828f3d"
      },
      "execution_count": 223,
      "outputs": [
        {
          "output_type": "execute_result",
          "data": {
            "text/plain": [
              "OUT027    935\n",
              "OUT013    932\n",
              "OUT049    930\n",
              "OUT046    930\n",
              "OUT035    930\n",
              "OUT045    929\n",
              "OUT018    928\n",
              "OUT017    926\n",
              "OUT010    555\n",
              "OUT019    528\n",
              "Name: Outlet_Identifier, dtype: int64"
            ]
          },
          "metadata": {},
          "execution_count": 223
        }
      ]
    },
    {
      "cell_type": "code",
      "source": [
        "df['Outlet_Size'].value_counts() #en esta columna si es posible cambiar los datos por val nominales\n",
        "values3 = {\"Small\": 0, \"Medium\": 1, \"High\": 2}\n",
        "df['Outlet_Size']=df['Outlet_Size'].replace(values3)\n",
        "df['Outlet_Size'].value_counts()"
      ],
      "metadata": {
        "colab": {
          "base_uri": "https://localhost:8080/"
        },
        "id": "th5i2EklkLmW",
        "outputId": "b1722986-3488-49f5-8638-70d46017d3a7"
      },
      "execution_count": 224,
      "outputs": [
        {
          "output_type": "execute_result",
          "data": {
            "text/plain": [
              "1    5203\n",
              "0    2388\n",
              "2     932\n",
              "Name: Outlet_Size, dtype: int64"
            ]
          },
          "metadata": {},
          "execution_count": 224
        }
      ]
    },
    {
      "cell_type": "code",
      "source": [
        "df['Outlet_Location_Type'].value_counts() #en esta columna si es posible cambiar los datos por val nominales\n",
        "values4 = {\"Tier 1\": 1, \"Tier 2\": 2, \"Tier 3\": 3}\n",
        "df['Outlet_Location_Type']=df['Outlet_Location_Type'].replace(values4)\n",
        "df['Outlet_Location_Type'].value_counts()"
      ],
      "metadata": {
        "colab": {
          "base_uri": "https://localhost:8080/"
        },
        "id": "OEl7doD8pm-0",
        "outputId": "ecdfdb92-249e-40e8-a77a-fde54ff5e3af"
      },
      "execution_count": 225,
      "outputs": [
        {
          "output_type": "execute_result",
          "data": {
            "text/plain": [
              "3    3350\n",
              "2    2785\n",
              "1    2388\n",
              "Name: Outlet_Location_Type, dtype: int64"
            ]
          },
          "metadata": {},
          "execution_count": 225
        }
      ]
    },
    {
      "cell_type": "code",
      "source": [
        "df['Outlet_Type'].value_counts() #Se aprecia un orden en donde grocery es le mas bajo y despues 3 tipos de supermercado, por lo que haremos lo mismo usanod grocery como 0\n",
        "values5 = {\"Grocery Store\": 0,\"Supermarket Type1\": 1, \"Supermarket Type2\": 2, \"Supermarket Type3\": 3}\n",
        "df['Outlet_Location_Type']=df['Outlet_Location_Type'].replace(values5)\n",
        "df['Outlet_Location_Type'].value_counts()"
      ],
      "metadata": {
        "colab": {
          "base_uri": "https://localhost:8080/"
        },
        "id": "AwLTZKCpqFcv",
        "outputId": "d09f68a7-aa12-415a-b977-0a6fca060f48"
      },
      "execution_count": 226,
      "outputs": [
        {
          "output_type": "execute_result",
          "data": {
            "text/plain": [
              "3    3350\n",
              "2    2785\n",
              "1    2388\n",
              "Name: Outlet_Location_Type, dtype: int64"
            ]
          },
          "metadata": {},
          "execution_count": 226
        }
      ]
    },
    {
      "cell_type": "code",
      "source": [
        "pip install --upgrade category_encoders\n"
      ],
      "metadata": {
        "colab": {
          "base_uri": "https://localhost:8080/"
        },
        "id": "ahu_QpfwO9Yb",
        "outputId": "8e42c625-8103-4a04-9bf1-64452661d9f1"
      },
      "execution_count": 227,
      "outputs": [
        {
          "output_type": "stream",
          "name": "stdout",
          "text": [
            "Requirement already satisfied: category_encoders in /usr/local/lib/python3.7/dist-packages (2.4.0)\n",
            "Requirement already satisfied: scipy>=1.0.0 in /usr/local/lib/python3.7/dist-packages (from category_encoders) (1.4.1)\n",
            "Requirement already satisfied: patsy>=0.5.1 in /usr/local/lib/python3.7/dist-packages (from category_encoders) (0.5.2)\n",
            "Requirement already satisfied: statsmodels>=0.9.0 in /usr/local/lib/python3.7/dist-packages (from category_encoders) (0.10.2)\n",
            "Requirement already satisfied: pandas>=0.21.1 in /usr/local/lib/python3.7/dist-packages (from category_encoders) (1.3.5)\n",
            "Requirement already satisfied: numpy>=1.14.0 in /usr/local/lib/python3.7/dist-packages (from category_encoders) (1.21.6)\n",
            "Requirement already satisfied: scikit-learn>=0.20.0 in /usr/local/lib/python3.7/dist-packages (from category_encoders) (1.0.2)\n",
            "Requirement already satisfied: pytz>=2017.3 in /usr/local/lib/python3.7/dist-packages (from pandas>=0.21.1->category_encoders) (2022.1)\n",
            "Requirement already satisfied: python-dateutil>=2.7.3 in /usr/local/lib/python3.7/dist-packages (from pandas>=0.21.1->category_encoders) (2.8.2)\n",
            "Requirement already satisfied: six in /usr/local/lib/python3.7/dist-packages (from patsy>=0.5.1->category_encoders) (1.15.0)\n",
            "Requirement already satisfied: threadpoolctl>=2.0.0 in /usr/local/lib/python3.7/dist-packages (from scikit-learn>=0.20.0->category_encoders) (3.1.0)\n",
            "Requirement already satisfied: joblib>=0.11 in /usr/local/lib/python3.7/dist-packages (from scikit-learn>=0.20.0->category_encoders) (1.1.0)\n"
          ]
        }
      ]
    },
    {
      "cell_type": "code",
      "source": [
        "from sklearn.model_selection import train_test_split\n",
        "import category_encoders as ce #esta biblioteca tiene mejores encoders que scikitlearn \n",
        "ohe = ce.OneHotEncoder(handle_unknown='ignore', use_cat_names=True) \n",
        "df_ohe= ohe.fit_transform(df)\n",
        "df_ohe.head()\n"
      ],
      "metadata": {
        "colab": {
          "base_uri": "https://localhost:8080/",
          "height": 317
        },
        "id": "8Y-flrg3On6U",
        "outputId": "67acd930-e23a-44d3-8014-0e8548787bb9"
      },
      "execution_count": 228,
      "outputs": [
        {
          "output_type": "execute_result",
          "data": {
            "text/plain": [
              "   Item_Weight  Item_Visibility  Item_Type_Dairy  Item_Type_Soft Drinks  \\\n",
              "0         9.30         0.016047                1                      0   \n",
              "1         5.92         0.019278                0                      1   \n",
              "2        17.50         0.016760                0                      0   \n",
              "3        19.20         0.000000                0                      0   \n",
              "4         8.93         0.000000                0                      0   \n",
              "\n",
              "   Item_Type_Meat  Item_Type_Fruits and Vegetables  Item_Type_Household  \\\n",
              "0               0                                0                    0   \n",
              "1               0                                0                    0   \n",
              "2               1                                0                    0   \n",
              "3               0                                1                    0   \n",
              "4               0                                0                    1   \n",
              "\n",
              "   Item_Type_Baking Goods  Item_Type_Snack Foods  Item_Type_Frozen Foods  ...  \\\n",
              "0                       0                      0                       0  ...   \n",
              "1                       0                      0                       0  ...   \n",
              "2                       0                      0                       0  ...   \n",
              "3                       0                      0                       0  ...   \n",
              "4                       0                      0                       0  ...   \n",
              "\n",
              "   Outlet_Identifier_OUT019  Outlet_Establishment_Year  Outlet_Size  \\\n",
              "0                         0                       1999            1   \n",
              "1                         0                       2009            1   \n",
              "2                         0                       1999            1   \n",
              "3                         0                       1998            1   \n",
              "4                         0                       1987            2   \n",
              "\n",
              "   Outlet_Location_Type  Outlet_Type_Supermarket Type1  \\\n",
              "0                     1                              1   \n",
              "1                     3                              0   \n",
              "2                     1                              1   \n",
              "3                     3                              0   \n",
              "4                     3                              1   \n",
              "\n",
              "   Outlet_Type_Supermarket Type2  Outlet_Type_Grocery Store  \\\n",
              "0                              0                          0   \n",
              "1                              1                          0   \n",
              "2                              0                          0   \n",
              "3                              0                          1   \n",
              "4                              0                          0   \n",
              "\n",
              "   Outlet_Type_Supermarket Type3  Item_Outlet_Sales  Item_Fat_Content_n  \n",
              "0                              0          3735.1380                   0  \n",
              "1                              0           443.4228                   1  \n",
              "2                              0          2097.2700                   0  \n",
              "3                              0           732.3800                   1  \n",
              "4                              0           994.7052                   0  \n",
              "\n",
              "[5 rows x 38 columns]"
            ],
            "text/html": [
              "\n",
              "  <div id=\"df-ae09ecc7-dcb5-42ba-985f-2acaf1773898\">\n",
              "    <div class=\"colab-df-container\">\n",
              "      <div>\n",
              "<style scoped>\n",
              "    .dataframe tbody tr th:only-of-type {\n",
              "        vertical-align: middle;\n",
              "    }\n",
              "\n",
              "    .dataframe tbody tr th {\n",
              "        vertical-align: top;\n",
              "    }\n",
              "\n",
              "    .dataframe thead th {\n",
              "        text-align: right;\n",
              "    }\n",
              "</style>\n",
              "<table border=\"1\" class=\"dataframe\">\n",
              "  <thead>\n",
              "    <tr style=\"text-align: right;\">\n",
              "      <th></th>\n",
              "      <th>Item_Weight</th>\n",
              "      <th>Item_Visibility</th>\n",
              "      <th>Item_Type_Dairy</th>\n",
              "      <th>Item_Type_Soft Drinks</th>\n",
              "      <th>Item_Type_Meat</th>\n",
              "      <th>Item_Type_Fruits and Vegetables</th>\n",
              "      <th>Item_Type_Household</th>\n",
              "      <th>Item_Type_Baking Goods</th>\n",
              "      <th>Item_Type_Snack Foods</th>\n",
              "      <th>Item_Type_Frozen Foods</th>\n",
              "      <th>...</th>\n",
              "      <th>Outlet_Identifier_OUT019</th>\n",
              "      <th>Outlet_Establishment_Year</th>\n",
              "      <th>Outlet_Size</th>\n",
              "      <th>Outlet_Location_Type</th>\n",
              "      <th>Outlet_Type_Supermarket Type1</th>\n",
              "      <th>Outlet_Type_Supermarket Type2</th>\n",
              "      <th>Outlet_Type_Grocery Store</th>\n",
              "      <th>Outlet_Type_Supermarket Type3</th>\n",
              "      <th>Item_Outlet_Sales</th>\n",
              "      <th>Item_Fat_Content_n</th>\n",
              "    </tr>\n",
              "  </thead>\n",
              "  <tbody>\n",
              "    <tr>\n",
              "      <th>0</th>\n",
              "      <td>9.30</td>\n",
              "      <td>0.016047</td>\n",
              "      <td>1</td>\n",
              "      <td>0</td>\n",
              "      <td>0</td>\n",
              "      <td>0</td>\n",
              "      <td>0</td>\n",
              "      <td>0</td>\n",
              "      <td>0</td>\n",
              "      <td>0</td>\n",
              "      <td>...</td>\n",
              "      <td>0</td>\n",
              "      <td>1999</td>\n",
              "      <td>1</td>\n",
              "      <td>1</td>\n",
              "      <td>1</td>\n",
              "      <td>0</td>\n",
              "      <td>0</td>\n",
              "      <td>0</td>\n",
              "      <td>3735.1380</td>\n",
              "      <td>0</td>\n",
              "    </tr>\n",
              "    <tr>\n",
              "      <th>1</th>\n",
              "      <td>5.92</td>\n",
              "      <td>0.019278</td>\n",
              "      <td>0</td>\n",
              "      <td>1</td>\n",
              "      <td>0</td>\n",
              "      <td>0</td>\n",
              "      <td>0</td>\n",
              "      <td>0</td>\n",
              "      <td>0</td>\n",
              "      <td>0</td>\n",
              "      <td>...</td>\n",
              "      <td>0</td>\n",
              "      <td>2009</td>\n",
              "      <td>1</td>\n",
              "      <td>3</td>\n",
              "      <td>0</td>\n",
              "      <td>1</td>\n",
              "      <td>0</td>\n",
              "      <td>0</td>\n",
              "      <td>443.4228</td>\n",
              "      <td>1</td>\n",
              "    </tr>\n",
              "    <tr>\n",
              "      <th>2</th>\n",
              "      <td>17.50</td>\n",
              "      <td>0.016760</td>\n",
              "      <td>0</td>\n",
              "      <td>0</td>\n",
              "      <td>1</td>\n",
              "      <td>0</td>\n",
              "      <td>0</td>\n",
              "      <td>0</td>\n",
              "      <td>0</td>\n",
              "      <td>0</td>\n",
              "      <td>...</td>\n",
              "      <td>0</td>\n",
              "      <td>1999</td>\n",
              "      <td>1</td>\n",
              "      <td>1</td>\n",
              "      <td>1</td>\n",
              "      <td>0</td>\n",
              "      <td>0</td>\n",
              "      <td>0</td>\n",
              "      <td>2097.2700</td>\n",
              "      <td>0</td>\n",
              "    </tr>\n",
              "    <tr>\n",
              "      <th>3</th>\n",
              "      <td>19.20</td>\n",
              "      <td>0.000000</td>\n",
              "      <td>0</td>\n",
              "      <td>0</td>\n",
              "      <td>0</td>\n",
              "      <td>1</td>\n",
              "      <td>0</td>\n",
              "      <td>0</td>\n",
              "      <td>0</td>\n",
              "      <td>0</td>\n",
              "      <td>...</td>\n",
              "      <td>0</td>\n",
              "      <td>1998</td>\n",
              "      <td>1</td>\n",
              "      <td>3</td>\n",
              "      <td>0</td>\n",
              "      <td>0</td>\n",
              "      <td>1</td>\n",
              "      <td>0</td>\n",
              "      <td>732.3800</td>\n",
              "      <td>1</td>\n",
              "    </tr>\n",
              "    <tr>\n",
              "      <th>4</th>\n",
              "      <td>8.93</td>\n",
              "      <td>0.000000</td>\n",
              "      <td>0</td>\n",
              "      <td>0</td>\n",
              "      <td>0</td>\n",
              "      <td>0</td>\n",
              "      <td>1</td>\n",
              "      <td>0</td>\n",
              "      <td>0</td>\n",
              "      <td>0</td>\n",
              "      <td>...</td>\n",
              "      <td>0</td>\n",
              "      <td>1987</td>\n",
              "      <td>2</td>\n",
              "      <td>3</td>\n",
              "      <td>1</td>\n",
              "      <td>0</td>\n",
              "      <td>0</td>\n",
              "      <td>0</td>\n",
              "      <td>994.7052</td>\n",
              "      <td>0</td>\n",
              "    </tr>\n",
              "  </tbody>\n",
              "</table>\n",
              "<p>5 rows × 38 columns</p>\n",
              "</div>\n",
              "      <button class=\"colab-df-convert\" onclick=\"convertToInteractive('df-ae09ecc7-dcb5-42ba-985f-2acaf1773898')\"\n",
              "              title=\"Convert this dataframe to an interactive table.\"\n",
              "              style=\"display:none;\">\n",
              "        \n",
              "  <svg xmlns=\"http://www.w3.org/2000/svg\" height=\"24px\"viewBox=\"0 0 24 24\"\n",
              "       width=\"24px\">\n",
              "    <path d=\"M0 0h24v24H0V0z\" fill=\"none\"/>\n",
              "    <path d=\"M18.56 5.44l.94 2.06.94-2.06 2.06-.94-2.06-.94-.94-2.06-.94 2.06-2.06.94zm-11 1L8.5 8.5l.94-2.06 2.06-.94-2.06-.94L8.5 2.5l-.94 2.06-2.06.94zm10 10l.94 2.06.94-2.06 2.06-.94-2.06-.94-.94-2.06-.94 2.06-2.06.94z\"/><path d=\"M17.41 7.96l-1.37-1.37c-.4-.4-.92-.59-1.43-.59-.52 0-1.04.2-1.43.59L10.3 9.45l-7.72 7.72c-.78.78-.78 2.05 0 2.83L4 21.41c.39.39.9.59 1.41.59.51 0 1.02-.2 1.41-.59l7.78-7.78 2.81-2.81c.8-.78.8-2.07 0-2.86zM5.41 20L4 18.59l7.72-7.72 1.47 1.35L5.41 20z\"/>\n",
              "  </svg>\n",
              "      </button>\n",
              "      \n",
              "  <style>\n",
              "    .colab-df-container {\n",
              "      display:flex;\n",
              "      flex-wrap:wrap;\n",
              "      gap: 12px;\n",
              "    }\n",
              "\n",
              "    .colab-df-convert {\n",
              "      background-color: #E8F0FE;\n",
              "      border: none;\n",
              "      border-radius: 50%;\n",
              "      cursor: pointer;\n",
              "      display: none;\n",
              "      fill: #1967D2;\n",
              "      height: 32px;\n",
              "      padding: 0 0 0 0;\n",
              "      width: 32px;\n",
              "    }\n",
              "\n",
              "    .colab-df-convert:hover {\n",
              "      background-color: #E2EBFA;\n",
              "      box-shadow: 0px 1px 2px rgba(60, 64, 67, 0.3), 0px 1px 3px 1px rgba(60, 64, 67, 0.15);\n",
              "      fill: #174EA6;\n",
              "    }\n",
              "\n",
              "    [theme=dark] .colab-df-convert {\n",
              "      background-color: #3B4455;\n",
              "      fill: #D2E3FC;\n",
              "    }\n",
              "\n",
              "    [theme=dark] .colab-df-convert:hover {\n",
              "      background-color: #434B5C;\n",
              "      box-shadow: 0px 1px 3px 1px rgba(0, 0, 0, 0.15);\n",
              "      filter: drop-shadow(0px 1px 2px rgba(0, 0, 0, 0.3));\n",
              "      fill: #FFFFFF;\n",
              "    }\n",
              "  </style>\n",
              "\n",
              "      <script>\n",
              "        const buttonEl =\n",
              "          document.querySelector('#df-ae09ecc7-dcb5-42ba-985f-2acaf1773898 button.colab-df-convert');\n",
              "        buttonEl.style.display =\n",
              "          google.colab.kernel.accessAllowed ? 'block' : 'none';\n",
              "\n",
              "        async function convertToInteractive(key) {\n",
              "          const element = document.querySelector('#df-ae09ecc7-dcb5-42ba-985f-2acaf1773898');\n",
              "          const dataTable =\n",
              "            await google.colab.kernel.invokeFunction('convertToInteractive',\n",
              "                                                     [key], {});\n",
              "          if (!dataTable) return;\n",
              "\n",
              "          const docLinkHtml = 'Like what you see? Visit the ' +\n",
              "            '<a target=\"_blank\" href=https://colab.research.google.com/notebooks/data_table.ipynb>data table notebook</a>'\n",
              "            + ' to learn more about interactive tables.';\n",
              "          element.innerHTML = '';\n",
              "          dataTable['output_type'] = 'display_data';\n",
              "          await google.colab.output.renderOutput(dataTable, element);\n",
              "          const docLink = document.createElement('div');\n",
              "          docLink.innerHTML = docLinkHtml;\n",
              "          element.appendChild(docLink);\n",
              "        }\n",
              "      </script>\n",
              "    </div>\n",
              "  </div>\n",
              "  "
            ]
          },
          "metadata": {},
          "execution_count": 228
        }
      ]
    },
    {
      "cell_type": "code",
      "source": [
        "#Examinaremos las características de los features que nos brindan información cuantitativa sobre cada punto de datos. \n",
        "#La columna \"Item_Outlet_Sales\", será la variable que buscamos predecir.\n",
        " \n",
        "# matriz de características (debe ser una matriz NumPy)\n",
        "# valores convierte el marco de datos en Num\n",
        "X_ohe=df_ohe.drop(\"Item_Outlet_Sales\", axis=1)\n",
        "X_ohe.shape"
      ],
      "metadata": {
        "colab": {
          "base_uri": "https://localhost:8080/"
        },
        "id": "4Ei7dIFFCkCt",
        "outputId": "43833fb4-59cc-4cf9-911f-f4ec00d9fb4b"
      },
      "execution_count": 229,
      "outputs": [
        {
          "output_type": "execute_result",
          "data": {
            "text/plain": [
              "(8523, 37)"
            ]
          },
          "metadata": {},
          "execution_count": 229
        }
      ]
    },
    {
      "cell_type": "code",
      "source": [
        "y=df_ohe[\"Item_Outlet_Sales\"].values\n",
        "y.shape"
      ],
      "metadata": {
        "colab": {
          "base_uri": "https://localhost:8080/"
        },
        "id": "RWQUv1KeW3Af",
        "outputId": "878bad28-f245-43e6-fd8c-f859734003aa"
      },
      "execution_count": 230,
      "outputs": [
        {
          "output_type": "execute_result",
          "data": {
            "text/plain": [
              "(8523,)"
            ]
          },
          "metadata": {},
          "execution_count": 230
        }
      ]
    },
    {
      "cell_type": "code",
      "source": [
        "X_ohe_train, X_ohe_test, y_ohe_train, y_ohe_test = train_test_split(X_ohe, y, test_size=0.3, random_state=42)"
      ],
      "metadata": {
        "id": "A9dVMh3yWbkQ"
      },
      "execution_count": 231,
      "outputs": []
    },
    {
      "cell_type": "code",
      "source": [
        "# Hacer una instancia de regresión lineal\n",
        "reg = LinearRegression(fit_intercept=True)"
      ],
      "metadata": {
        "id": "draOdw5v9zjp"
      },
      "execution_count": 232,
      "outputs": []
    },
    {
      "cell_type": "code",
      "source": [
        "reg.fit(X_ohe_train,y_ohe_train)"
      ],
      "metadata": {
        "colab": {
          "base_uri": "https://localhost:8080/"
        },
        "id": "_kwtTY3m-G-D",
        "outputId": "ff8e66fb-9394-4f34-d877-ed9c384d1270"
      },
      "execution_count": 233,
      "outputs": [
        {
          "output_type": "execute_result",
          "data": {
            "text/plain": [
              "LinearRegression()"
            ]
          },
          "metadata": {},
          "execution_count": 233
        }
      ]
    },
    {
      "cell_type": "code",
      "source": [
        "reg.predict(X_ohe_train[0:10])\n"
      ],
      "metadata": {
        "colab": {
          "base_uri": "https://localhost:8080/"
        },
        "id": "FcFfrooAVD0Z",
        "outputId": "0d7e56e4-9cc3-48e8-9252-841c6064a679"
      },
      "execution_count": 234,
      "outputs": [
        {
          "output_type": "execute_result",
          "data": {
            "text/plain": [
              "array([  17.66662561, 1657.02995605, 3547.33822047, 3411.06647952,\n",
              "       3033.78515311, 2677.69573299, 1598.62641643, 3384.19059714,\n",
              "       1694.04774558, 3472.45671867])"
            ]
          },
          "metadata": {},
          "execution_count": 234
        }
      ]
    },
    {
      "cell_type": "code",
      "source": [
        "y"
      ],
      "metadata": {
        "colab": {
          "base_uri": "https://localhost:8080/"
        },
        "id": "KiNO-L3U2Ra9",
        "outputId": "b3d82c13-648c-477b-8362-f0ac2b02fe2f"
      },
      "execution_count": 235,
      "outputs": [
        {
          "output_type": "execute_result",
          "data": {
            "text/plain": [
              "array([3735.138 ,  443.4228, 2097.27  , ..., 1193.1136, 1845.5976,\n",
              "        765.67  ])"
            ]
          },
          "metadata": {},
          "execution_count": 235
        }
      ]
    },
    {
      "cell_type": "code",
      "source": [
        "reg.predict(X_ohe_test[0:10])"
      ],
      "metadata": {
        "colab": {
          "base_uri": "https://localhost:8080/"
        },
        "id": "PHT-tpcbV4ya",
        "outputId": "e1fdc76a-8ae9-4914-ba8b-ac2b146d8005"
      },
      "execution_count": 236,
      "outputs": [
        {
          "output_type": "execute_result",
          "data": {
            "text/plain": [
              "array([1331.29570452,  711.29943065,  899.36466498, 4240.93386203,\n",
              "       3339.89389409,  620.950039  , 4739.68674786, 2083.31193765,\n",
              "       1392.00542987, 2829.07918442])"
            ]
          },
          "metadata": {},
          "execution_count": 236
        }
      ]
    },
    {
      "cell_type": "code",
      "source": [
        "score = reg.score(X_ohe_test, y_ohe_test)\n"
      ],
      "metadata": {
        "id": "ocSlW2oaa98B"
      },
      "execution_count": 237,
      "outputs": []
    },
    {
      "cell_type": "code",
      "source": [
        "score"
      ],
      "metadata": {
        "colab": {
          "base_uri": "https://localhost:8080/"
        },
        "id": "jvU3s796bJsk",
        "outputId": "71f0c379-4f97-43df-d45e-2a233b47c46c"
      },
      "execution_count": 238,
      "outputs": [
        {
          "output_type": "execute_result",
          "data": {
            "text/plain": [
              "0.5678856047927663"
            ]
          },
          "metadata": {},
          "execution_count": 238
        }
      ]
    },
    {
      "cell_type": "code",
      "source": [
        "#nuestra regresion lineal funciona mas o menos mal, de todos modos, revisaremos cuales son los features mas relevantes:\n",
        "reg.coef_"
      ],
      "metadata": {
        "colab": {
          "base_uri": "https://localhost:8080/"
        },
        "id": "o3F8cXrzbKAg",
        "outputId": "523c58c5-6e35-438b-b9d5-94045ef7636a"
      },
      "execution_count": 239,
      "outputs": [
        {
          "output_type": "execute_result",
          "data": {
            "text/plain": [
              "array([   -1.59137657,  -514.7308738 ,  -124.33579775,   -53.34499238,\n",
              "         -39.5573327 ,    23.17788808,    -5.27250357,   -22.11783909,\n",
              "         -32.74051631,   -48.69870346,     7.21316942,    13.32956984,\n",
              "          -1.60024579,     5.36278989,   -37.23786323,     7.33858845,\n",
              "         -25.41541282,   333.89920142,    15.81259014,   203.23757143,\n",
              "           1.87844781,  -636.49218378,  -178.49914012,   761.66014845,\n",
              "         -69.95173976,   125.54924827,    91.9549504 ,   160.90703861,\n",
              "        -460.2443413 ,    -7.39089772,    28.88321218,   113.59909184,\n",
              "         333.19792882,     1.87844781, -1096.73652508,   761.66014845,\n",
              "          76.23958294])"
            ]
          },
          "metadata": {},
          "execution_count": 239
        }
      ]
    },
    {
      "cell_type": "code",
      "source": [
        "#se aprecia que los coeficientes 23 y 35 son los mas altamente influyentes, mientras que 24 y 18 los que influyen negativamente. \n",
        "reg.coef_"
      ],
      "metadata": {
        "colab": {
          "base_uri": "https://localhost:8080/"
        },
        "id": "tvQh2cCZ2W_W",
        "outputId": "2b636aee-d2d7-4dcb-87a0-93b6b988fa7b"
      },
      "execution_count": 240,
      "outputs": [
        {
          "output_type": "execute_result",
          "data": {
            "text/plain": [
              "array([   -1.59137657,  -514.7308738 ,  -124.33579775,   -53.34499238,\n",
              "         -39.5573327 ,    23.17788808,    -5.27250357,   -22.11783909,\n",
              "         -32.74051631,   -48.69870346,     7.21316942,    13.32956984,\n",
              "          -1.60024579,     5.36278989,   -37.23786323,     7.33858845,\n",
              "         -25.41541282,   333.89920142,    15.81259014,   203.23757143,\n",
              "           1.87844781,  -636.49218378,  -178.49914012,   761.66014845,\n",
              "         -69.95173976,   125.54924827,    91.9549504 ,   160.90703861,\n",
              "        -460.2443413 ,    -7.39089772,    28.88321218,   113.59909184,\n",
              "         333.19792882,     1.87844781, -1096.73652508,   761.66014845,\n",
              "          76.23958294])"
            ]
          },
          "metadata": {},
          "execution_count": 240
        }
      ]
    },
    {
      "cell_type": "code",
      "source": [
        "reg.coef_[0]"
      ],
      "metadata": {
        "colab": {
          "base_uri": "https://localhost:8080/"
        },
        "id": "7qAiC2UEx2Xt",
        "outputId": "47f19bb8-5b28-485c-9c0a-22a2f3226f27"
      },
      "execution_count": 241,
      "outputs": [
        {
          "output_type": "execute_result",
          "data": {
            "text/plain": [
              "-1.5913765741655752"
            ]
          },
          "metadata": {},
          "execution_count": 241
        }
      ]
    },
    {
      "cell_type": "code",
      "source": [
        "#df_ohe contiene las 37 columnas feaures y la target, por lo que podemos crear un diccionario para asociar cada una de las columnas con las respuestas\n",
        "df_cols={}\n",
        "for i in range(36):\n",
        "  \n",
        "  #print(df_ohe.columns[i])\n",
        "  df_cols[df_ohe.columns[i]]= reg.coef_[i]\n",
        "print(df_cols)"
      ],
      "metadata": {
        "colab": {
          "base_uri": "https://localhost:8080/"
        },
        "id": "vlZpMpMNNdrr",
        "outputId": "9c698862-6181-41e7-c5b6-c202e3085444"
      },
      "execution_count": 242,
      "outputs": [
        {
          "output_type": "stream",
          "name": "stdout",
          "text": [
            "{'Item_Weight': -1.5913765741655752, 'Item_Visibility': -514.7308738035172, 'Item_Type_Dairy': -124.33579774709176, 'Item_Type_Soft Drinks': -53.34499238125909, 'Item_Type_Meat': -39.55733269858203, 'Item_Type_Fruits and Vegetables': 23.177888084063344, 'Item_Type_Household': -5.272503565823158, 'Item_Type_Baking Goods': -22.11783908840722, 'Item_Type_Snack Foods': -32.74051630822479, 'Item_Type_Frozen Foods': -48.69870346362569, 'Item_Type_Breakfast': 7.213169415726314, 'Item_Type_Health and Hygiene': 13.329569839385366, 'Item_Type_Hard Drinks': -1.6002457931696739, 'Item_Type_Canned': 5.362789888736302, 'Item_Type_Breads': -37.237863234311405, 'Item_Type_Starchy Foods': 7.338588449935988, 'Item_Type_Others': -25.415412815304993, 'Item_Type_Seafood': 333.8992014179671, 'Item_MRP': 15.812590144191832, 'Outlet_Identifier_OUT049': 203.23757142633377, 'Outlet_Identifier_OUT018': 1.8784478086439345, 'Outlet_Identifier_OUT010': -636.4921837770039, 'Outlet_Identifier_OUT013': -178.49914012000244, 'Outlet_Identifier_OUT027': 761.66014845351, 'Outlet_Identifier_OUT045': -69.95173976317523, 'Outlet_Identifier_OUT017': 125.54924826830784, 'Outlet_Identifier_OUT046': 91.95495039731198, 'Outlet_Identifier_OUT035': 160.90703860802404, 'Outlet_Identifier_OUT019': -460.244341301955, 'Outlet_Establishment_Year': -7.390897715956665, 'Outlet_Size': 28.883212176626724, 'Outlet_Location_Type': 113.59909184347991, 'Outlet_Type_Supermarket Type1': 333.1979288167982, 'Outlet_Type_Supermarket Type2': 1.8784478086438066, 'Outlet_Type_Grocery Store': -1096.736525078951, 'Outlet_Type_Supermarket Type3': 761.6601484535117}\n"
          ]
        }
      ]
    },
    {
      "cell_type": "code",
      "source": [
        "#probemos ahora con KNN\n",
        "from sklearn.preprocessing import StandardScaler\n",
        "from sklearn.neighbors import KNeighborsClassifier"
      ],
      "metadata": {
        "id": "rhJHraLobSlo"
      },
      "execution_count": 243,
      "outputs": []
    },
    {
      "cell_type": "code",
      "source": [
        "X_ohe.shape"
      ],
      "metadata": {
        "colab": {
          "base_uri": "https://localhost:8080/"
        },
        "id": "s8heVjAqbkMT",
        "outputId": "3d671ec8-0bf0-46b7-9530-481fcaf07e64"
      },
      "execution_count": 244,
      "outputs": [
        {
          "output_type": "execute_result",
          "data": {
            "text/plain": [
              "(8523, 37)"
            ]
          },
          "metadata": {},
          "execution_count": 244
        }
      ]
    },
    {
      "cell_type": "code",
      "source": [
        "y.shape"
      ],
      "metadata": {
        "colab": {
          "base_uri": "https://localhost:8080/"
        },
        "id": "PzFiMiPwbuYB",
        "outputId": "d4cbe38e-51da-4ddd-c741-2ece00d246f0"
      },
      "execution_count": 245,
      "outputs": [
        {
          "output_type": "execute_result",
          "data": {
            "text/plain": [
              "(8523,)"
            ]
          },
          "metadata": {},
          "execution_count": 245
        }
      ]
    },
    {
      "cell_type": "code",
      "source": [
        "scaler = StandardScaler()\n",
        "# Ajusta en X_ohe (asumiendo que tu matriz de características es una matriz NumPy)\n",
        "scaler.fit(X_ohe)\n",
        "# Transform X\n",
        "X_ohe = scaler.transform(X_ohe);\n",
        "scaler3= StandardScaler()\n",
        "scaler3.fit(y.reshape(-1, 1))\n",
        "y= scaler3.transform(y.reshape(-1, 1));\n",
        "y"
      ],
      "metadata": {
        "colab": {
          "base_uri": "https://localhost:8080/"
        },
        "id": "jopo2gyibwbL",
        "outputId": "196fc2c1-657d-42c5-a5a0-4e7ed6bebf20"
      },
      "execution_count": 246,
      "outputs": [
        {
          "output_type": "execute_result",
          "data": {
            "text/plain": [
              "array([[ 0.910601  ],\n",
              "       [-1.01844035],\n",
              "       [-0.04923754],\n",
              "       ...,\n",
              "       [-0.57909963],\n",
              "       [-0.19672492],\n",
              "       [-0.82959407]])"
            ]
          },
          "metadata": {},
          "execution_count": 246
        }
      ]
    },
    {
      "cell_type": "code",
      "source": [
        "from sklearn import neighbors\n",
        "from sklearn.metrics import mean_squared_error "
      ],
      "metadata": {
        "id": "d-T9DUJWb0mF"
      },
      "execution_count": 247,
      "outputs": []
    },
    {
      "cell_type": "code",
      "source": [
        "X_ohe[0]\n"
      ],
      "metadata": {
        "colab": {
          "base_uri": "https://localhost:8080/"
        },
        "id": "veJwtgiZeZHz",
        "outputId": "b79e9928-f6be-4cef-e259-8485b1aedbd6"
      },
      "execution_count": 248,
      "outputs": [
        {
          "output_type": "execute_result",
          "data": {
            "text/plain": [
              "array([-0.84187169, -0.97073217,  3.39073258, -0.2347081 , -0.22908971,\n",
              "       -0.41106623, -0.34573455, -0.28685487, -0.40480522, -0.33413668,\n",
              "       -0.11434598, -0.25490319, -0.16048428, -0.28709435, -0.17419336,\n",
              "       -0.13293473, -0.14223161, -0.08698222,  1.74745381,  2.85736174,\n",
              "       -0.34955064, -0.26391971, -0.35039545, -0.35102831, -0.34976195,\n",
              "       -0.3491278 , -0.34997319, -0.34997319, -0.25698497,  0.13954076,\n",
              "        0.28458121, -1.36933384,  0.72680189, -0.34955064, -0.38152918,\n",
              "       -0.35102831, -0.73814723])"
            ]
          },
          "metadata": {},
          "execution_count": 248
        }
      ]
    },
    {
      "cell_type": "code",
      "source": [
        "rmse_val=[]\n",
        "for K in range(20):\n",
        "    K = K+1\n",
        "    model = neighbors.KNeighborsRegressor(n_neighbors = K)\n",
        "\n",
        "    model.fit(X_ohe_train, y_ohe_train)  #fit the model\n",
        "    pred=model.predict(X_ohe_test) #make prediction on test set\n",
        "    error = mean_squared_error(y_ohe_test,pred)**(1/2) #calculate rmse\n",
        "    rmse_val.append(error) #store rmse values\n",
        "    \n",
        "    print('Score for k= ' , K , 'is:', model.score(X_ohe_test, y_ohe_test))\n",
        "    print('RMSE value for k= ' , K , 'is:', error)"
      ],
      "metadata": {
        "colab": {
          "base_uri": "https://localhost:8080/"
        },
        "id": "Wnkry0E-VvJv",
        "outputId": "55a7de78-c993-4fc7-a1b6-b5b399661de7"
      },
      "execution_count": 249,
      "outputs": [
        {
          "output_type": "stream",
          "name": "stdout",
          "text": [
            "Score for k=  1 is: 0.14864653684204265\n",
            "RMSE value for k=  1 is: 1544.2265182939254\n",
            "Score for k=  2 is: 0.3767823344048\n",
            "RMSE value for k=  2 is: 1321.2224065120367\n",
            "Score for k=  3 is: 0.4446218768376624\n",
            "RMSE value for k=  3 is: 1247.2411668221382\n",
            "Score for k=  4 is: 0.4768309054043084\n",
            "RMSE value for k=  4 is: 1210.534281909469\n",
            "Score for k=  5 is: 0.49016272045959053\n",
            "RMSE value for k=  5 is: 1195.0108451391764\n",
            "Score for k=  6 is: 0.4969065154531801\n",
            "RMSE value for k=  6 is: 1187.0811235435226\n",
            "Score for k=  7 is: 0.5052702731564305\n",
            "RMSE value for k=  7 is: 1177.172358952642\n",
            "Score for k=  8 is: 0.5076459695988107\n",
            "RMSE value for k=  8 is: 1174.3425617442492\n",
            "Score for k=  9 is: 0.5082331836727704\n",
            "RMSE value for k=  9 is: 1173.6420533977594\n",
            "Score for k=  10 is: 0.5046190241884747\n",
            "RMSE value for k=  10 is: 1177.9469032286954\n",
            "Score for k=  11 is: 0.5028419290066375\n",
            "RMSE value for k=  11 is: 1180.0578540596662\n",
            "Score for k=  12 is: 0.4958136724357719\n",
            "RMSE value for k=  12 is: 1188.3697404812756\n",
            "Score for k=  13 is: 0.48863032496700987\n",
            "RMSE value for k=  13 is: 1196.8053934772875\n",
            "Score for k=  14 is: 0.4791800493132762\n",
            "RMSE value for k=  14 is: 1207.813442048984\n",
            "Score for k=  15 is: 0.47500733149569174\n",
            "RMSE value for k=  15 is: 1212.642183990304\n",
            "Score for k=  16 is: 0.46938546145598414\n",
            "RMSE value for k=  16 is: 1219.1176678178617\n",
            "Score for k=  17 is: 0.4635380258320224\n",
            "RMSE value for k=  17 is: 1225.8166736180585\n",
            "Score for k=  18 is: 0.4562896718060949\n",
            "RMSE value for k=  18 is: 1234.0701398343163\n",
            "Score for k=  19 is: 0.4500548897402661\n",
            "RMSE value for k=  19 is: 1241.125575532784\n",
            "Score for k=  20 is: 0.44286948852961305\n",
            "RMSE value for k=  20 is: 1249.2073312801679\n"
          ]
        }
      ]
    },
    {
      "cell_type": "code",
      "source": [
        "#como podemos apreciar en lo anterior, tenemos otro modelo que predice aprox con un 50% de exactitud los valores y en este caso el RMSE para el mejor valor de k es de 1174.3425617442492\n",
        "\n",
        "#¿Cómo podemos mejorar los resultados de nuestros modelos?\n",
        "#una de las maneras fue iterando los resultados y cambiando los valores de k, otra manera es eliminar columnas que no son relevantes... \n",
        "#elegir cuales son estas columnas no es facil, pero podemos ver cuales no son relevantes viendo los pesos que el modelo les da a las variables\n",
        "\n"
      ],
      "metadata": {
        "colab": {
          "base_uri": "https://localhost:8080/"
        },
        "id": "nZKattLDVzJG",
        "outputId": "41bd5c57-ddd1-4b07-baa3-be4a61f5051c"
      },
      "execution_count": 250,
      "outputs": [
        {
          "output_type": "stream",
          "name": "stdout",
          "text": [
            "<class 'pandas.core.frame.DataFrame'>\n",
            "RangeIndex: 8523 entries, 0 to 8522\n",
            "Data columns (total 38 columns):\n",
            " #   Column                           Non-Null Count  Dtype  \n",
            "---  ------                           --------------  -----  \n",
            " 0   Item_Weight                      8523 non-null   float64\n",
            " 1   Item_Visibility                  8523 non-null   float64\n",
            " 2   Item_Type_Dairy                  8523 non-null   int64  \n",
            " 3   Item_Type_Soft Drinks            8523 non-null   int64  \n",
            " 4   Item_Type_Meat                   8523 non-null   int64  \n",
            " 5   Item_Type_Fruits and Vegetables  8523 non-null   int64  \n",
            " 6   Item_Type_Household              8523 non-null   int64  \n",
            " 7   Item_Type_Baking Goods           8523 non-null   int64  \n",
            " 8   Item_Type_Snack Foods            8523 non-null   int64  \n",
            " 9   Item_Type_Frozen Foods           8523 non-null   int64  \n",
            " 10  Item_Type_Breakfast              8523 non-null   int64  \n",
            " 11  Item_Type_Health and Hygiene     8523 non-null   int64  \n",
            " 12  Item_Type_Hard Drinks            8523 non-null   int64  \n",
            " 13  Item_Type_Canned                 8523 non-null   int64  \n",
            " 14  Item_Type_Breads                 8523 non-null   int64  \n",
            " 15  Item_Type_Starchy Foods          8523 non-null   int64  \n",
            " 16  Item_Type_Others                 8523 non-null   int64  \n",
            " 17  Item_Type_Seafood                8523 non-null   int64  \n",
            " 18  Item_MRP                         8523 non-null   float64\n",
            " 19  Outlet_Identifier_OUT049         8523 non-null   int64  \n",
            " 20  Outlet_Identifier_OUT018         8523 non-null   int64  \n",
            " 21  Outlet_Identifier_OUT010         8523 non-null   int64  \n",
            " 22  Outlet_Identifier_OUT013         8523 non-null   int64  \n",
            " 23  Outlet_Identifier_OUT027         8523 non-null   int64  \n",
            " 24  Outlet_Identifier_OUT045         8523 non-null   int64  \n",
            " 25  Outlet_Identifier_OUT017         8523 non-null   int64  \n",
            " 26  Outlet_Identifier_OUT046         8523 non-null   int64  \n",
            " 27  Outlet_Identifier_OUT035         8523 non-null   int64  \n",
            " 28  Outlet_Identifier_OUT019         8523 non-null   int64  \n",
            " 29  Outlet_Establishment_Year        8523 non-null   int64  \n",
            " 30  Outlet_Size                      8523 non-null   int64  \n",
            " 31  Outlet_Location_Type             8523 non-null   int64  \n",
            " 32  Outlet_Type_Supermarket Type1    8523 non-null   int64  \n",
            " 33  Outlet_Type_Supermarket Type2    8523 non-null   int64  \n",
            " 34  Outlet_Type_Grocery Store        8523 non-null   int64  \n",
            " 35  Outlet_Type_Supermarket Type3    8523 non-null   int64  \n",
            " 36  Item_Outlet_Sales                8523 non-null   float64\n",
            " 37  Item_Fat_Content_n               8523 non-null   int64  \n",
            "dtypes: float64(4), int64(34)\n",
            "memory usage: 2.5 MB\n"
          ]
        }
      ]
    },
    {
      "cell_type": "code",
      "source": [
        "#anteriormente habiamos generado una lista con los features que afectaban poco los resultados de nuestro modelo de regresion lineal, por lo que \n",
        "#ocuparemos dichos valores para elegir qué features usaremos para filtrar nuestro modelo, para ello creo que una buena solucion es descartar los features\n",
        "#cuyo valor absoluto es un outlayer, para ello primero graficaremos usando hitograma, los valores del diccionario de resultados de la regresion lineal"
      ],
      "metadata": {
        "id": "uomjjzvsLwab"
      },
      "execution_count": 251,
      "outputs": []
    },
    {
      "cell_type": "code",
      "source": [
        "good_cols={}\n",
        "for key, value in df_cols.items():\n",
        "  if value > abs(35):\n",
        "    print(\"el valor a guardar sera: \", value)\n",
        "    good_cols[key]=value\n",
        "good_cols"
      ],
      "metadata": {
        "colab": {
          "base_uri": "https://localhost:8080/"
        },
        "id": "hrftRAuUMIOC",
        "outputId": "613852f4-f0dd-465f-fcd3-0e190772f9dd"
      },
      "execution_count": 252,
      "outputs": [
        {
          "output_type": "stream",
          "name": "stdout",
          "text": [
            "el valor a guardar sera:  333.8992014179671\n",
            "el valor a guardar sera:  203.23757142633377\n",
            "el valor a guardar sera:  761.66014845351\n",
            "el valor a guardar sera:  125.54924826830784\n",
            "el valor a guardar sera:  91.95495039731198\n",
            "el valor a guardar sera:  160.90703860802404\n",
            "el valor a guardar sera:  113.59909184347991\n",
            "el valor a guardar sera:  333.1979288167982\n",
            "el valor a guardar sera:  761.6601484535117\n"
          ]
        },
        {
          "output_type": "execute_result",
          "data": {
            "text/plain": [
              "{'Item_Type_Seafood': 333.8992014179671,\n",
              " 'Outlet_Identifier_OUT017': 125.54924826830784,\n",
              " 'Outlet_Identifier_OUT027': 761.66014845351,\n",
              " 'Outlet_Identifier_OUT035': 160.90703860802404,\n",
              " 'Outlet_Identifier_OUT046': 91.95495039731198,\n",
              " 'Outlet_Identifier_OUT049': 203.23757142633377,\n",
              " 'Outlet_Location_Type': 113.59909184347991,\n",
              " 'Outlet_Type_Supermarket Type1': 333.1979288167982,\n",
              " 'Outlet_Type_Supermarket Type3': 761.6601484535117}"
            ]
          },
          "metadata": {},
          "execution_count": 252
        }
      ]
    },
    {
      "cell_type": "code",
      "source": [
        "gc=[*good_cols] #acceder a los indices del dict y transformarlos a lista\n",
        "gc"
      ],
      "metadata": {
        "colab": {
          "base_uri": "https://localhost:8080/"
        },
        "id": "MyA6lyplMFub",
        "outputId": "8f2a77e8-1bff-4495-9fe1-b8fc1f90dfcf"
      },
      "execution_count": 253,
      "outputs": [
        {
          "output_type": "execute_result",
          "data": {
            "text/plain": [
              "['Item_Type_Seafood',\n",
              " 'Outlet_Identifier_OUT049',\n",
              " 'Outlet_Identifier_OUT027',\n",
              " 'Outlet_Identifier_OUT017',\n",
              " 'Outlet_Identifier_OUT046',\n",
              " 'Outlet_Identifier_OUT035',\n",
              " 'Outlet_Location_Type',\n",
              " 'Outlet_Type_Supermarket Type1',\n",
              " 'Outlet_Type_Supermarket Type3']"
            ]
          },
          "metadata": {},
          "execution_count": 253
        }
      ]
    },
    {
      "cell_type": "code",
      "source": [
        "new_df=df_ohe.loc[:,gc]\n",
        "new_df_arr=new_df.values\n",
        "scaler2 = StandardScaler()\n",
        "# Ajusta en X_ohe (asumiendo que tu matriz de características es una matriz NumPy)\n"
      ],
      "metadata": {
        "id": "LDwIuBIUq0RW"
      },
      "execution_count": 254,
      "outputs": []
    },
    {
      "cell_type": "code",
      "source": [
        "scaler2.fit(new_df_arr)\n",
        "# Transform X\n",
        "new_df_arr = scaler2.transform(new_df_arr);\n",
        "new_df_arr"
      ],
      "metadata": {
        "colab": {
          "base_uri": "https://localhost:8080/"
        },
        "id": "9iFifaT4tdac",
        "outputId": "78c8647b-fce2-4a3a-8554-1fd7861923db"
      },
      "execution_count": 255,
      "outputs": [
        {
          "output_type": "execute_result",
          "data": {
            "text/plain": [
              "array([[-0.08698222,  2.85736174, -0.35102831, ..., -1.36933384,\n",
              "         0.72680189, -0.35102831],\n",
              "       [-0.08698222, -0.34997319, -0.35102831, ...,  1.09156913,\n",
              "        -1.37589075, -0.35102831],\n",
              "       [-0.08698222,  2.85736174, -0.35102831, ..., -1.36933384,\n",
              "         0.72680189, -0.35102831],\n",
              "       ...,\n",
              "       [-0.08698222, -0.34997319, -0.35102831, ..., -0.13888236,\n",
              "         0.72680189, -0.35102831],\n",
              "       [-0.08698222, -0.34997319, -0.35102831, ...,  1.09156913,\n",
              "        -1.37589075, -0.35102831],\n",
              "       [-0.08698222, -0.34997319, -0.35102831, ..., -1.36933384,\n",
              "         0.72680189, -0.35102831]])"
            ]
          },
          "metadata": {},
          "execution_count": 255
        }
      ]
    },
    {
      "cell_type": "code",
      "source": [
        "X_new_train, X_new_test, y_new_train, y_new_test = train_test_split(new_df_arr, y, test_size=0.3, random_state=42)\n"
      ],
      "metadata": {
        "id": "87NCW3w-slQ9"
      },
      "execution_count": 256,
      "outputs": []
    },
    {
      "cell_type": "code",
      "source": [
        "#usaremos la lista de variables que para la regresion eran relevantes para generar un modelo en KNN y evaluar si mejora:\n",
        "\n",
        "rmse_val=[]\n",
        "for K in range(20):\n",
        "    K = K+1 #solo para q no parta con neighbors=0\n",
        "    model2 = neighbors.KNeighborsRegressor(n_neighbors = K)\n",
        "\n",
        "    model2.fit(X_new_train, y_new_train)  #fit the model\n",
        "    pred=model2.predict(X_new_test) #make prediction on test set\n",
        "    error = mean_squared_error(y_new_test,pred)**(1/2) #calculate rmse\n",
        "    rmse_val.append(error) #store rmse values\n",
        "    \n",
        "    print('Score for k= ' , K , 'is:', model2.score(X_new_test, y_new_test))\n",
        "    print('RMSE value for k= ' , K , 'is:', error)"
      ],
      "metadata": {
        "colab": {
          "base_uri": "https://localhost:8080/"
        },
        "id": "8rkpyoRsuFf_",
        "outputId": "7ff70f00-32f3-48ca-b273-2c9c2c2c6638"
      },
      "execution_count": 257,
      "outputs": [
        {
          "output_type": "stream",
          "name": "stdout",
          "text": [
            "Score for k=  1 is: -0.6879204124286833\n",
            "RMSE value for k=  1 is: 1.2742402514412796\n",
            "Score for k=  2 is: -0.6499956474129784\n",
            "RMSE value for k=  2 is: 1.2598438966685408\n",
            "Score for k=  3 is: -0.29539535498148095\n",
            "RMSE value for k=  3 is: 1.1162886391584421\n",
            "Score for k=  4 is: -0.013379871410372113\n",
            "RMSE value for k=  4 is: 0.9873280464773883\n",
            "Score for k=  5 is: -0.004512303858585698\n",
            "RMSE value for k=  5 is: 0.9829987541171686\n",
            "Score for k=  6 is: 0.07572132586656732\n",
            "RMSE value for k=  6 is: 0.9429242465729227\n",
            "Score for k=  7 is: 0.1387324428091331\n",
            "RMSE value for k=  7 is: 0.9102158235904817\n",
            "Score for k=  8 is: 0.09218861953088975\n",
            "RMSE value for k=  8 is: 0.9344867512133384\n",
            "Score for k=  9 is: 0.12125118152723313\n",
            "RMSE value for k=  9 is: 0.9194068055805135\n",
            "Score for k=  10 is: 0.10784048710787741\n",
            "RMSE value for k=  10 is: 0.9263958319424138\n",
            "Score for k=  11 is: 0.1371733272245903\n",
            "RMSE value for k=  11 is: 0.9110393133390671\n",
            "Score for k=  12 is: 0.12663501829582935\n",
            "RMSE value for k=  12 is: 0.9165860102188677\n",
            "Score for k=  13 is: 0.11383370627021416\n",
            "RMSE value for k=  13 is: 0.9232789851885704\n",
            "Score for k=  14 is: 0.11721531167038757\n",
            "RMSE value for k=  14 is: 0.9215156877905685\n",
            "Score for k=  15 is: 0.14331680379980072\n",
            "RMSE value for k=  15 is: 0.9077901398389852\n",
            "Score for k=  16 is: 0.15152038351465658\n",
            "RMSE value for k=  16 is: 0.9034331948959602\n",
            "Score for k=  17 is: 0.15874213844180207\n",
            "RMSE value for k=  17 is: 0.8995802352637015\n",
            "Score for k=  18 is: 0.16802169308865766\n",
            "RMSE value for k=  18 is: 0.894605035527545\n",
            "Score for k=  19 is: 0.17382659462996408\n",
            "RMSE value for k=  19 is: 0.8914786413684825\n",
            "Score for k=  20 is: 0.1873947094165339\n",
            "RMSE value for k=  20 is: 0.8841280307951516\n"
          ]
        }
      ]
    },
    {
      "cell_type": "code",
      "source": [
        "#el resultado anterior es muy malo, por lo que eliminando features sugeridos por la regresion lineal para aplicarlo al KNN en este caso no dio resultado\n",
        "#en el caso de una nueva regresion lineal:\n",
        "\n"
      ],
      "metadata": {
        "id": "ZKQg7OA6vY5b"
      },
      "execution_count": 258,
      "outputs": []
    },
    {
      "cell_type": "code",
      "source": [
        "# Hacer una instancia de regresión lineal\n",
        "reg2 = LinearRegression(fit_intercept=True)"
      ],
      "metadata": {
        "id": "4TO-cL4ZzqYH"
      },
      "execution_count": 259,
      "outputs": []
    },
    {
      "cell_type": "code",
      "source": [
        "reg2.fit(X_new_train, y_new_train)\n",
        "reg2_pred = model2.predict(X_new_test)\n",
        "reg2_pred"
      ],
      "metadata": {
        "colab": {
          "base_uri": "https://localhost:8080/"
        },
        "id": "9iVQOLJ2zz7R",
        "outputId": "81aee634-cf24-403f-92c6-26a7665510ac"
      },
      "execution_count": 261,
      "outputs": [
        {
          "output_type": "execute_result",
          "data": {
            "text/plain": [
              "array([[-0.15911174],\n",
              "       [-0.13306734],\n",
              "       [-0.01972055],\n",
              "       ...,\n",
              "       [-0.69014436],\n",
              "       [-0.10969566],\n",
              "       [ 0.30022562]])"
            ]
          },
          "metadata": {},
          "execution_count": 261
        }
      ]
    },
    {
      "cell_type": "code",
      "source": [
        " error2 = mean_squared_error(y_new_test,reg2_pred)**(1/2)\n",
        " print(\"el error es: \",error2)\n",
        " print(\"el score es: \", reg2.score(X_new_test, y_new_test))"
      ],
      "metadata": {
        "colab": {
          "base_uri": "https://localhost:8080/"
        },
        "id": "OqNcwWQa0Hn7",
        "outputId": "92212843-05a9-42ef-90fe-74853c2065e6"
      },
      "execution_count": 267,
      "outputs": [
        {
          "output_type": "stream",
          "name": "stdout",
          "text": [
            "el error es:  0.8841280307951516\n",
            "el score es:  0.22485534389296824\n"
          ]
        }
      ]
    },
    {
      "cell_type": "code",
      "source": [
        "#por lo anterior, al parecer no nos está resultando eliminar features para mejorar los resultados!"
      ],
      "metadata": {
        "id": "ZTTg7jVU07Ov"
      },
      "execution_count": 269,
      "outputs": []
    },
    {
      "cell_type": "code",
      "source": [
        ""
      ],
      "metadata": {
        "id": "_ZRpmWAU1P6c"
      },
      "execution_count": null,
      "outputs": []
    }
  ]
}