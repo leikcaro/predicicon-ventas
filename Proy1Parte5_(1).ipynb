{
  "nbformat": 4,
  "nbformat_minor": 0,
  "metadata": {
    "colab": {
      "name": "Proy1Parte5 (1).ipynb",
      "provenance": [],
      "authorship_tag": "ABX9TyOpdCxpmmRf0WcokOKEXNrG",
      "include_colab_link": true
    },
    "kernelspec": {
      "name": "python3",
      "display_name": "Python 3"
    },
    "language_info": {
      "name": "python"
    }
  },
  "cells": [
    {
      "cell_type": "markdown",
      "metadata": {
        "id": "view-in-github",
        "colab_type": "text"
      },
      "source": [
        "<a href=\"https://colab.research.google.com/github/leikcaro/predicicon-ventas/blob/main/Proy1Parte5_(1).ipynb\" target=\"_parent\"><img src=\"https://colab.research.google.com/assets/colab-badge.svg\" alt=\"Open In Colab\"/></a>"
      ]
    },
    {
      "cell_type": "code",
      "execution_count": 1,
      "metadata": {
        "colab": {
          "base_uri": "https://localhost:8080/"
        },
        "id": "9V2D_netvOLb",
        "outputId": "89f0ff1c-4f4e-4489-9887-0336ecca71cc"
      },
      "outputs": [
        {
          "output_type": "stream",
          "name": "stdout",
          "text": [
            "Mounted at /content/drive\n"
          ]
        }
      ],
      "source": [
        "from google.colab import drive\n",
        "drive.mount('/content/drive')\n",
        "import pandas as pd\n",
        "import numpy as np\n",
        "# importar modelo de regresión lineal\n",
        "from sklearn.linear_model import LinearRegression\n",
        "\n"
      ]
    },
    {
      "cell_type": "code",
      "source": [
        "filename = '/content/drive/MyDrive/Coding Dojo/Proyecto 1 /sales_predictions.csv'\n",
        "df = pd.read_csv(filename)\n",
        "df.head()\n"
      ],
      "metadata": {
        "colab": {
          "base_uri": "https://localhost:8080/",
          "height": 206
        },
        "id": "GlWYRyZtvbAy",
        "outputId": "07f8558e-180c-456a-a847-e1dfb906d6d8"
      },
      "execution_count": 2,
      "outputs": [
        {
          "output_type": "execute_result",
          "data": {
            "text/plain": [
              "  Item_Identifier  Item_Weight Item_Fat_Content  Item_Visibility  \\\n",
              "0           FDA15         9.30          Low Fat         0.016047   \n",
              "1           DRC01         5.92          Regular         0.019278   \n",
              "2           FDN15        17.50          Low Fat         0.016760   \n",
              "3           FDX07        19.20          Regular         0.000000   \n",
              "4           NCD19         8.93          Low Fat         0.000000   \n",
              "\n",
              "               Item_Type  Item_MRP Outlet_Identifier  \\\n",
              "0                  Dairy  249.8092            OUT049   \n",
              "1            Soft Drinks   48.2692            OUT018   \n",
              "2                   Meat  141.6180            OUT049   \n",
              "3  Fruits and Vegetables  182.0950            OUT010   \n",
              "4              Household   53.8614            OUT013   \n",
              "\n",
              "   Outlet_Establishment_Year Outlet_Size Outlet_Location_Type  \\\n",
              "0                       1999      Medium               Tier 1   \n",
              "1                       2009      Medium               Tier 3   \n",
              "2                       1999      Medium               Tier 1   \n",
              "3                       1998         NaN               Tier 3   \n",
              "4                       1987        High               Tier 3   \n",
              "\n",
              "         Outlet_Type  Item_Outlet_Sales  \n",
              "0  Supermarket Type1          3735.1380  \n",
              "1  Supermarket Type2           443.4228  \n",
              "2  Supermarket Type1          2097.2700  \n",
              "3      Grocery Store           732.3800  \n",
              "4  Supermarket Type1           994.7052  "
            ],
            "text/html": [
              "\n",
              "  <div id=\"df-d35f414a-d377-4ec2-ac1e-2f3c52df73bc\">\n",
              "    <div class=\"colab-df-container\">\n",
              "      <div>\n",
              "<style scoped>\n",
              "    .dataframe tbody tr th:only-of-type {\n",
              "        vertical-align: middle;\n",
              "    }\n",
              "\n",
              "    .dataframe tbody tr th {\n",
              "        vertical-align: top;\n",
              "    }\n",
              "\n",
              "    .dataframe thead th {\n",
              "        text-align: right;\n",
              "    }\n",
              "</style>\n",
              "<table border=\"1\" class=\"dataframe\">\n",
              "  <thead>\n",
              "    <tr style=\"text-align: right;\">\n",
              "      <th></th>\n",
              "      <th>Item_Identifier</th>\n",
              "      <th>Item_Weight</th>\n",
              "      <th>Item_Fat_Content</th>\n",
              "      <th>Item_Visibility</th>\n",
              "      <th>Item_Type</th>\n",
              "      <th>Item_MRP</th>\n",
              "      <th>Outlet_Identifier</th>\n",
              "      <th>Outlet_Establishment_Year</th>\n",
              "      <th>Outlet_Size</th>\n",
              "      <th>Outlet_Location_Type</th>\n",
              "      <th>Outlet_Type</th>\n",
              "      <th>Item_Outlet_Sales</th>\n",
              "    </tr>\n",
              "  </thead>\n",
              "  <tbody>\n",
              "    <tr>\n",
              "      <th>0</th>\n",
              "      <td>FDA15</td>\n",
              "      <td>9.30</td>\n",
              "      <td>Low Fat</td>\n",
              "      <td>0.016047</td>\n",
              "      <td>Dairy</td>\n",
              "      <td>249.8092</td>\n",
              "      <td>OUT049</td>\n",
              "      <td>1999</td>\n",
              "      <td>Medium</td>\n",
              "      <td>Tier 1</td>\n",
              "      <td>Supermarket Type1</td>\n",
              "      <td>3735.1380</td>\n",
              "    </tr>\n",
              "    <tr>\n",
              "      <th>1</th>\n",
              "      <td>DRC01</td>\n",
              "      <td>5.92</td>\n",
              "      <td>Regular</td>\n",
              "      <td>0.019278</td>\n",
              "      <td>Soft Drinks</td>\n",
              "      <td>48.2692</td>\n",
              "      <td>OUT018</td>\n",
              "      <td>2009</td>\n",
              "      <td>Medium</td>\n",
              "      <td>Tier 3</td>\n",
              "      <td>Supermarket Type2</td>\n",
              "      <td>443.4228</td>\n",
              "    </tr>\n",
              "    <tr>\n",
              "      <th>2</th>\n",
              "      <td>FDN15</td>\n",
              "      <td>17.50</td>\n",
              "      <td>Low Fat</td>\n",
              "      <td>0.016760</td>\n",
              "      <td>Meat</td>\n",
              "      <td>141.6180</td>\n",
              "      <td>OUT049</td>\n",
              "      <td>1999</td>\n",
              "      <td>Medium</td>\n",
              "      <td>Tier 1</td>\n",
              "      <td>Supermarket Type1</td>\n",
              "      <td>2097.2700</td>\n",
              "    </tr>\n",
              "    <tr>\n",
              "      <th>3</th>\n",
              "      <td>FDX07</td>\n",
              "      <td>19.20</td>\n",
              "      <td>Regular</td>\n",
              "      <td>0.000000</td>\n",
              "      <td>Fruits and Vegetables</td>\n",
              "      <td>182.0950</td>\n",
              "      <td>OUT010</td>\n",
              "      <td>1998</td>\n",
              "      <td>NaN</td>\n",
              "      <td>Tier 3</td>\n",
              "      <td>Grocery Store</td>\n",
              "      <td>732.3800</td>\n",
              "    </tr>\n",
              "    <tr>\n",
              "      <th>4</th>\n",
              "      <td>NCD19</td>\n",
              "      <td>8.93</td>\n",
              "      <td>Low Fat</td>\n",
              "      <td>0.000000</td>\n",
              "      <td>Household</td>\n",
              "      <td>53.8614</td>\n",
              "      <td>OUT013</td>\n",
              "      <td>1987</td>\n",
              "      <td>High</td>\n",
              "      <td>Tier 3</td>\n",
              "      <td>Supermarket Type1</td>\n",
              "      <td>994.7052</td>\n",
              "    </tr>\n",
              "  </tbody>\n",
              "</table>\n",
              "</div>\n",
              "      <button class=\"colab-df-convert\" onclick=\"convertToInteractive('df-d35f414a-d377-4ec2-ac1e-2f3c52df73bc')\"\n",
              "              title=\"Convert this dataframe to an interactive table.\"\n",
              "              style=\"display:none;\">\n",
              "        \n",
              "  <svg xmlns=\"http://www.w3.org/2000/svg\" height=\"24px\"viewBox=\"0 0 24 24\"\n",
              "       width=\"24px\">\n",
              "    <path d=\"M0 0h24v24H0V0z\" fill=\"none\"/>\n",
              "    <path d=\"M18.56 5.44l.94 2.06.94-2.06 2.06-.94-2.06-.94-.94-2.06-.94 2.06-2.06.94zm-11 1L8.5 8.5l.94-2.06 2.06-.94-2.06-.94L8.5 2.5l-.94 2.06-2.06.94zm10 10l.94 2.06.94-2.06 2.06-.94-2.06-.94-.94-2.06-.94 2.06-2.06.94z\"/><path d=\"M17.41 7.96l-1.37-1.37c-.4-.4-.92-.59-1.43-.59-.52 0-1.04.2-1.43.59L10.3 9.45l-7.72 7.72c-.78.78-.78 2.05 0 2.83L4 21.41c.39.39.9.59 1.41.59.51 0 1.02-.2 1.41-.59l7.78-7.78 2.81-2.81c.8-.78.8-2.07 0-2.86zM5.41 20L4 18.59l7.72-7.72 1.47 1.35L5.41 20z\"/>\n",
              "  </svg>\n",
              "      </button>\n",
              "      \n",
              "  <style>\n",
              "    .colab-df-container {\n",
              "      display:flex;\n",
              "      flex-wrap:wrap;\n",
              "      gap: 12px;\n",
              "    }\n",
              "\n",
              "    .colab-df-convert {\n",
              "      background-color: #E8F0FE;\n",
              "      border: none;\n",
              "      border-radius: 50%;\n",
              "      cursor: pointer;\n",
              "      display: none;\n",
              "      fill: #1967D2;\n",
              "      height: 32px;\n",
              "      padding: 0 0 0 0;\n",
              "      width: 32px;\n",
              "    }\n",
              "\n",
              "    .colab-df-convert:hover {\n",
              "      background-color: #E2EBFA;\n",
              "      box-shadow: 0px 1px 2px rgba(60, 64, 67, 0.3), 0px 1px 3px 1px rgba(60, 64, 67, 0.15);\n",
              "      fill: #174EA6;\n",
              "    }\n",
              "\n",
              "    [theme=dark] .colab-df-convert {\n",
              "      background-color: #3B4455;\n",
              "      fill: #D2E3FC;\n",
              "    }\n",
              "\n",
              "    [theme=dark] .colab-df-convert:hover {\n",
              "      background-color: #434B5C;\n",
              "      box-shadow: 0px 1px 3px 1px rgba(0, 0, 0, 0.15);\n",
              "      filter: drop-shadow(0px 1px 2px rgba(0, 0, 0, 0.3));\n",
              "      fill: #FFFFFF;\n",
              "    }\n",
              "  </style>\n",
              "\n",
              "      <script>\n",
              "        const buttonEl =\n",
              "          document.querySelector('#df-d35f414a-d377-4ec2-ac1e-2f3c52df73bc button.colab-df-convert');\n",
              "        buttonEl.style.display =\n",
              "          google.colab.kernel.accessAllowed ? 'block' : 'none';\n",
              "\n",
              "        async function convertToInteractive(key) {\n",
              "          const element = document.querySelector('#df-d35f414a-d377-4ec2-ac1e-2f3c52df73bc');\n",
              "          const dataTable =\n",
              "            await google.colab.kernel.invokeFunction('convertToInteractive',\n",
              "                                                     [key], {});\n",
              "          if (!dataTable) return;\n",
              "\n",
              "          const docLinkHtml = 'Like what you see? Visit the ' +\n",
              "            '<a target=\"_blank\" href=https://colab.research.google.com/notebooks/data_table.ipynb>data table notebook</a>'\n",
              "            + ' to learn more about interactive tables.';\n",
              "          element.innerHTML = '';\n",
              "          dataTable['output_type'] = 'display_data';\n",
              "          await google.colab.output.renderOutput(dataTable, element);\n",
              "          const docLink = document.createElement('div');\n",
              "          docLink.innerHTML = docLinkHtml;\n",
              "          element.appendChild(docLink);\n",
              "        }\n",
              "      </script>\n",
              "    </div>\n",
              "  </div>\n",
              "  "
            ]
          },
          "metadata": {},
          "execution_count": 2
        }
      ]
    },
    {
      "cell_type": "code",
      "source": [
        "df.info()\n"
      ],
      "metadata": {
        "colab": {
          "base_uri": "https://localhost:8080/"
        },
        "id": "c3sRc3jnvrYU",
        "outputId": "e0b493b3-4734-4e01-8633-4e73baaf58f4"
      },
      "execution_count": 3,
      "outputs": [
        {
          "output_type": "stream",
          "name": "stdout",
          "text": [
            "<class 'pandas.core.frame.DataFrame'>\n",
            "RangeIndex: 8523 entries, 0 to 8522\n",
            "Data columns (total 12 columns):\n",
            " #   Column                     Non-Null Count  Dtype  \n",
            "---  ------                     --------------  -----  \n",
            " 0   Item_Identifier            8523 non-null   object \n",
            " 1   Item_Weight                7060 non-null   float64\n",
            " 2   Item_Fat_Content           8523 non-null   object \n",
            " 3   Item_Visibility            8523 non-null   float64\n",
            " 4   Item_Type                  8523 non-null   object \n",
            " 5   Item_MRP                   8523 non-null   float64\n",
            " 6   Outlet_Identifier          8523 non-null   object \n",
            " 7   Outlet_Establishment_Year  8523 non-null   int64  \n",
            " 8   Outlet_Size                6113 non-null   object \n",
            " 9   Outlet_Location_Type       8523 non-null   object \n",
            " 10  Outlet_Type                8523 non-null   object \n",
            " 11  Item_Outlet_Sales          8523 non-null   float64\n",
            "dtypes: float64(4), int64(1), object(7)\n",
            "memory usage: 799.2+ KB\n"
          ]
        }
      ]
    },
    {
      "cell_type": "markdown",
      "source": [
        "Según lo anterior, podemos apreciar datos nulos en \"Outlet_Size\" e Item_Weight\"."
      ],
      "metadata": {
        "id": "52prZBuFwb5f"
      }
    },
    {
      "cell_type": "code",
      "source": [
        "df[df['Item_Weight'].isna()]"
      ],
      "metadata": {
        "colab": {
          "base_uri": "https://localhost:8080/",
          "height": 424
        },
        "id": "ZbB8EuuR3MDj",
        "outputId": "a01da97f-a893-4212-941f-1cdd19530bac"
      },
      "execution_count": 4,
      "outputs": [
        {
          "output_type": "execute_result",
          "data": {
            "text/plain": [
              "     Item_Identifier  Item_Weight Item_Fat_Content  Item_Visibility  \\\n",
              "7              FDP10          NaN          Low Fat         0.127470   \n",
              "18             DRI11          NaN          Low Fat         0.034238   \n",
              "21             FDW12          NaN          Regular         0.035400   \n",
              "23             FDC37          NaN          Low Fat         0.057557   \n",
              "29             FDC14          NaN          Regular         0.072222   \n",
              "...              ...          ...              ...              ...   \n",
              "8485           DRK37          NaN          Low Fat         0.043792   \n",
              "8487           DRG13          NaN          Low Fat         0.037006   \n",
              "8488           NCN14          NaN          Low Fat         0.091473   \n",
              "8490           FDU44          NaN          Regular         0.102296   \n",
              "8504           NCN18          NaN          Low Fat         0.124111   \n",
              "\n",
              "                  Item_Type  Item_MRP Outlet_Identifier  \\\n",
              "7               Snack Foods  107.7622            OUT027   \n",
              "18              Hard Drinks  113.2834            OUT027   \n",
              "21             Baking Goods  144.5444            OUT027   \n",
              "23             Baking Goods  107.6938            OUT019   \n",
              "29                   Canned   43.6454            OUT019   \n",
              "...                     ...       ...               ...   \n",
              "8485            Soft Drinks  189.0530            OUT027   \n",
              "8487            Soft Drinks  164.7526            OUT027   \n",
              "8488                 Others  184.6608            OUT027   \n",
              "8490  Fruits and Vegetables  162.3552            OUT019   \n",
              "8504              Household  111.7544            OUT027   \n",
              "\n",
              "      Outlet_Establishment_Year Outlet_Size Outlet_Location_Type  \\\n",
              "7                          1985      Medium               Tier 3   \n",
              "18                         1985      Medium               Tier 3   \n",
              "21                         1985      Medium               Tier 3   \n",
              "23                         1985       Small               Tier 1   \n",
              "29                         1985       Small               Tier 1   \n",
              "...                         ...         ...                  ...   \n",
              "8485                       1985      Medium               Tier 3   \n",
              "8487                       1985      Medium               Tier 3   \n",
              "8488                       1985      Medium               Tier 3   \n",
              "8490                       1985       Small               Tier 1   \n",
              "8504                       1985      Medium               Tier 3   \n",
              "\n",
              "            Outlet_Type  Item_Outlet_Sales  \n",
              "7     Supermarket Type3          4022.7636  \n",
              "18    Supermarket Type3          2303.6680  \n",
              "21    Supermarket Type3          4064.0432  \n",
              "23        Grocery Store           214.3876  \n",
              "29        Grocery Store           125.8362  \n",
              "...                 ...                ...  \n",
              "8485  Supermarket Type3          6261.8490  \n",
              "8487  Supermarket Type3          4111.3150  \n",
              "8488  Supermarket Type3          2756.4120  \n",
              "8490      Grocery Store           487.3656  \n",
              "8504  Supermarket Type3          4138.6128  \n",
              "\n",
              "[1463 rows x 12 columns]"
            ],
            "text/html": [
              "\n",
              "  <div id=\"df-fcaa3c08-f7dd-458a-86e8-37b1a8d50077\">\n",
              "    <div class=\"colab-df-container\">\n",
              "      <div>\n",
              "<style scoped>\n",
              "    .dataframe tbody tr th:only-of-type {\n",
              "        vertical-align: middle;\n",
              "    }\n",
              "\n",
              "    .dataframe tbody tr th {\n",
              "        vertical-align: top;\n",
              "    }\n",
              "\n",
              "    .dataframe thead th {\n",
              "        text-align: right;\n",
              "    }\n",
              "</style>\n",
              "<table border=\"1\" class=\"dataframe\">\n",
              "  <thead>\n",
              "    <tr style=\"text-align: right;\">\n",
              "      <th></th>\n",
              "      <th>Item_Identifier</th>\n",
              "      <th>Item_Weight</th>\n",
              "      <th>Item_Fat_Content</th>\n",
              "      <th>Item_Visibility</th>\n",
              "      <th>Item_Type</th>\n",
              "      <th>Item_MRP</th>\n",
              "      <th>Outlet_Identifier</th>\n",
              "      <th>Outlet_Establishment_Year</th>\n",
              "      <th>Outlet_Size</th>\n",
              "      <th>Outlet_Location_Type</th>\n",
              "      <th>Outlet_Type</th>\n",
              "      <th>Item_Outlet_Sales</th>\n",
              "    </tr>\n",
              "  </thead>\n",
              "  <tbody>\n",
              "    <tr>\n",
              "      <th>7</th>\n",
              "      <td>FDP10</td>\n",
              "      <td>NaN</td>\n",
              "      <td>Low Fat</td>\n",
              "      <td>0.127470</td>\n",
              "      <td>Snack Foods</td>\n",
              "      <td>107.7622</td>\n",
              "      <td>OUT027</td>\n",
              "      <td>1985</td>\n",
              "      <td>Medium</td>\n",
              "      <td>Tier 3</td>\n",
              "      <td>Supermarket Type3</td>\n",
              "      <td>4022.7636</td>\n",
              "    </tr>\n",
              "    <tr>\n",
              "      <th>18</th>\n",
              "      <td>DRI11</td>\n",
              "      <td>NaN</td>\n",
              "      <td>Low Fat</td>\n",
              "      <td>0.034238</td>\n",
              "      <td>Hard Drinks</td>\n",
              "      <td>113.2834</td>\n",
              "      <td>OUT027</td>\n",
              "      <td>1985</td>\n",
              "      <td>Medium</td>\n",
              "      <td>Tier 3</td>\n",
              "      <td>Supermarket Type3</td>\n",
              "      <td>2303.6680</td>\n",
              "    </tr>\n",
              "    <tr>\n",
              "      <th>21</th>\n",
              "      <td>FDW12</td>\n",
              "      <td>NaN</td>\n",
              "      <td>Regular</td>\n",
              "      <td>0.035400</td>\n",
              "      <td>Baking Goods</td>\n",
              "      <td>144.5444</td>\n",
              "      <td>OUT027</td>\n",
              "      <td>1985</td>\n",
              "      <td>Medium</td>\n",
              "      <td>Tier 3</td>\n",
              "      <td>Supermarket Type3</td>\n",
              "      <td>4064.0432</td>\n",
              "    </tr>\n",
              "    <tr>\n",
              "      <th>23</th>\n",
              "      <td>FDC37</td>\n",
              "      <td>NaN</td>\n",
              "      <td>Low Fat</td>\n",
              "      <td>0.057557</td>\n",
              "      <td>Baking Goods</td>\n",
              "      <td>107.6938</td>\n",
              "      <td>OUT019</td>\n",
              "      <td>1985</td>\n",
              "      <td>Small</td>\n",
              "      <td>Tier 1</td>\n",
              "      <td>Grocery Store</td>\n",
              "      <td>214.3876</td>\n",
              "    </tr>\n",
              "    <tr>\n",
              "      <th>29</th>\n",
              "      <td>FDC14</td>\n",
              "      <td>NaN</td>\n",
              "      <td>Regular</td>\n",
              "      <td>0.072222</td>\n",
              "      <td>Canned</td>\n",
              "      <td>43.6454</td>\n",
              "      <td>OUT019</td>\n",
              "      <td>1985</td>\n",
              "      <td>Small</td>\n",
              "      <td>Tier 1</td>\n",
              "      <td>Grocery Store</td>\n",
              "      <td>125.8362</td>\n",
              "    </tr>\n",
              "    <tr>\n",
              "      <th>...</th>\n",
              "      <td>...</td>\n",
              "      <td>...</td>\n",
              "      <td>...</td>\n",
              "      <td>...</td>\n",
              "      <td>...</td>\n",
              "      <td>...</td>\n",
              "      <td>...</td>\n",
              "      <td>...</td>\n",
              "      <td>...</td>\n",
              "      <td>...</td>\n",
              "      <td>...</td>\n",
              "      <td>...</td>\n",
              "    </tr>\n",
              "    <tr>\n",
              "      <th>8485</th>\n",
              "      <td>DRK37</td>\n",
              "      <td>NaN</td>\n",
              "      <td>Low Fat</td>\n",
              "      <td>0.043792</td>\n",
              "      <td>Soft Drinks</td>\n",
              "      <td>189.0530</td>\n",
              "      <td>OUT027</td>\n",
              "      <td>1985</td>\n",
              "      <td>Medium</td>\n",
              "      <td>Tier 3</td>\n",
              "      <td>Supermarket Type3</td>\n",
              "      <td>6261.8490</td>\n",
              "    </tr>\n",
              "    <tr>\n",
              "      <th>8487</th>\n",
              "      <td>DRG13</td>\n",
              "      <td>NaN</td>\n",
              "      <td>Low Fat</td>\n",
              "      <td>0.037006</td>\n",
              "      <td>Soft Drinks</td>\n",
              "      <td>164.7526</td>\n",
              "      <td>OUT027</td>\n",
              "      <td>1985</td>\n",
              "      <td>Medium</td>\n",
              "      <td>Tier 3</td>\n",
              "      <td>Supermarket Type3</td>\n",
              "      <td>4111.3150</td>\n",
              "    </tr>\n",
              "    <tr>\n",
              "      <th>8488</th>\n",
              "      <td>NCN14</td>\n",
              "      <td>NaN</td>\n",
              "      <td>Low Fat</td>\n",
              "      <td>0.091473</td>\n",
              "      <td>Others</td>\n",
              "      <td>184.6608</td>\n",
              "      <td>OUT027</td>\n",
              "      <td>1985</td>\n",
              "      <td>Medium</td>\n",
              "      <td>Tier 3</td>\n",
              "      <td>Supermarket Type3</td>\n",
              "      <td>2756.4120</td>\n",
              "    </tr>\n",
              "    <tr>\n",
              "      <th>8490</th>\n",
              "      <td>FDU44</td>\n",
              "      <td>NaN</td>\n",
              "      <td>Regular</td>\n",
              "      <td>0.102296</td>\n",
              "      <td>Fruits and Vegetables</td>\n",
              "      <td>162.3552</td>\n",
              "      <td>OUT019</td>\n",
              "      <td>1985</td>\n",
              "      <td>Small</td>\n",
              "      <td>Tier 1</td>\n",
              "      <td>Grocery Store</td>\n",
              "      <td>487.3656</td>\n",
              "    </tr>\n",
              "    <tr>\n",
              "      <th>8504</th>\n",
              "      <td>NCN18</td>\n",
              "      <td>NaN</td>\n",
              "      <td>Low Fat</td>\n",
              "      <td>0.124111</td>\n",
              "      <td>Household</td>\n",
              "      <td>111.7544</td>\n",
              "      <td>OUT027</td>\n",
              "      <td>1985</td>\n",
              "      <td>Medium</td>\n",
              "      <td>Tier 3</td>\n",
              "      <td>Supermarket Type3</td>\n",
              "      <td>4138.6128</td>\n",
              "    </tr>\n",
              "  </tbody>\n",
              "</table>\n",
              "<p>1463 rows × 12 columns</p>\n",
              "</div>\n",
              "      <button class=\"colab-df-convert\" onclick=\"convertToInteractive('df-fcaa3c08-f7dd-458a-86e8-37b1a8d50077')\"\n",
              "              title=\"Convert this dataframe to an interactive table.\"\n",
              "              style=\"display:none;\">\n",
              "        \n",
              "  <svg xmlns=\"http://www.w3.org/2000/svg\" height=\"24px\"viewBox=\"0 0 24 24\"\n",
              "       width=\"24px\">\n",
              "    <path d=\"M0 0h24v24H0V0z\" fill=\"none\"/>\n",
              "    <path d=\"M18.56 5.44l.94 2.06.94-2.06 2.06-.94-2.06-.94-.94-2.06-.94 2.06-2.06.94zm-11 1L8.5 8.5l.94-2.06 2.06-.94-2.06-.94L8.5 2.5l-.94 2.06-2.06.94zm10 10l.94 2.06.94-2.06 2.06-.94-2.06-.94-.94-2.06-.94 2.06-2.06.94z\"/><path d=\"M17.41 7.96l-1.37-1.37c-.4-.4-.92-.59-1.43-.59-.52 0-1.04.2-1.43.59L10.3 9.45l-7.72 7.72c-.78.78-.78 2.05 0 2.83L4 21.41c.39.39.9.59 1.41.59.51 0 1.02-.2 1.41-.59l7.78-7.78 2.81-2.81c.8-.78.8-2.07 0-2.86zM5.41 20L4 18.59l7.72-7.72 1.47 1.35L5.41 20z\"/>\n",
              "  </svg>\n",
              "      </button>\n",
              "      \n",
              "  <style>\n",
              "    .colab-df-container {\n",
              "      display:flex;\n",
              "      flex-wrap:wrap;\n",
              "      gap: 12px;\n",
              "    }\n",
              "\n",
              "    .colab-df-convert {\n",
              "      background-color: #E8F0FE;\n",
              "      border: none;\n",
              "      border-radius: 50%;\n",
              "      cursor: pointer;\n",
              "      display: none;\n",
              "      fill: #1967D2;\n",
              "      height: 32px;\n",
              "      padding: 0 0 0 0;\n",
              "      width: 32px;\n",
              "    }\n",
              "\n",
              "    .colab-df-convert:hover {\n",
              "      background-color: #E2EBFA;\n",
              "      box-shadow: 0px 1px 2px rgba(60, 64, 67, 0.3), 0px 1px 3px 1px rgba(60, 64, 67, 0.15);\n",
              "      fill: #174EA6;\n",
              "    }\n",
              "\n",
              "    [theme=dark] .colab-df-convert {\n",
              "      background-color: #3B4455;\n",
              "      fill: #D2E3FC;\n",
              "    }\n",
              "\n",
              "    [theme=dark] .colab-df-convert:hover {\n",
              "      background-color: #434B5C;\n",
              "      box-shadow: 0px 1px 3px 1px rgba(0, 0, 0, 0.15);\n",
              "      filter: drop-shadow(0px 1px 2px rgba(0, 0, 0, 0.3));\n",
              "      fill: #FFFFFF;\n",
              "    }\n",
              "  </style>\n",
              "\n",
              "      <script>\n",
              "        const buttonEl =\n",
              "          document.querySelector('#df-fcaa3c08-f7dd-458a-86e8-37b1a8d50077 button.colab-df-convert');\n",
              "        buttonEl.style.display =\n",
              "          google.colab.kernel.accessAllowed ? 'block' : 'none';\n",
              "\n",
              "        async function convertToInteractive(key) {\n",
              "          const element = document.querySelector('#df-fcaa3c08-f7dd-458a-86e8-37b1a8d50077');\n",
              "          const dataTable =\n",
              "            await google.colab.kernel.invokeFunction('convertToInteractive',\n",
              "                                                     [key], {});\n",
              "          if (!dataTable) return;\n",
              "\n",
              "          const docLinkHtml = 'Like what you see? Visit the ' +\n",
              "            '<a target=\"_blank\" href=https://colab.research.google.com/notebooks/data_table.ipynb>data table notebook</a>'\n",
              "            + ' to learn more about interactive tables.';\n",
              "          element.innerHTML = '';\n",
              "          dataTable['output_type'] = 'display_data';\n",
              "          await google.colab.output.renderOutput(dataTable, element);\n",
              "          const docLink = document.createElement('div');\n",
              "          docLink.innerHTML = docLinkHtml;\n",
              "          element.appendChild(docLink);\n",
              "        }\n",
              "      </script>\n",
              "    </div>\n",
              "  </div>\n",
              "  "
            ]
          },
          "metadata": {},
          "execution_count": 4
        }
      ]
    },
    {
      "cell_type": "code",
      "source": [
        "def Upgrade_Item_Identifier_mean(Item_Identifier):\n",
        "  Item_Identifier_filter  = df['Item_Identifier'] == Item_Identifier\n",
        "  values_mean = df[Item_Identifier_filter]['Item_Weight'].mean()\n",
        "  return values_mean"
      ],
      "metadata": {
        "id": "cJ2rfFoLeC33"
      },
      "execution_count": 5,
      "outputs": []
    },
    {
      "cell_type": "code",
      "source": [
        "Item_Weight_filter_isna = df['Item_Weight'].isna()\n",
        "\n",
        "df.loc[Item_Weight_filter_isna , 'Item_Weight'] = df.apply(lambda x:Upgrade_Item_Identifier_mean( x['Item_Identifier']) ,axis=1 )\n",
        "df[Item_Weight_filter_isna] "
      ],
      "metadata": {
        "colab": {
          "base_uri": "https://localhost:8080/",
          "height": 424
        },
        "id": "0BkCToBjZ6vr",
        "outputId": "cde95632-71ee-4142-8ea7-4b7070aa11b3"
      },
      "execution_count": 6,
      "outputs": [
        {
          "output_type": "execute_result",
          "data": {
            "text/plain": [
              "     Item_Identifier  Item_Weight Item_Fat_Content  Item_Visibility  \\\n",
              "7              FDP10       19.000          Low Fat         0.127470   \n",
              "18             DRI11        8.260          Low Fat         0.034238   \n",
              "21             FDW12        8.315          Regular         0.035400   \n",
              "23             FDC37       15.500          Low Fat         0.057557   \n",
              "29             FDC14       14.500          Regular         0.072222   \n",
              "...              ...          ...              ...              ...   \n",
              "8485           DRK37        5.000          Low Fat         0.043792   \n",
              "8487           DRG13       17.250          Low Fat         0.037006   \n",
              "8488           NCN14       19.100          Low Fat         0.091473   \n",
              "8490           FDU44       12.150          Regular         0.102296   \n",
              "8504           NCN18        8.895          Low Fat         0.124111   \n",
              "\n",
              "                  Item_Type  Item_MRP Outlet_Identifier  \\\n",
              "7               Snack Foods  107.7622            OUT027   \n",
              "18              Hard Drinks  113.2834            OUT027   \n",
              "21             Baking Goods  144.5444            OUT027   \n",
              "23             Baking Goods  107.6938            OUT019   \n",
              "29                   Canned   43.6454            OUT019   \n",
              "...                     ...       ...               ...   \n",
              "8485            Soft Drinks  189.0530            OUT027   \n",
              "8487            Soft Drinks  164.7526            OUT027   \n",
              "8488                 Others  184.6608            OUT027   \n",
              "8490  Fruits and Vegetables  162.3552            OUT019   \n",
              "8504              Household  111.7544            OUT027   \n",
              "\n",
              "      Outlet_Establishment_Year Outlet_Size Outlet_Location_Type  \\\n",
              "7                          1985      Medium               Tier 3   \n",
              "18                         1985      Medium               Tier 3   \n",
              "21                         1985      Medium               Tier 3   \n",
              "23                         1985       Small               Tier 1   \n",
              "29                         1985       Small               Tier 1   \n",
              "...                         ...         ...                  ...   \n",
              "8485                       1985      Medium               Tier 3   \n",
              "8487                       1985      Medium               Tier 3   \n",
              "8488                       1985      Medium               Tier 3   \n",
              "8490                       1985       Small               Tier 1   \n",
              "8504                       1985      Medium               Tier 3   \n",
              "\n",
              "            Outlet_Type  Item_Outlet_Sales  \n",
              "7     Supermarket Type3          4022.7636  \n",
              "18    Supermarket Type3          2303.6680  \n",
              "21    Supermarket Type3          4064.0432  \n",
              "23        Grocery Store           214.3876  \n",
              "29        Grocery Store           125.8362  \n",
              "...                 ...                ...  \n",
              "8485  Supermarket Type3          6261.8490  \n",
              "8487  Supermarket Type3          4111.3150  \n",
              "8488  Supermarket Type3          2756.4120  \n",
              "8490      Grocery Store           487.3656  \n",
              "8504  Supermarket Type3          4138.6128  \n",
              "\n",
              "[1463 rows x 12 columns]"
            ],
            "text/html": [
              "\n",
              "  <div id=\"df-3594a86c-dd8c-4aec-94e9-270f13fb4318\">\n",
              "    <div class=\"colab-df-container\">\n",
              "      <div>\n",
              "<style scoped>\n",
              "    .dataframe tbody tr th:only-of-type {\n",
              "        vertical-align: middle;\n",
              "    }\n",
              "\n",
              "    .dataframe tbody tr th {\n",
              "        vertical-align: top;\n",
              "    }\n",
              "\n",
              "    .dataframe thead th {\n",
              "        text-align: right;\n",
              "    }\n",
              "</style>\n",
              "<table border=\"1\" class=\"dataframe\">\n",
              "  <thead>\n",
              "    <tr style=\"text-align: right;\">\n",
              "      <th></th>\n",
              "      <th>Item_Identifier</th>\n",
              "      <th>Item_Weight</th>\n",
              "      <th>Item_Fat_Content</th>\n",
              "      <th>Item_Visibility</th>\n",
              "      <th>Item_Type</th>\n",
              "      <th>Item_MRP</th>\n",
              "      <th>Outlet_Identifier</th>\n",
              "      <th>Outlet_Establishment_Year</th>\n",
              "      <th>Outlet_Size</th>\n",
              "      <th>Outlet_Location_Type</th>\n",
              "      <th>Outlet_Type</th>\n",
              "      <th>Item_Outlet_Sales</th>\n",
              "    </tr>\n",
              "  </thead>\n",
              "  <tbody>\n",
              "    <tr>\n",
              "      <th>7</th>\n",
              "      <td>FDP10</td>\n",
              "      <td>19.000</td>\n",
              "      <td>Low Fat</td>\n",
              "      <td>0.127470</td>\n",
              "      <td>Snack Foods</td>\n",
              "      <td>107.7622</td>\n",
              "      <td>OUT027</td>\n",
              "      <td>1985</td>\n",
              "      <td>Medium</td>\n",
              "      <td>Tier 3</td>\n",
              "      <td>Supermarket Type3</td>\n",
              "      <td>4022.7636</td>\n",
              "    </tr>\n",
              "    <tr>\n",
              "      <th>18</th>\n",
              "      <td>DRI11</td>\n",
              "      <td>8.260</td>\n",
              "      <td>Low Fat</td>\n",
              "      <td>0.034238</td>\n",
              "      <td>Hard Drinks</td>\n",
              "      <td>113.2834</td>\n",
              "      <td>OUT027</td>\n",
              "      <td>1985</td>\n",
              "      <td>Medium</td>\n",
              "      <td>Tier 3</td>\n",
              "      <td>Supermarket Type3</td>\n",
              "      <td>2303.6680</td>\n",
              "    </tr>\n",
              "    <tr>\n",
              "      <th>21</th>\n",
              "      <td>FDW12</td>\n",
              "      <td>8.315</td>\n",
              "      <td>Regular</td>\n",
              "      <td>0.035400</td>\n",
              "      <td>Baking Goods</td>\n",
              "      <td>144.5444</td>\n",
              "      <td>OUT027</td>\n",
              "      <td>1985</td>\n",
              "      <td>Medium</td>\n",
              "      <td>Tier 3</td>\n",
              "      <td>Supermarket Type3</td>\n",
              "      <td>4064.0432</td>\n",
              "    </tr>\n",
              "    <tr>\n",
              "      <th>23</th>\n",
              "      <td>FDC37</td>\n",
              "      <td>15.500</td>\n",
              "      <td>Low Fat</td>\n",
              "      <td>0.057557</td>\n",
              "      <td>Baking Goods</td>\n",
              "      <td>107.6938</td>\n",
              "      <td>OUT019</td>\n",
              "      <td>1985</td>\n",
              "      <td>Small</td>\n",
              "      <td>Tier 1</td>\n",
              "      <td>Grocery Store</td>\n",
              "      <td>214.3876</td>\n",
              "    </tr>\n",
              "    <tr>\n",
              "      <th>29</th>\n",
              "      <td>FDC14</td>\n",
              "      <td>14.500</td>\n",
              "      <td>Regular</td>\n",
              "      <td>0.072222</td>\n",
              "      <td>Canned</td>\n",
              "      <td>43.6454</td>\n",
              "      <td>OUT019</td>\n",
              "      <td>1985</td>\n",
              "      <td>Small</td>\n",
              "      <td>Tier 1</td>\n",
              "      <td>Grocery Store</td>\n",
              "      <td>125.8362</td>\n",
              "    </tr>\n",
              "    <tr>\n",
              "      <th>...</th>\n",
              "      <td>...</td>\n",
              "      <td>...</td>\n",
              "      <td>...</td>\n",
              "      <td>...</td>\n",
              "      <td>...</td>\n",
              "      <td>...</td>\n",
              "      <td>...</td>\n",
              "      <td>...</td>\n",
              "      <td>...</td>\n",
              "      <td>...</td>\n",
              "      <td>...</td>\n",
              "      <td>...</td>\n",
              "    </tr>\n",
              "    <tr>\n",
              "      <th>8485</th>\n",
              "      <td>DRK37</td>\n",
              "      <td>5.000</td>\n",
              "      <td>Low Fat</td>\n",
              "      <td>0.043792</td>\n",
              "      <td>Soft Drinks</td>\n",
              "      <td>189.0530</td>\n",
              "      <td>OUT027</td>\n",
              "      <td>1985</td>\n",
              "      <td>Medium</td>\n",
              "      <td>Tier 3</td>\n",
              "      <td>Supermarket Type3</td>\n",
              "      <td>6261.8490</td>\n",
              "    </tr>\n",
              "    <tr>\n",
              "      <th>8487</th>\n",
              "      <td>DRG13</td>\n",
              "      <td>17.250</td>\n",
              "      <td>Low Fat</td>\n",
              "      <td>0.037006</td>\n",
              "      <td>Soft Drinks</td>\n",
              "      <td>164.7526</td>\n",
              "      <td>OUT027</td>\n",
              "      <td>1985</td>\n",
              "      <td>Medium</td>\n",
              "      <td>Tier 3</td>\n",
              "      <td>Supermarket Type3</td>\n",
              "      <td>4111.3150</td>\n",
              "    </tr>\n",
              "    <tr>\n",
              "      <th>8488</th>\n",
              "      <td>NCN14</td>\n",
              "      <td>19.100</td>\n",
              "      <td>Low Fat</td>\n",
              "      <td>0.091473</td>\n",
              "      <td>Others</td>\n",
              "      <td>184.6608</td>\n",
              "      <td>OUT027</td>\n",
              "      <td>1985</td>\n",
              "      <td>Medium</td>\n",
              "      <td>Tier 3</td>\n",
              "      <td>Supermarket Type3</td>\n",
              "      <td>2756.4120</td>\n",
              "    </tr>\n",
              "    <tr>\n",
              "      <th>8490</th>\n",
              "      <td>FDU44</td>\n",
              "      <td>12.150</td>\n",
              "      <td>Regular</td>\n",
              "      <td>0.102296</td>\n",
              "      <td>Fruits and Vegetables</td>\n",
              "      <td>162.3552</td>\n",
              "      <td>OUT019</td>\n",
              "      <td>1985</td>\n",
              "      <td>Small</td>\n",
              "      <td>Tier 1</td>\n",
              "      <td>Grocery Store</td>\n",
              "      <td>487.3656</td>\n",
              "    </tr>\n",
              "    <tr>\n",
              "      <th>8504</th>\n",
              "      <td>NCN18</td>\n",
              "      <td>8.895</td>\n",
              "      <td>Low Fat</td>\n",
              "      <td>0.124111</td>\n",
              "      <td>Household</td>\n",
              "      <td>111.7544</td>\n",
              "      <td>OUT027</td>\n",
              "      <td>1985</td>\n",
              "      <td>Medium</td>\n",
              "      <td>Tier 3</td>\n",
              "      <td>Supermarket Type3</td>\n",
              "      <td>4138.6128</td>\n",
              "    </tr>\n",
              "  </tbody>\n",
              "</table>\n",
              "<p>1463 rows × 12 columns</p>\n",
              "</div>\n",
              "      <button class=\"colab-df-convert\" onclick=\"convertToInteractive('df-3594a86c-dd8c-4aec-94e9-270f13fb4318')\"\n",
              "              title=\"Convert this dataframe to an interactive table.\"\n",
              "              style=\"display:none;\">\n",
              "        \n",
              "  <svg xmlns=\"http://www.w3.org/2000/svg\" height=\"24px\"viewBox=\"0 0 24 24\"\n",
              "       width=\"24px\">\n",
              "    <path d=\"M0 0h24v24H0V0z\" fill=\"none\"/>\n",
              "    <path d=\"M18.56 5.44l.94 2.06.94-2.06 2.06-.94-2.06-.94-.94-2.06-.94 2.06-2.06.94zm-11 1L8.5 8.5l.94-2.06 2.06-.94-2.06-.94L8.5 2.5l-.94 2.06-2.06.94zm10 10l.94 2.06.94-2.06 2.06-.94-2.06-.94-.94-2.06-.94 2.06-2.06.94z\"/><path d=\"M17.41 7.96l-1.37-1.37c-.4-.4-.92-.59-1.43-.59-.52 0-1.04.2-1.43.59L10.3 9.45l-7.72 7.72c-.78.78-.78 2.05 0 2.83L4 21.41c.39.39.9.59 1.41.59.51 0 1.02-.2 1.41-.59l7.78-7.78 2.81-2.81c.8-.78.8-2.07 0-2.86zM5.41 20L4 18.59l7.72-7.72 1.47 1.35L5.41 20z\"/>\n",
              "  </svg>\n",
              "      </button>\n",
              "      \n",
              "  <style>\n",
              "    .colab-df-container {\n",
              "      display:flex;\n",
              "      flex-wrap:wrap;\n",
              "      gap: 12px;\n",
              "    }\n",
              "\n",
              "    .colab-df-convert {\n",
              "      background-color: #E8F0FE;\n",
              "      border: none;\n",
              "      border-radius: 50%;\n",
              "      cursor: pointer;\n",
              "      display: none;\n",
              "      fill: #1967D2;\n",
              "      height: 32px;\n",
              "      padding: 0 0 0 0;\n",
              "      width: 32px;\n",
              "    }\n",
              "\n",
              "    .colab-df-convert:hover {\n",
              "      background-color: #E2EBFA;\n",
              "      box-shadow: 0px 1px 2px rgba(60, 64, 67, 0.3), 0px 1px 3px 1px rgba(60, 64, 67, 0.15);\n",
              "      fill: #174EA6;\n",
              "    }\n",
              "\n",
              "    [theme=dark] .colab-df-convert {\n",
              "      background-color: #3B4455;\n",
              "      fill: #D2E3FC;\n",
              "    }\n",
              "\n",
              "    [theme=dark] .colab-df-convert:hover {\n",
              "      background-color: #434B5C;\n",
              "      box-shadow: 0px 1px 3px 1px rgba(0, 0, 0, 0.15);\n",
              "      filter: drop-shadow(0px 1px 2px rgba(0, 0, 0, 0.3));\n",
              "      fill: #FFFFFF;\n",
              "    }\n",
              "  </style>\n",
              "\n",
              "      <script>\n",
              "        const buttonEl =\n",
              "          document.querySelector('#df-3594a86c-dd8c-4aec-94e9-270f13fb4318 button.colab-df-convert');\n",
              "        buttonEl.style.display =\n",
              "          google.colab.kernel.accessAllowed ? 'block' : 'none';\n",
              "\n",
              "        async function convertToInteractive(key) {\n",
              "          const element = document.querySelector('#df-3594a86c-dd8c-4aec-94e9-270f13fb4318');\n",
              "          const dataTable =\n",
              "            await google.colab.kernel.invokeFunction('convertToInteractive',\n",
              "                                                     [key], {});\n",
              "          if (!dataTable) return;\n",
              "\n",
              "          const docLinkHtml = 'Like what you see? Visit the ' +\n",
              "            '<a target=\"_blank\" href=https://colab.research.google.com/notebooks/data_table.ipynb>data table notebook</a>'\n",
              "            + ' to learn more about interactive tables.';\n",
              "          element.innerHTML = '';\n",
              "          dataTable['output_type'] = 'display_data';\n",
              "          await google.colab.output.renderOutput(dataTable, element);\n",
              "          const docLink = document.createElement('div');\n",
              "          docLink.innerHTML = docLinkHtml;\n",
              "          element.appendChild(docLink);\n",
              "        }\n",
              "      </script>\n",
              "    </div>\n",
              "  </div>\n",
              "  "
            ]
          },
          "metadata": {},
          "execution_count": 6
        }
      ]
    },
    {
      "cell_type": "code",
      "source": [
        "#ocuparemos el metodo fillna para rellenar datos faltantes de en item weight, ya que es un dato numérico y no queremos perder \n",
        "#valiosa información de las otras columnas, haremos una imputacion usando el valor promedio\n"
      ],
      "metadata": {
        "id": "q_4uPwrSvszv"
      },
      "execution_count": 7,
      "outputs": []
    },
    {
      "cell_type": "code",
      "source": [
        "#revisamos si efectivamente se imputaron los valores correctamente en todas las filas con datos faltantes en Item Weight\n",
        "df.info()"
      ],
      "metadata": {
        "colab": {
          "base_uri": "https://localhost:8080/"
        },
        "id": "6v-3YH622zQ3",
        "outputId": "0b1bd6bf-7f06-4ab7-f80c-cb932fec2503"
      },
      "execution_count": 8,
      "outputs": [
        {
          "output_type": "stream",
          "name": "stdout",
          "text": [
            "<class 'pandas.core.frame.DataFrame'>\n",
            "RangeIndex: 8523 entries, 0 to 8522\n",
            "Data columns (total 12 columns):\n",
            " #   Column                     Non-Null Count  Dtype  \n",
            "---  ------                     --------------  -----  \n",
            " 0   Item_Identifier            8523 non-null   object \n",
            " 1   Item_Weight                8519 non-null   float64\n",
            " 2   Item_Fat_Content           8523 non-null   object \n",
            " 3   Item_Visibility            8523 non-null   float64\n",
            " 4   Item_Type                  8523 non-null   object \n",
            " 5   Item_MRP                   8523 non-null   float64\n",
            " 6   Outlet_Identifier          8523 non-null   object \n",
            " 7   Outlet_Establishment_Year  8523 non-null   int64  \n",
            " 8   Outlet_Size                6113 non-null   object \n",
            " 9   Outlet_Location_Type       8523 non-null   object \n",
            " 10  Outlet_Type                8523 non-null   object \n",
            " 11  Item_Outlet_Sales          8523 non-null   float64\n",
            "dtypes: float64(4), int64(1), object(7)\n",
            "memory usage: 799.2+ KB\n"
          ]
        }
      ]
    },
    {
      "cell_type": "code",
      "source": [
        "item_weight_nan=df.loc[:,'Item_Weight'].isna()\n",
        "item_weight_nan.value_counts()"
      ],
      "metadata": {
        "colab": {
          "base_uri": "https://localhost:8080/"
        },
        "id": "V_Yj_SMmoVF0",
        "outputId": "34accb33-c782-4772-c1f0-3f92241d1261"
      },
      "execution_count": 9,
      "outputs": [
        {
          "output_type": "execute_result",
          "data": {
            "text/plain": [
              "False    8519\n",
              "True        4\n",
              "Name: Item_Weight, dtype: int64"
            ]
          },
          "metadata": {},
          "execution_count": 9
        }
      ]
    },
    {
      "cell_type": "markdown",
      "source": [
        "En el caso de Outlet Size, al ser la variable tipo string, podemos rellenar con el valor más frecuente, o sea la moda si no deseamos borrar el dato.\n",
        "Creo que es importante no borrar el dato, ya que el tamaño de la tienda es menos relevante que toda la informacion del producto en si.\n",
        "\n",
        "\n",
        "\n",
        "\n",
        "\n"
      ],
      "metadata": {
        "id": "9e-Xt0bm5Zyp"
      }
    },
    {
      "cell_type": "code",
      "source": [
        "def Upgrade_Outlet_Size_Mode(Outlet_Size):\n",
        "  Outlet_Size_Filter  = df['Outlet_Size'] == Outlet_Size\n",
        "  values_mode = df[Outlet_Size_Filter]['Outlet_Size'].mode()\n",
        "  return values_mode\n"
      ],
      "metadata": {
        "id": "192q3pQoiuTa"
      },
      "execution_count": 10,
      "outputs": []
    },
    {
      "cell_type": "code",
      "source": [
        "Outlet_Size_Filter_isna = df['Outlet_Size'].isna()\n",
        "\n",
        "df.loc[Outlet_Size_Filter_isna, 'Outlet_Size'] = df.apply(lambda x:Upgrade_Outlet_Size_Mode( x['Outlet_Size']) ,axis=1 )\n",
        "df[Outlet_Size_Filter_isna] \n"
      ],
      "metadata": {
        "colab": {
          "base_uri": "https://localhost:8080/",
          "height": 424
        },
        "id": "Nrx93q9Tqows",
        "outputId": "4c747cea-0a61-4837-ed02-b4f5454b717d"
      },
      "execution_count": 11,
      "outputs": [
        {
          "output_type": "execute_result",
          "data": {
            "text/plain": [
              "     Item_Identifier  Item_Weight Item_Fat_Content  Item_Visibility  \\\n",
              "3              FDX07       19.200          Regular         0.000000   \n",
              "8              FDH17       16.200          Regular         0.016687   \n",
              "9              FDU28       19.200          Regular         0.094450   \n",
              "25             NCD06       13.000          Low Fat         0.099887   \n",
              "28             FDE51        5.925          Regular         0.161467   \n",
              "...              ...          ...              ...              ...   \n",
              "8502           NCH43        8.420          Low Fat         0.070712   \n",
              "8508           FDW31       11.350          Regular         0.043246   \n",
              "8509           FDG45        8.100          Low Fat         0.214306   \n",
              "8514           FDA01       15.000          Regular         0.054489   \n",
              "8519           FDS36        8.380          Regular         0.046982   \n",
              "\n",
              "                  Item_Type  Item_MRP Outlet_Identifier  \\\n",
              "3     Fruits and Vegetables  182.0950            OUT010   \n",
              "8              Frozen Foods   96.9726            OUT045   \n",
              "9              Frozen Foods  187.8214            OUT017   \n",
              "25                Household   45.9060            OUT017   \n",
              "28                    Dairy   45.5086            OUT010   \n",
              "...                     ...       ...               ...   \n",
              "8502              Household  216.4192            OUT045   \n",
              "8508  Fruits and Vegetables  199.4742            OUT045   \n",
              "8509  Fruits and Vegetables  213.9902            OUT010   \n",
              "8514                 Canned   57.5904            OUT045   \n",
              "8519           Baking Goods  108.1570            OUT045   \n",
              "\n",
              "      Outlet_Establishment_Year Outlet_Size Outlet_Location_Type  \\\n",
              "3                          1998         NaN               Tier 3   \n",
              "8                          2002         NaN               Tier 2   \n",
              "9                          2007         NaN               Tier 2   \n",
              "25                         2007         NaN               Tier 2   \n",
              "28                         1998         NaN               Tier 3   \n",
              "...                         ...         ...                  ...   \n",
              "8502                       2002         NaN               Tier 2   \n",
              "8508                       2002         NaN               Tier 2   \n",
              "8509                       1998         NaN               Tier 3   \n",
              "8514                       2002         NaN               Tier 2   \n",
              "8519                       2002         NaN               Tier 2   \n",
              "\n",
              "            Outlet_Type  Item_Outlet_Sales  \n",
              "3         Grocery Store           732.3800  \n",
              "8     Supermarket Type1          1076.5986  \n",
              "9     Supermarket Type1          4710.5350  \n",
              "25    Supermarket Type1           838.9080  \n",
              "28        Grocery Store           178.4344  \n",
              "...                 ...                ...  \n",
              "8502  Supermarket Type1          3020.0688  \n",
              "8508  Supermarket Type1          2587.9646  \n",
              "8509      Grocery Store           424.7804  \n",
              "8514  Supermarket Type1           468.7232  \n",
              "8519  Supermarket Type1           549.2850  \n",
              "\n",
              "[2410 rows x 12 columns]"
            ],
            "text/html": [
              "\n",
              "  <div id=\"df-ec06af31-8580-4de6-ad32-231006d39708\">\n",
              "    <div class=\"colab-df-container\">\n",
              "      <div>\n",
              "<style scoped>\n",
              "    .dataframe tbody tr th:only-of-type {\n",
              "        vertical-align: middle;\n",
              "    }\n",
              "\n",
              "    .dataframe tbody tr th {\n",
              "        vertical-align: top;\n",
              "    }\n",
              "\n",
              "    .dataframe thead th {\n",
              "        text-align: right;\n",
              "    }\n",
              "</style>\n",
              "<table border=\"1\" class=\"dataframe\">\n",
              "  <thead>\n",
              "    <tr style=\"text-align: right;\">\n",
              "      <th></th>\n",
              "      <th>Item_Identifier</th>\n",
              "      <th>Item_Weight</th>\n",
              "      <th>Item_Fat_Content</th>\n",
              "      <th>Item_Visibility</th>\n",
              "      <th>Item_Type</th>\n",
              "      <th>Item_MRP</th>\n",
              "      <th>Outlet_Identifier</th>\n",
              "      <th>Outlet_Establishment_Year</th>\n",
              "      <th>Outlet_Size</th>\n",
              "      <th>Outlet_Location_Type</th>\n",
              "      <th>Outlet_Type</th>\n",
              "      <th>Item_Outlet_Sales</th>\n",
              "    </tr>\n",
              "  </thead>\n",
              "  <tbody>\n",
              "    <tr>\n",
              "      <th>3</th>\n",
              "      <td>FDX07</td>\n",
              "      <td>19.200</td>\n",
              "      <td>Regular</td>\n",
              "      <td>0.000000</td>\n",
              "      <td>Fruits and Vegetables</td>\n",
              "      <td>182.0950</td>\n",
              "      <td>OUT010</td>\n",
              "      <td>1998</td>\n",
              "      <td>NaN</td>\n",
              "      <td>Tier 3</td>\n",
              "      <td>Grocery Store</td>\n",
              "      <td>732.3800</td>\n",
              "    </tr>\n",
              "    <tr>\n",
              "      <th>8</th>\n",
              "      <td>FDH17</td>\n",
              "      <td>16.200</td>\n",
              "      <td>Regular</td>\n",
              "      <td>0.016687</td>\n",
              "      <td>Frozen Foods</td>\n",
              "      <td>96.9726</td>\n",
              "      <td>OUT045</td>\n",
              "      <td>2002</td>\n",
              "      <td>NaN</td>\n",
              "      <td>Tier 2</td>\n",
              "      <td>Supermarket Type1</td>\n",
              "      <td>1076.5986</td>\n",
              "    </tr>\n",
              "    <tr>\n",
              "      <th>9</th>\n",
              "      <td>FDU28</td>\n",
              "      <td>19.200</td>\n",
              "      <td>Regular</td>\n",
              "      <td>0.094450</td>\n",
              "      <td>Frozen Foods</td>\n",
              "      <td>187.8214</td>\n",
              "      <td>OUT017</td>\n",
              "      <td>2007</td>\n",
              "      <td>NaN</td>\n",
              "      <td>Tier 2</td>\n",
              "      <td>Supermarket Type1</td>\n",
              "      <td>4710.5350</td>\n",
              "    </tr>\n",
              "    <tr>\n",
              "      <th>25</th>\n",
              "      <td>NCD06</td>\n",
              "      <td>13.000</td>\n",
              "      <td>Low Fat</td>\n",
              "      <td>0.099887</td>\n",
              "      <td>Household</td>\n",
              "      <td>45.9060</td>\n",
              "      <td>OUT017</td>\n",
              "      <td>2007</td>\n",
              "      <td>NaN</td>\n",
              "      <td>Tier 2</td>\n",
              "      <td>Supermarket Type1</td>\n",
              "      <td>838.9080</td>\n",
              "    </tr>\n",
              "    <tr>\n",
              "      <th>28</th>\n",
              "      <td>FDE51</td>\n",
              "      <td>5.925</td>\n",
              "      <td>Regular</td>\n",
              "      <td>0.161467</td>\n",
              "      <td>Dairy</td>\n",
              "      <td>45.5086</td>\n",
              "      <td>OUT010</td>\n",
              "      <td>1998</td>\n",
              "      <td>NaN</td>\n",
              "      <td>Tier 3</td>\n",
              "      <td>Grocery Store</td>\n",
              "      <td>178.4344</td>\n",
              "    </tr>\n",
              "    <tr>\n",
              "      <th>...</th>\n",
              "      <td>...</td>\n",
              "      <td>...</td>\n",
              "      <td>...</td>\n",
              "      <td>...</td>\n",
              "      <td>...</td>\n",
              "      <td>...</td>\n",
              "      <td>...</td>\n",
              "      <td>...</td>\n",
              "      <td>...</td>\n",
              "      <td>...</td>\n",
              "      <td>...</td>\n",
              "      <td>...</td>\n",
              "    </tr>\n",
              "    <tr>\n",
              "      <th>8502</th>\n",
              "      <td>NCH43</td>\n",
              "      <td>8.420</td>\n",
              "      <td>Low Fat</td>\n",
              "      <td>0.070712</td>\n",
              "      <td>Household</td>\n",
              "      <td>216.4192</td>\n",
              "      <td>OUT045</td>\n",
              "      <td>2002</td>\n",
              "      <td>NaN</td>\n",
              "      <td>Tier 2</td>\n",
              "      <td>Supermarket Type1</td>\n",
              "      <td>3020.0688</td>\n",
              "    </tr>\n",
              "    <tr>\n",
              "      <th>8508</th>\n",
              "      <td>FDW31</td>\n",
              "      <td>11.350</td>\n",
              "      <td>Regular</td>\n",
              "      <td>0.043246</td>\n",
              "      <td>Fruits and Vegetables</td>\n",
              "      <td>199.4742</td>\n",
              "      <td>OUT045</td>\n",
              "      <td>2002</td>\n",
              "      <td>NaN</td>\n",
              "      <td>Tier 2</td>\n",
              "      <td>Supermarket Type1</td>\n",
              "      <td>2587.9646</td>\n",
              "    </tr>\n",
              "    <tr>\n",
              "      <th>8509</th>\n",
              "      <td>FDG45</td>\n",
              "      <td>8.100</td>\n",
              "      <td>Low Fat</td>\n",
              "      <td>0.214306</td>\n",
              "      <td>Fruits and Vegetables</td>\n",
              "      <td>213.9902</td>\n",
              "      <td>OUT010</td>\n",
              "      <td>1998</td>\n",
              "      <td>NaN</td>\n",
              "      <td>Tier 3</td>\n",
              "      <td>Grocery Store</td>\n",
              "      <td>424.7804</td>\n",
              "    </tr>\n",
              "    <tr>\n",
              "      <th>8514</th>\n",
              "      <td>FDA01</td>\n",
              "      <td>15.000</td>\n",
              "      <td>Regular</td>\n",
              "      <td>0.054489</td>\n",
              "      <td>Canned</td>\n",
              "      <td>57.5904</td>\n",
              "      <td>OUT045</td>\n",
              "      <td>2002</td>\n",
              "      <td>NaN</td>\n",
              "      <td>Tier 2</td>\n",
              "      <td>Supermarket Type1</td>\n",
              "      <td>468.7232</td>\n",
              "    </tr>\n",
              "    <tr>\n",
              "      <th>8519</th>\n",
              "      <td>FDS36</td>\n",
              "      <td>8.380</td>\n",
              "      <td>Regular</td>\n",
              "      <td>0.046982</td>\n",
              "      <td>Baking Goods</td>\n",
              "      <td>108.1570</td>\n",
              "      <td>OUT045</td>\n",
              "      <td>2002</td>\n",
              "      <td>NaN</td>\n",
              "      <td>Tier 2</td>\n",
              "      <td>Supermarket Type1</td>\n",
              "      <td>549.2850</td>\n",
              "    </tr>\n",
              "  </tbody>\n",
              "</table>\n",
              "<p>2410 rows × 12 columns</p>\n",
              "</div>\n",
              "      <button class=\"colab-df-convert\" onclick=\"convertToInteractive('df-ec06af31-8580-4de6-ad32-231006d39708')\"\n",
              "              title=\"Convert this dataframe to an interactive table.\"\n",
              "              style=\"display:none;\">\n",
              "        \n",
              "  <svg xmlns=\"http://www.w3.org/2000/svg\" height=\"24px\"viewBox=\"0 0 24 24\"\n",
              "       width=\"24px\">\n",
              "    <path d=\"M0 0h24v24H0V0z\" fill=\"none\"/>\n",
              "    <path d=\"M18.56 5.44l.94 2.06.94-2.06 2.06-.94-2.06-.94-.94-2.06-.94 2.06-2.06.94zm-11 1L8.5 8.5l.94-2.06 2.06-.94-2.06-.94L8.5 2.5l-.94 2.06-2.06.94zm10 10l.94 2.06.94-2.06 2.06-.94-2.06-.94-.94-2.06-.94 2.06-2.06.94z\"/><path d=\"M17.41 7.96l-1.37-1.37c-.4-.4-.92-.59-1.43-.59-.52 0-1.04.2-1.43.59L10.3 9.45l-7.72 7.72c-.78.78-.78 2.05 0 2.83L4 21.41c.39.39.9.59 1.41.59.51 0 1.02-.2 1.41-.59l7.78-7.78 2.81-2.81c.8-.78.8-2.07 0-2.86zM5.41 20L4 18.59l7.72-7.72 1.47 1.35L5.41 20z\"/>\n",
              "  </svg>\n",
              "      </button>\n",
              "      \n",
              "  <style>\n",
              "    .colab-df-container {\n",
              "      display:flex;\n",
              "      flex-wrap:wrap;\n",
              "      gap: 12px;\n",
              "    }\n",
              "\n",
              "    .colab-df-convert {\n",
              "      background-color: #E8F0FE;\n",
              "      border: none;\n",
              "      border-radius: 50%;\n",
              "      cursor: pointer;\n",
              "      display: none;\n",
              "      fill: #1967D2;\n",
              "      height: 32px;\n",
              "      padding: 0 0 0 0;\n",
              "      width: 32px;\n",
              "    }\n",
              "\n",
              "    .colab-df-convert:hover {\n",
              "      background-color: #E2EBFA;\n",
              "      box-shadow: 0px 1px 2px rgba(60, 64, 67, 0.3), 0px 1px 3px 1px rgba(60, 64, 67, 0.15);\n",
              "      fill: #174EA6;\n",
              "    }\n",
              "\n",
              "    [theme=dark] .colab-df-convert {\n",
              "      background-color: #3B4455;\n",
              "      fill: #D2E3FC;\n",
              "    }\n",
              "\n",
              "    [theme=dark] .colab-df-convert:hover {\n",
              "      background-color: #434B5C;\n",
              "      box-shadow: 0px 1px 3px 1px rgba(0, 0, 0, 0.15);\n",
              "      filter: drop-shadow(0px 1px 2px rgba(0, 0, 0, 0.3));\n",
              "      fill: #FFFFFF;\n",
              "    }\n",
              "  </style>\n",
              "\n",
              "      <script>\n",
              "        const buttonEl =\n",
              "          document.querySelector('#df-ec06af31-8580-4de6-ad32-231006d39708 button.colab-df-convert');\n",
              "        buttonEl.style.display =\n",
              "          google.colab.kernel.accessAllowed ? 'block' : 'none';\n",
              "\n",
              "        async function convertToInteractive(key) {\n",
              "          const element = document.querySelector('#df-ec06af31-8580-4de6-ad32-231006d39708');\n",
              "          const dataTable =\n",
              "            await google.colab.kernel.invokeFunction('convertToInteractive',\n",
              "                                                     [key], {});\n",
              "          if (!dataTable) return;\n",
              "\n",
              "          const docLinkHtml = 'Like what you see? Visit the ' +\n",
              "            '<a target=\"_blank\" href=https://colab.research.google.com/notebooks/data_table.ipynb>data table notebook</a>'\n",
              "            + ' to learn more about interactive tables.';\n",
              "          element.innerHTML = '';\n",
              "          dataTable['output_type'] = 'display_data';\n",
              "          await google.colab.output.renderOutput(dataTable, element);\n",
              "          const docLink = document.createElement('div');\n",
              "          docLink.innerHTML = docLinkHtml;\n",
              "          element.appendChild(docLink);\n",
              "        }\n",
              "      </script>\n",
              "    </div>\n",
              "  </div>\n",
              "  "
            ]
          },
          "metadata": {},
          "execution_count": 11
        }
      ]
    },
    {
      "cell_type": "code",
      "source": [
        "df['Outlet_Size'].value_counts()"
      ],
      "metadata": {
        "colab": {
          "base_uri": "https://localhost:8080/"
        },
        "id": "Vj71Zb6MeWrq",
        "outputId": "1fa472b7-dc6f-4508-e2b8-37397eb9c1c3"
      },
      "execution_count": 12,
      "outputs": [
        {
          "output_type": "execute_result",
          "data": {
            "text/plain": [
              "Medium    2793\n",
              "Small     2388\n",
              "High       932\n",
              "Name: Outlet_Size, dtype: int64"
            ]
          },
          "metadata": {},
          "execution_count": 12
        }
      ]
    },
    {
      "cell_type": "code",
      "source": [
        "df.info()"
      ],
      "metadata": {
        "colab": {
          "base_uri": "https://localhost:8080/"
        },
        "id": "T8nV-4qhHXMs",
        "outputId": "7bb12bb9-1fe1-48c1-92cb-c33d843137f6"
      },
      "execution_count": 13,
      "outputs": [
        {
          "output_type": "stream",
          "name": "stdout",
          "text": [
            "<class 'pandas.core.frame.DataFrame'>\n",
            "RangeIndex: 8523 entries, 0 to 8522\n",
            "Data columns (total 12 columns):\n",
            " #   Column                     Non-Null Count  Dtype  \n",
            "---  ------                     --------------  -----  \n",
            " 0   Item_Identifier            8523 non-null   object \n",
            " 1   Item_Weight                8519 non-null   float64\n",
            " 2   Item_Fat_Content           8523 non-null   object \n",
            " 3   Item_Visibility            8523 non-null   float64\n",
            " 4   Item_Type                  8523 non-null   object \n",
            " 5   Item_MRP                   8523 non-null   float64\n",
            " 6   Outlet_Identifier          8523 non-null   object \n",
            " 7   Outlet_Establishment_Year  8523 non-null   int64  \n",
            " 8   Outlet_Size                6113 non-null   object \n",
            " 9   Outlet_Location_Type       8523 non-null   object \n",
            " 10  Outlet_Type                8523 non-null   object \n",
            " 11  Item_Outlet_Sales          8523 non-null   float64\n",
            "dtypes: float64(4), int64(1), object(7)\n",
            "memory usage: 799.2+ KB\n"
          ]
        }
      ]
    },
    {
      "cell_type": "code",
      "source": [
        "df=df.dropna(how='any')\n",
        "df.info()"
      ],
      "metadata": {
        "colab": {
          "base_uri": "https://localhost:8080/"
        },
        "id": "3fHnuO8ErU7r",
        "outputId": "a62983fe-4704-46ac-d0ec-c36454e2828b"
      },
      "execution_count": 14,
      "outputs": [
        {
          "output_type": "stream",
          "name": "stdout",
          "text": [
            "<class 'pandas.core.frame.DataFrame'>\n",
            "Int64Index: 6109 entries, 0 to 8522\n",
            "Data columns (total 12 columns):\n",
            " #   Column                     Non-Null Count  Dtype  \n",
            "---  ------                     --------------  -----  \n",
            " 0   Item_Identifier            6109 non-null   object \n",
            " 1   Item_Weight                6109 non-null   float64\n",
            " 2   Item_Fat_Content           6109 non-null   object \n",
            " 3   Item_Visibility            6109 non-null   float64\n",
            " 4   Item_Type                  6109 non-null   object \n",
            " 5   Item_MRP                   6109 non-null   float64\n",
            " 6   Outlet_Identifier          6109 non-null   object \n",
            " 7   Outlet_Establishment_Year  6109 non-null   int64  \n",
            " 8   Outlet_Size                6109 non-null   object \n",
            " 9   Outlet_Location_Type       6109 non-null   object \n",
            " 10  Outlet_Type                6109 non-null   object \n",
            " 11  Item_Outlet_Sales          6109 non-null   float64\n",
            "dtypes: float64(4), int64(1), object(7)\n",
            "memory usage: 620.4+ KB\n"
          ]
        }
      ]
    },
    {
      "cell_type": "code",
      "source": [
        "#Ya podemos empezar a analizar la información y generar datos estadísticos de ella."
      ],
      "metadata": {
        "id": "xJ39VM8LIpB3"
      },
      "execution_count": 15,
      "outputs": []
    },
    {
      "cell_type": "code",
      "source": [
        "#partiremos viendo los tipos de alimentos\n",
        "df[\"Item_Type\"].value_counts()"
      ],
      "metadata": {
        "colab": {
          "base_uri": "https://localhost:8080/"
        },
        "id": "S7t1Ww56IpKQ",
        "outputId": "e8f9e297-8e43-4b93-f836-5cf28c20d327"
      },
      "execution_count": 16,
      "outputs": [
        {
          "output_type": "execute_result",
          "data": {
            "text/plain": [
              "Fruits and Vegetables    883\n",
              "Snack Foods              867\n",
              "Household                649\n",
              "Frozen Foods             614\n",
              "Dairy                    495\n",
              "Canned                   471\n",
              "Baking Goods             462\n",
              "Health and Hygiene       367\n",
              "Soft Drinks              312\n",
              "Meat                     309\n",
              "Breads                   179\n",
              "Hard Drinks              148\n",
              "Others                   123\n",
              "Starchy Foods            105\n",
              "Breakfast                 79\n",
              "Seafood                   46\n",
              "Name: Item_Type, dtype: int64"
            ]
          },
          "metadata": {},
          "execution_count": 16
        }
      ]
    },
    {
      "cell_type": "code",
      "source": [
        "#lo que más hay son frutas y vegetales, seguido de snacks\n",
        "#ahora veremos los tipos de alimentos y su visibilidad promedio\n",
        "df.groupby([\"Item_Type\"])[\"Item_Visibility\"].mean()"
      ],
      "metadata": {
        "colab": {
          "base_uri": "https://localhost:8080/"
        },
        "id": "Ow2wiUh2IpUB",
        "outputId": "4055598a-87ad-45aa-bc7a-128976ca0e1d"
      },
      "execution_count": 17,
      "outputs": [
        {
          "output_type": "execute_result",
          "data": {
            "text/plain": [
              "Item_Type\n",
              "Baking Goods             0.065236\n",
              "Breads                   0.064715\n",
              "Breakfast                0.082604\n",
              "Canned                   0.065790\n",
              "Dairy                    0.071806\n",
              "Frozen Foods             0.064535\n",
              "Fruits and Vegetables    0.066176\n",
              "Hard Drinks              0.060607\n",
              "Health and Hygiene       0.052946\n",
              "Household                0.060014\n",
              "Meat                     0.062537\n",
              "Others                   0.057084\n",
              "Seafood                  0.081590\n",
              "Snack Foods              0.065964\n",
              "Soft Drinks              0.063198\n",
              "Starchy Foods            0.063735\n",
              "Name: Item_Visibility, dtype: float64"
            ]
          },
          "metadata": {},
          "execution_count": 17
        }
      ]
    },
    {
      "cell_type": "markdown",
      "source": [
        "se observa que la visibilidad de los alimentos en mayor cantidad no es tan alta como la de masas y otros, pero se ve claramente que los snacks, \n",
        "el segundo tipo con mayor cantidad de productos, esta muy abajo en la visibilidad."
      ],
      "metadata": {
        "id": "4D8RtZ0lKdU0"
      }
    },
    {
      "cell_type": "code",
      "source": [
        "df.Item_Fat_Content.value_counts()"
      ],
      "metadata": {
        "colab": {
          "base_uri": "https://localhost:8080/"
        },
        "id": "SmpiA9eKHYFl",
        "outputId": "2a714bd0-f498-45db-e7c4-61846fbbf2da"
      },
      "execution_count": 18,
      "outputs": [
        {
          "output_type": "execute_result",
          "data": {
            "text/plain": [
              "Low Fat    3640\n",
              "Regular    2073\n",
              "LF          233\n",
              "reg          82\n",
              "low fat      81\n",
              "Name: Item_Fat_Content, dtype: int64"
            ]
          },
          "metadata": {},
          "execution_count": 18
        }
      ]
    },
    {
      "cell_type": "markdown",
      "source": [
        "De lo anterior vemos que no hay altos en grasa, pero que tenemos un pequeño problema: LF debe corresponder a Low Fat al igual que low fat, lo mismo para reg y Regular. Esto es un error de tipeo por lo que vamos a arreglarlo para poder agrupar de mejor manera."
      ],
      "metadata": {
        "id": "IvKolZrAKqOV"
      }
    },
    {
      "cell_type": "code",
      "source": [
        "values2 = {\"low fat\": \"Low Fat\", \"LF\": \"Low Fat\", \"reg\": \"Regular\"}\n",
        "df.Item_Fat_Content= df.Item_Fat_Content.replace(to_replace=values2)\n",
        "df.Item_Fat_Content.value_counts()"
      ],
      "metadata": {
        "colab": {
          "base_uri": "https://localhost:8080/"
        },
        "id": "kXrrLzriKnd4",
        "outputId": "2fb3ec82-1f0c-47e6-d95b-1ad59942b112"
      },
      "execution_count": 19,
      "outputs": [
        {
          "output_type": "stream",
          "name": "stderr",
          "text": [
            "/usr/local/lib/python3.7/dist-packages/pandas/core/generic.py:5516: SettingWithCopyWarning: \n",
            "A value is trying to be set on a copy of a slice from a DataFrame.\n",
            "Try using .loc[row_indexer,col_indexer] = value instead\n",
            "\n",
            "See the caveats in the documentation: https://pandas.pydata.org/pandas-docs/stable/user_guide/indexing.html#returning-a-view-versus-a-copy\n",
            "  self[name] = value\n"
          ]
        },
        {
          "output_type": "execute_result",
          "data": {
            "text/plain": [
              "Low Fat    3954\n",
              "Regular    2155\n",
              "Name: Item_Fat_Content, dtype: int64"
            ]
          },
          "metadata": {},
          "execution_count": 19
        }
      ]
    },
    {
      "cell_type": "markdown",
      "source": [
        "Revisaremos todas las columnas tipo object para revisar problemas de tipeo similares"
      ],
      "metadata": {
        "id": "CHoNtbaROyhC"
      }
    },
    {
      "cell_type": "code",
      "source": [
        "df.Item_Type.value_counts()"
      ],
      "metadata": {
        "colab": {
          "base_uri": "https://localhost:8080/"
        },
        "id": "ERc1bKVpOSdm",
        "outputId": "923cc311-5551-4c3a-f48f-9fa8473203ec"
      },
      "execution_count": 20,
      "outputs": [
        {
          "output_type": "execute_result",
          "data": {
            "text/plain": [
              "Fruits and Vegetables    883\n",
              "Snack Foods              867\n",
              "Household                649\n",
              "Frozen Foods             614\n",
              "Dairy                    495\n",
              "Canned                   471\n",
              "Baking Goods             462\n",
              "Health and Hygiene       367\n",
              "Soft Drinks              312\n",
              "Meat                     309\n",
              "Breads                   179\n",
              "Hard Drinks              148\n",
              "Others                   123\n",
              "Starchy Foods            105\n",
              "Breakfast                 79\n",
              "Seafood                   46\n",
              "Name: Item_Type, dtype: int64"
            ]
          },
          "metadata": {},
          "execution_count": 20
        }
      ]
    },
    {
      "cell_type": "code",
      "source": [
        "df.Outlet_Identifier.value_counts()"
      ],
      "metadata": {
        "colab": {
          "base_uri": "https://localhost:8080/"
        },
        "id": "VihGbco2OyMF",
        "outputId": "a669dc29-d3a2-4381-f501-c919e9cbdfa8"
      },
      "execution_count": 21,
      "outputs": [
        {
          "output_type": "execute_result",
          "data": {
            "text/plain": [
              "OUT013    932\n",
              "OUT027    932\n",
              "OUT049    930\n",
              "OUT046    930\n",
              "OUT035    930\n",
              "OUT018    928\n",
              "OUT019    527\n",
              "Name: Outlet_Identifier, dtype: int64"
            ]
          },
          "metadata": {},
          "execution_count": 21
        }
      ]
    },
    {
      "cell_type": "code",
      "source": [
        "df.Outlet_Size.value_counts()"
      ],
      "metadata": {
        "colab": {
          "base_uri": "https://localhost:8080/"
        },
        "id": "s27b7d73PSQh",
        "outputId": "bc00461f-a159-49b0-e455-ab6612b31352"
      },
      "execution_count": 22,
      "outputs": [
        {
          "output_type": "execute_result",
          "data": {
            "text/plain": [
              "Medium    2790\n",
              "Small     2387\n",
              "High       932\n",
              "Name: Outlet_Size, dtype: int64"
            ]
          },
          "metadata": {},
          "execution_count": 22
        }
      ]
    },
    {
      "cell_type": "code",
      "source": [
        "df.Outlet_Location_Type.value_counts()"
      ],
      "metadata": {
        "colab": {
          "base_uri": "https://localhost:8080/"
        },
        "id": "PzGYBi-GPu6v",
        "outputId": "a1994a10-8603-414c-aae7-b20364d70388"
      },
      "execution_count": 23,
      "outputs": [
        {
          "output_type": "execute_result",
          "data": {
            "text/plain": [
              "Tier 3    2792\n",
              "Tier 1    2387\n",
              "Tier 2     930\n",
              "Name: Outlet_Location_Type, dtype: int64"
            ]
          },
          "metadata": {},
          "execution_count": 23
        }
      ]
    },
    {
      "cell_type": "code",
      "source": [
        "df.Outlet_Type.value_counts()"
      ],
      "metadata": {
        "colab": {
          "base_uri": "https://localhost:8080/"
        },
        "id": "__huG9QaPzyH",
        "outputId": "a8df07e3-cd56-4e15-9bc1-352445eba0e2"
      },
      "execution_count": 24,
      "outputs": [
        {
          "output_type": "execute_result",
          "data": {
            "text/plain": [
              "Supermarket Type1    3722\n",
              "Supermarket Type3     932\n",
              "Supermarket Type2     928\n",
              "Grocery Store         527\n",
              "Name: Outlet_Type, dtype: int64"
            ]
          },
          "metadata": {},
          "execution_count": 24
        }
      ]
    },
    {
      "cell_type": "markdown",
      "source": [
        "No se observan errores de tipeo en otras columnas, por lo que seguimos con los datos estadísticos"
      ],
      "metadata": {
        "id": "oTr3ozRCP7ag"
      }
    },
    {
      "cell_type": "code",
      "source": [
        "#Algo no muy relevante pero para ir cerrando el analisis de los items es el peso promedio por tipo de aliemento, util para temas logísticos\n",
        "df.groupby([\"Item_Type\"])[\"Item_Weight\"].mean()"
      ],
      "metadata": {
        "colab": {
          "base_uri": "https://localhost:8080/"
        },
        "id": "5fkJC2DlQmTL",
        "outputId": "fc2e770e-958c-45e8-90c0-e7f3e1519e28"
      },
      "execution_count": 25,
      "outputs": [
        {
          "output_type": "execute_result",
          "data": {
            "text/plain": [
              "Item_Type\n",
              "Baking Goods             12.334048\n",
              "Breads                   11.162151\n",
              "Breakfast                12.697025\n",
              "Canned                   12.439331\n",
              "Dairy                    13.422596\n",
              "Frozen Foods             12.739674\n",
              "Fruits and Vegetables    13.220221\n",
              "Hard Drinks              11.519696\n",
              "Health and Hygiene       13.114918\n",
              "Household                13.772635\n",
              "Meat                     12.700728\n",
              "Others                   13.949675\n",
              "Seafood                  13.089565\n",
              "Snack Foods              13.044625\n",
              "Soft Drinks              11.923574\n",
              "Starchy Foods            13.929476\n",
              "Name: Item_Weight, dtype: float64"
            ]
          },
          "metadata": {},
          "execution_count": 25
        }
      ]
    },
    {
      "cell_type": "markdown",
      "source": [
        "Curiosamente casi todos los articulos pesan lo mismo en promedio! revisemos los minimos y maximos"
      ],
      "metadata": {
        "id": "WNn7y2H0RZwz"
      }
    },
    {
      "cell_type": "code",
      "source": [
        "df.groupby([\"Item_Type\"])[\"Item_Weight\"].min()"
      ],
      "metadata": {
        "colab": {
          "base_uri": "https://localhost:8080/"
        },
        "id": "E1mnw-mkRee0",
        "outputId": "24c0c651-309e-4795-8fa5-adc9a10bd6ca"
      },
      "execution_count": 26,
      "outputs": [
        {
          "output_type": "execute_result",
          "data": {
            "text/plain": [
              "Item_Type\n",
              "Baking Goods             4.880\n",
              "Breads                   4.635\n",
              "Breakfast                6.425\n",
              "Canned                   4.615\n",
              "Dairy                    4.805\n",
              "Frozen Foods             4.555\n",
              "Fruits and Vegetables    5.460\n",
              "Hard Drinks              4.610\n",
              "Health and Hygiene       5.175\n",
              "Household                5.030\n",
              "Meat                     5.150\n",
              "Others                   5.500\n",
              "Seafood                  5.365\n",
              "Snack Foods              5.095\n",
              "Soft Drinks              4.590\n",
              "Starchy Foods            6.695\n",
              "Name: Item_Weight, dtype: float64"
            ]
          },
          "metadata": {},
          "execution_count": 26
        }
      ]
    },
    {
      "cell_type": "code",
      "source": [
        "df.groupby([\"Item_Type\"])[\"Item_Weight\"].max()"
      ],
      "metadata": {
        "colab": {
          "base_uri": "https://localhost:8080/"
        },
        "id": "1kmHiTVYRqUr",
        "outputId": "2e0e424b-0f5b-412e-eb51-afd94818ed80"
      },
      "execution_count": 27,
      "outputs": [
        {
          "output_type": "execute_result",
          "data": {
            "text/plain": [
              "Item_Type\n",
              "Baking Goods             20.85\n",
              "Breads                   20.85\n",
              "Breakfast                21.10\n",
              "Canned                   21.35\n",
              "Dairy                    20.70\n",
              "Frozen Foods             20.85\n",
              "Fruits and Vegetables    21.35\n",
              "Hard Drinks              19.70\n",
              "Health and Hygiene       21.25\n",
              "Household                21.25\n",
              "Meat                     21.25\n",
              "Others                   20.50\n",
              "Seafood                  20.75\n",
              "Snack Foods              21.25\n",
              "Soft Drinks              20.75\n",
              "Starchy Foods            21.20\n",
              "Name: Item_Weight, dtype: float64"
            ]
          },
          "metadata": {},
          "execution_count": 27
        }
      ]
    },
    {
      "cell_type": "markdown",
      "source": [
        "Los pesos de los productos oscilan entre 4 y 21.5 aprox. "
      ],
      "metadata": {
        "id": "rbbXWVISRybG"
      }
    },
    {
      "cell_type": "code",
      "source": [
        "#revisaremos los valores promedio por tipo de alimento"
      ],
      "metadata": {
        "id": "Gr4tpZa4R_qw"
      },
      "execution_count": 28,
      "outputs": []
    },
    {
      "cell_type": "code",
      "source": [
        "g2=df.groupby([\"Item_Type\"])[\"Item_MRP\"].mean()\n",
        "g2"
      ],
      "metadata": {
        "colab": {
          "base_uri": "https://localhost:8080/"
        },
        "id": "MUR-wNUISSli",
        "outputId": "4b60bbc5-c979-47ec-e1cf-8f2d6f332e7c"
      },
      "execution_count": 29,
      "outputs": [
        {
          "output_type": "execute_result",
          "data": {
            "text/plain": [
              "Item_Type\n",
              "Baking Goods             126.276381\n",
              "Breads                   141.718544\n",
              "Breakfast                135.161630\n",
              "Canned                   139.428248\n",
              "Dairy                    148.412065\n",
              "Frozen Foods             138.983373\n",
              "Fruits and Vegetables    145.374122\n",
              "Hard Drinks              138.277699\n",
              "Health and Hygiene       130.926909\n",
              "Household                150.090504\n",
              "Meat                     140.102582\n",
              "Others                   132.948080\n",
              "Seafood                  141.694922\n",
              "Snack Foods              146.678937\n",
              "Soft Drinks              130.669381\n",
              "Starchy Foods            150.851307\n",
              "Name: Item_MRP, dtype: float64"
            ]
          },
          "metadata": {},
          "execution_count": 29
        }
      ]
    },
    {
      "cell_type": "code",
      "source": [
        "df.groupby([\"Item_Type\"])[\"Item_MRP\"].min()"
      ],
      "metadata": {
        "colab": {
          "base_uri": "https://localhost:8080/"
        },
        "id": "TmcWpJaKSkMN",
        "outputId": "8fed9716-14e5-4ddb-c4da-01e2b647abb7"
      },
      "execution_count": 30,
      "outputs": [
        {
          "output_type": "execute_result",
          "data": {
            "text/plain": [
              "Item_Type\n",
              "Baking Goods             33.9874\n",
              "Breads                   31.9558\n",
              "Breakfast                40.0480\n",
              "Canned                   36.3506\n",
              "Dairy                    33.4874\n",
              "Frozen Foods             31.9558\n",
              "Fruits and Vegetables    36.2506\n",
              "Hard Drinks              34.2532\n",
              "Health and Hygiene       33.1216\n",
              "Household                32.4558\n",
              "Meat                     34.7532\n",
              "Others                   35.0190\n",
              "Seafood                  33.7216\n",
              "Snack Foods              32.3558\n",
              "Soft Drinks              31.2900\n",
              "Starchy Foods            34.3532\n",
              "Name: Item_MRP, dtype: float64"
            ]
          },
          "metadata": {},
          "execution_count": 30
        }
      ]
    },
    {
      "cell_type": "code",
      "source": [
        "df.groupby([\"Item_Type\"])[\"Item_MRP\"].max()"
      ],
      "metadata": {
        "colab": {
          "base_uri": "https://localhost:8080/"
        },
        "id": "jDX8H1f5Sn-B",
        "outputId": "ac79a405-f503-4103-dcaf-77559b227260"
      },
      "execution_count": 31,
      "outputs": [
        {
          "output_type": "execute_result",
          "data": {
            "text/plain": [
              "Item_Type\n",
              "Baking Goods             265.5568\n",
              "Breads                   263.6594\n",
              "Breakfast                232.7326\n",
              "Canned                   266.8884\n",
              "Dairy                    266.1884\n",
              "Frozen Foods             264.8910\n",
              "Fruits and Vegetables    263.9252\n",
              "Hard Drinks              261.4278\n",
              "Health and Hygiene       266.6884\n",
              "Household                263.9910\n",
              "Meat                     260.2936\n",
              "Others                   254.9040\n",
              "Seafood                  240.2880\n",
              "Snack Foods              264.9568\n",
              "Soft Drinks              263.3910\n",
              "Starchy Foods            263.0252\n",
              "Name: Item_MRP, dtype: float64"
            ]
          },
          "metadata": {},
          "execution_count": 31
        }
      ]
    },
    {
      "cell_type": "markdown",
      "source": [
        "Es muy curioso que los valores y pesos sean tan similares para tipos de item tan diferentes!"
      ],
      "metadata": {
        "id": "_NI285WYSt0E"
      }
    },
    {
      "cell_type": "code",
      "source": [
        "#Ahora veremos como se distribuyen los items para venta en diferentes PDV, veremos que items son los mas vendidos:"
      ],
      "metadata": {
        "id": "kwbv-SyGS0kn"
      },
      "execution_count": 32,
      "outputs": []
    },
    {
      "cell_type": "code",
      "source": [
        "  gr1=df.groupby(by=[\"Item_Type\",\"Outlet_Type\"])[\"Outlet_Type\"].count()\n",
        "  gr1"
      ],
      "metadata": {
        "colab": {
          "base_uri": "https://localhost:8080/"
        },
        "id": "1sCB1skyTOJk",
        "outputId": "a3460d93-6021-46b5-cab1-2855ecb40cb7"
      },
      "execution_count": 33,
      "outputs": [
        {
          "output_type": "execute_result",
          "data": {
            "text/plain": [
              "Item_Type      Outlet_Type      \n",
              "Baking Goods   Grocery Store         42\n",
              "               Supermarket Type1    283\n",
              "               Supermarket Type2     68\n",
              "               Supermarket Type3     69\n",
              "Breads         Grocery Store         16\n",
              "                                   ... \n",
              "Soft Drinks    Supermarket Type3     45\n",
              "Starchy Foods  Grocery Store          4\n",
              "               Supermarket Type1     70\n",
              "               Supermarket Type2     17\n",
              "               Supermarket Type3     14\n",
              "Name: Outlet_Type, Length: 64, dtype: int64"
            ]
          },
          "metadata": {},
          "execution_count": 33
        }
      ]
    },
    {
      "cell_type": "markdown",
      "source": [
        "Otra información relevante son las ventas por PDV para cada item, identificando los mejores PDV por categoria de item"
      ],
      "metadata": {
        "id": "KeKS9u4IVbXW"
      }
    },
    {
      "cell_type": "code",
      "source": [
        "  df.groupby(by=[\"Item_Type\",\"Outlet_Identifier\"])[\"Item_MRP\"].sum()\n",
        "  baking_grocery=df[(df['Item_Type']==\"Baking Goods\") & (df['Outlet_Type']== \"Grocery Store\")]['Outlet_Type'].count()\n",
        "  baking_super1= df[(df['Item_Type']==\"Baking Goods\") & (df['Outlet_Type']== \"Supermarket Type1\")]['Outlet_Type'].count()\n",
        "  baking_super2= df[(df['Item_Type']==\"Baking Goods\") & (df['Outlet_Type']== \"Supermarket Type2\")]['Outlet_Type'].count()\n",
        "  baking_super3= df[(df['Item_Type']==\"Baking Goods\") & (df['Outlet_Type']== \"Supermarket Type3\")]['Outlet_Type'].count()\n",
        "  baking_list=[baking_grocery, baking_super1, baking_super2, baking_super3]"
      ],
      "metadata": {
        "id": "33OqId1GVp_c"
      },
      "execution_count": 34,
      "outputs": []
    },
    {
      "cell_type": "code",
      "source": [
        "g2.plot.bar()"
      ],
      "metadata": {
        "colab": {
          "base_uri": "https://localhost:8080/",
          "height": 395
        },
        "id": "faQKJTpngzjB",
        "outputId": "dec28352-c62b-4e9c-d7f6-d43567e51401"
      },
      "execution_count": 35,
      "outputs": [
        {
          "output_type": "execute_result",
          "data": {
            "text/plain": [
              "<matplotlib.axes._subplots.AxesSubplot at 0x7fed03ba1d10>"
            ]
          },
          "metadata": {},
          "execution_count": 35
        },
        {
          "output_type": "display_data",
          "data": {
            "text/plain": [
              "<Figure size 432x288 with 1 Axes>"
            ],
            "image/png": "[encoded data removed]"
          },
          "metadata": {
            "needs_background": "light"
          }
        }
      ]
    },
    {
      "cell_type": "code",
      "source": [
        "import matplotlib.pyplot as plt\n",
        "baking_names= ['Groc_Store', 'SuperT1', 'SuperT2', 'SuperT3']\n",
        "plt.pie(baking_list, labels=baking_names)\n",
        "#en este grafico podemos ver, para la categoria de baking goods, como se distribuyen las ventas, siendo los super t1 quienes mas venden este tipo de producto\n"
      ],
      "metadata": {
        "colab": {
          "base_uri": "https://localhost:8080/",
          "height": 387
        },
        "id": "UuAnxcxOhHpk",
        "outputId": "8347ef7f-a518-4f17-d6bb-5b9c3076f427"
      },
      "execution_count": 36,
      "outputs": [
        {
          "output_type": "execute_result",
          "data": {
            "text/plain": [
              "([<matplotlib.patches.Wedge at 0x7fed03b38390>,\n",
              "  <matplotlib.patches.Wedge at 0x7fed03b389d0>,\n",
              "  <matplotlib.patches.Wedge at 0x7fed03b3b250>,\n",
              "  <matplotlib.patches.Wedge at 0x7fed03b3c510>],\n",
              " [Text(1.0554422683381766, 0.30990582150899426, 'Groc_Store'),\n",
              "  Text(-0.8783490399698465, 0.6621955632470283, 'SuperT1'),\n",
              "  Text(0.18610030349051676, -1.0841432917473306, 'SuperT2'),\n",
              "  Text(0.9811239450485454, -0.49738898706382617, 'SuperT3')])"
            ]
          },
          "metadata": {},
          "execution_count": 36
        },
        {
          "output_type": "display_data",
          "data": {
            "text/plain": [
              "<Figure size 432x288 with 1 Axes>"
            ],
            "image/png": "[encoded data removed]"
          },
          "metadata": {}
        }
      ]
    },
    {
      "cell_type": "code",
      "source": [
        "import seaborn as sns"
      ],
      "metadata": {
        "id": "d2PAxaRPuCxf"
      },
      "execution_count": 37,
      "outputs": []
    },
    {
      "cell_type": "code",
      "source": [
        "#Este grafico muestra todos los datos numericos y sus correlaciones, donde podemos ver que solo se destaca una correlacion moderada en el caso de Item_MRP y Item _Outlet_Sales\n",
        "#Esto se debe a que a mayor valor de los productos, mayores son las ventas del retail, por lo que si el retailer vende productos caros, gana mas (no necesariamente margina más)\n",
        "sns.heatmap(df.corr())"
      ],
      "metadata": {
        "colab": {
          "base_uri": "https://localhost:8080/",
          "height": 409
        },
        "id": "CmMIF4eUuG4P",
        "outputId": "8e9c3698-0831-4278-edbc-1e29f9355083"
      },
      "execution_count": 38,
      "outputs": [
        {
          "output_type": "execute_result",
          "data": {
            "text/plain": [
              "<matplotlib.axes._subplots.AxesSubplot at 0x7fed0413bdd0>"
            ]
          },
          "metadata": {},
          "execution_count": 38
        },
        {
          "output_type": "display_data",
          "data": {
            "text/plain": [
              "<Figure size 432x288 with 2 Axes>"
            ],
            "image/png": "[encoded data removed]"
          },
          "metadata": {
            "needs_background": "light"
          }
        }
      ]
    },
    {
      "cell_type": "code",
      "source": [
        "#Seria interesante ver un hitograma de variables relevantes, como Item_MRP y Item Outlet Sales"
      ],
      "metadata": {
        "id": "cR33qoCcQ73j"
      },
      "execution_count": 39,
      "outputs": []
    },
    {
      "cell_type": "code",
      "source": [
        "df[\"Item_MRP\"].hist() #Los precios se distribuyen de manera homogenea, excepto que de 200 en adelante hay menos productos que en el resto de los precios"
      ],
      "metadata": {
        "id": "tIbiQgOjuL7L",
        "colab": {
          "base_uri": "https://localhost:8080/",
          "height": 282
        },
        "outputId": "61bb1d44-c2ee-463f-d829-c9f2b6e6e34b"
      },
      "execution_count": 40,
      "outputs": [
        {
          "output_type": "execute_result",
          "data": {
            "text/plain": [
              "<matplotlib.axes._subplots.AxesSubplot at 0x7fed03b09ad0>"
            ]
          },
          "metadata": {},
          "execution_count": 40
        },
        {
          "output_type": "display_data",
          "data": {
            "text/plain": [
              "<Figure size 432x288 with 1 Axes>"
            ],
            "image/png": "[encoded data removed]"
          },
          "metadata": {
            "needs_background": "light"
          }
        }
      ]
    },
    {
      "cell_type": "code",
      "source": [
        "#dado que queremos tener mas control de como se presenta esta información para mejorar nuestro analisis, usaremos Matplotlib para poder detallar algunos puntos del gráfico\n",
        "plt.style.use('seaborn')\n",
        "\n",
        "Item_MRP=np.array(df[\"Item_MRP\"])\n",
        "plt.hist(Item_MRP, label='Item_MRP', stacked=True, edgecolor='white', lw=1, bins=30)\n",
        "plt.xlabel('Retail Prices in USD')\n",
        "plt.xticks(np.arange(0, 300, step=20))\n",
        "plt.ylabel('count')\n",
        "plt.legend()\n"
      ],
      "metadata": {
        "colab": {
          "base_uri": "https://localhost:8080/",
          "height": 378
        },
        "id": "TZpvKzp2SLAw",
        "outputId": "13e0ad17-d20c-46f0-90df-b19563eba654"
      },
      "execution_count": 41,
      "outputs": [
        {
          "output_type": "execute_result",
          "data": {
            "text/plain": [
              "<matplotlib.legend.Legend at 0x7fed04546c50>"
            ]
          },
          "metadata": {},
          "execution_count": 41
        },
        {
          "output_type": "display_data",
          "data": {
            "text/plain": [
              "<Figure size 576x396 with 1 Axes>"
            ],
            "image/png": "[encoded data removed]"
          },
          "metadata": {}
        }
      ]
    },
    {
      "cell_type": "code",
      "source": [
        "df[\"Item_Outlet_Sales\"].hist() #Los precios se distribuyen de manera homogenea, excepto que de 200 en adelante hay menos productos que en el resto de los precios"
      ],
      "metadata": {
        "colab": {
          "base_uri": "https://localhost:8080/",
          "height": 364
        },
        "id": "UQ1O61E-R1U_",
        "outputId": "686d9c22-53ad-468d-b9d2-96459cfbf11b"
      },
      "execution_count": 42,
      "outputs": [
        {
          "output_type": "execute_result",
          "data": {
            "text/plain": [
              "<matplotlib.axes._subplots.AxesSubplot at 0x7fed04531290>"
            ]
          },
          "metadata": {},
          "execution_count": 42
        },
        {
          "output_type": "display_data",
          "data": {
            "text/plain": [
              "<Figure size 576x396 with 1 Axes>"
            ],
            "image/png": "[encoded data removed]"
          },
          "metadata": {}
        }
      ]
    },
    {
      "cell_type": "code",
      "source": [
        "#Lo mismo en el caso de Item Outles Sales\n",
        "Item_MRP=np.array(df[\"Item_Outlet_Sales\"])\n",
        "plt.hist(Item_MRP, label='Item_Outlet_Sales', stacked=True, edgecolor='white', lw=1, bins=30)\n",
        "plt.xlabel('Item_Outlet_Sales in USD')\n",
        "plt.xticks(np.arange(0, 12000, step=1000))\n",
        "plt.ylabel('count')\n",
        "plt.legend()"
      ],
      "metadata": {
        "colab": {
          "base_uri": "https://localhost:8080/",
          "height": 378
        },
        "id": "Yeghv_eaT3RD",
        "outputId": "61356063-5d2d-48a6-ee5a-4d23c2732b0c"
      },
      "execution_count": 43,
      "outputs": [
        {
          "output_type": "execute_result",
          "data": {
            "text/plain": [
              "<matplotlib.legend.Legend at 0x7fed04328910>"
            ]
          },
          "metadata": {},
          "execution_count": 43
        },
        {
          "output_type": "display_data",
          "data": {
            "text/plain": [
              "<Figure size 576x396 with 1 Axes>"
            ],
            "image/png": "[encoded data removed]"
          },
          "metadata": {}
        }
      ]
    },
    {
      "cell_type": "code",
      "source": [
        "#de lo anterior podemos concluir que el grafico tiene un acento a la izquierda, y se distribuje de manera muy uniforme, donde la mayor cantidad de locales vende menos de 3500 \n",
        "\n",
        "#ahora veremos algunos gráficos tipo box para poder entender mejor "
      ],
      "metadata": {
        "id": "EPKoilBpVDvF"
      },
      "execution_count": 44,
      "outputs": []
    },
    {
      "cell_type": "code",
      "source": [
        "#Los minoristas piden que diseñemos un modelo que ayude a predecir ventas en los PDV, y para ello desarrollaremos en primera instancia, dos modelos sencillos,\n",
        "#evaluando si tienen buenos resultados predictivos: linear regression y KNN\n",
        "#Previo a dicho analisis revisaremos los tipos de datos, ya que para hacer regresion lineal necesitamos datos numericos o categóricos\n",
        "df.info()\n"
      ],
      "metadata": {
        "colab": {
          "base_uri": "https://localhost:8080/"
        },
        "id": "3H7nnva749lr",
        "outputId": "ef8a5cdb-6307-4435-e146-031224cc9a10"
      },
      "execution_count": 45,
      "outputs": [
        {
          "output_type": "stream",
          "name": "stdout",
          "text": [
            "<class 'pandas.core.frame.DataFrame'>\n",
            "Int64Index: 6109 entries, 0 to 8522\n",
            "Data columns (total 12 columns):\n",
            " #   Column                     Non-Null Count  Dtype  \n",
            "---  ------                     --------------  -----  \n",
            " 0   Item_Identifier            6109 non-null   object \n",
            " 1   Item_Weight                6109 non-null   float64\n",
            " 2   Item_Fat_Content           6109 non-null   object \n",
            " 3   Item_Visibility            6109 non-null   float64\n",
            " 4   Item_Type                  6109 non-null   object \n",
            " 5   Item_MRP                   6109 non-null   float64\n",
            " 6   Outlet_Identifier          6109 non-null   object \n",
            " 7   Outlet_Establishment_Year  6109 non-null   int64  \n",
            " 8   Outlet_Size                6109 non-null   object \n",
            " 9   Outlet_Location_Type       6109 non-null   object \n",
            " 10  Outlet_Type                6109 non-null   object \n",
            " 11  Item_Outlet_Sales          6109 non-null   float64\n",
            "dtypes: float64(4), int64(1), object(7)\n",
            "memory usage: 620.4+ KB\n"
          ]
        }
      ]
    },
    {
      "cell_type": "code",
      "source": [
        "#Analisis de los features\n",
        "#0. item ideintifier, no nos agrega valor esta columna al analisis por lo que lo eliminaremos para realizar linear regression:\n",
        "df=df.drop(\"Item_Identifier\", axis=1)\n",
        "#las columnas 2, 4, 6, 8, 9 y 10 pueden ser transformada en categorias, por lo que la dejaremos para hacer one hot encoding"
      ],
      "metadata": {
        "id": "Mbvn-pPBDDzG"
      },
      "execution_count": 46,
      "outputs": []
    },
    {
      "cell_type": "code",
      "source": [
        "df['Item_Fat_Content'].value_counts()"
      ],
      "metadata": {
        "colab": {
          "base_uri": "https://localhost:8080/"
        },
        "id": "eXkLyxJzejDt",
        "outputId": "c7cec5ca-f10a-4631-d9ab-5e05514364e8"
      },
      "execution_count": 47,
      "outputs": [
        {
          "output_type": "execute_result",
          "data": {
            "text/plain": [
              "Low Fat    3954\n",
              "Regular    2155\n",
              "Name: Item_Fat_Content, dtype: int64"
            ]
          },
          "metadata": {},
          "execution_count": 47
        }
      ]
    },
    {
      "cell_type": "code",
      "source": [
        "# al solo haber dos tipos, dejaremos low fat como 0 y regular como 1, ya que además low fat y regular fat son ordinales\n",
        "gen_ord_map = {'Low Fat': 0, 'Regular': 1}\n",
        "df['Item_Fat_Content_n'] = df['Item_Fat_Content'].map(gen_ord_map)\n",
        "df=df.drop([\"Item_Fat_Content\"], axis=1)\n",
        "df['Item_Fat_Content_n'][0:4]"
      ],
      "metadata": {
        "colab": {
          "base_uri": "https://localhost:8080/"
        },
        "id": "wtD5q4dicpVX",
        "outputId": "55f088c5-f801-4a9a-e34b-2a46e06488f5"
      },
      "execution_count": 48,
      "outputs": [
        {
          "output_type": "execute_result",
          "data": {
            "text/plain": [
              "0    0\n",
              "1    1\n",
              "2    0\n",
              "4    0\n",
              "Name: Item_Fat_Content_n, dtype: int64"
            ]
          },
          "metadata": {},
          "execution_count": 48
        }
      ]
    },
    {
      "cell_type": "code",
      "source": [
        "#revisaremos item_type\n",
        "df['Item_Type'].value_counts() #tenemos diferentes clasificaciones no ordinales por lo que quedan asi para que el one hot encoding las transforme"
      ],
      "metadata": {
        "colab": {
          "base_uri": "https://localhost:8080/"
        },
        "id": "muuI4_jWjRT6",
        "outputId": "13fc555b-3cf2-497e-9e53-5f207400646b"
      },
      "execution_count": 49,
      "outputs": [
        {
          "output_type": "execute_result",
          "data": {
            "text/plain": [
              "Fruits and Vegetables    883\n",
              "Snack Foods              867\n",
              "Household                649\n",
              "Frozen Foods             614\n",
              "Dairy                    495\n",
              "Canned                   471\n",
              "Baking Goods             462\n",
              "Health and Hygiene       367\n",
              "Soft Drinks              312\n",
              "Meat                     309\n",
              "Breads                   179\n",
              "Hard Drinks              148\n",
              "Others                   123\n",
              "Starchy Foods            105\n",
              "Breakfast                 79\n",
              "Seafood                   46\n",
              "Name: Item_Type, dtype: int64"
            ]
          },
          "metadata": {},
          "execution_count": 49
        }
      ]
    },
    {
      "cell_type": "code",
      "source": [
        "df['Outlet_Identifier'].value_counts() #lo mismo pasa en este caso"
      ],
      "metadata": {
        "colab": {
          "base_uri": "https://localhost:8080/"
        },
        "id": "J4fqbBBvkLet",
        "outputId": "c8cc6ec7-b7b9-4449-8662-f5299251ea97"
      },
      "execution_count": 50,
      "outputs": [
        {
          "output_type": "execute_result",
          "data": {
            "text/plain": [
              "OUT013    932\n",
              "OUT027    932\n",
              "OUT049    930\n",
              "OUT046    930\n",
              "OUT035    930\n",
              "OUT018    928\n",
              "OUT019    527\n",
              "Name: Outlet_Identifier, dtype: int64"
            ]
          },
          "metadata": {},
          "execution_count": 50
        }
      ]
    },
    {
      "cell_type": "code",
      "source": [
        "df['Outlet_Location_Type'].value_counts() #en esta columna si es posible cambiar los datos por val nominales\n",
        "values4 = {\"Tier 1\": 1, \"Tier 2\": 2, \"Tier 3\": 3}\n",
        "df['Outlet_Location_Type']=df['Outlet_Location_Type'].replace(values4)\n",
        "df['Outlet_Location_Type'].value_counts()"
      ],
      "metadata": {
        "colab": {
          "base_uri": "https://localhost:8080/"
        },
        "id": "OEl7doD8pm-0",
        "outputId": "3256314b-1777-41cd-91e4-8576948989e9"
      },
      "execution_count": 51,
      "outputs": [
        {
          "output_type": "execute_result",
          "data": {
            "text/plain": [
              "3    2792\n",
              "1    2387\n",
              "2     930\n",
              "Name: Outlet_Location_Type, dtype: int64"
            ]
          },
          "metadata": {},
          "execution_count": 51
        }
      ]
    },
    {
      "cell_type": "code",
      "source": [
        "df['Outlet_Type'].value_counts() #Se aprecia un orden en donde grocery es le mas bajo y despues 3 tipos de supermercado, por lo que haremos lo mismo usanod grocery como 0\n",
        "values5 = {\"Grocery Store\": 0,\"Supermarket Type1\": 1, \"Supermarket Type2\": 2, \"Supermarket Type3\": 3}\n",
        "df['Outlet_Location_Type']=df['Outlet_Location_Type'].replace(values5)\n",
        "df['Outlet_Location_Type'].value_counts()"
      ],
      "metadata": {
        "colab": {
          "base_uri": "https://localhost:8080/"
        },
        "id": "AwLTZKCpqFcv",
        "outputId": "6992366a-c37a-458f-f1e7-a608a3a44231"
      },
      "execution_count": 52,
      "outputs": [
        {
          "output_type": "execute_result",
          "data": {
            "text/plain": [
              "3    2792\n",
              "1    2387\n",
              "2     930\n",
              "Name: Outlet_Location_Type, dtype: int64"
            ]
          },
          "metadata": {},
          "execution_count": 52
        }
      ]
    },
    {
      "cell_type": "code",
      "source": [
        "pip install --upgrade category_encoders\n"
      ],
      "metadata": {
        "colab": {
          "base_uri": "https://localhost:8080/"
        },
        "id": "ahu_QpfwO9Yb",
        "outputId": "d97b1e01-6e7c-4221-daa2-808a01da761c"
      },
      "execution_count": 53,
      "outputs": [
        {
          "output_type": "stream",
          "name": "stdout",
          "text": [
            "Collecting category_encoders\n",
            "  Downloading category_encoders-2.4.1-py2.py3-none-any.whl (80 kB)\n",
            "\u001b[?25l\r\u001b[K     |████                            | 10 kB 20.5 MB/s eta 0:00:01\r\u001b[K     |████████                        | 20 kB 24.6 MB/s eta 0:00:01\r\u001b[K     |████████████▏                   | 30 kB 9.9 MB/s eta 0:00:01\r\u001b[K     |████████████████▏               | 40 kB 10.8 MB/s eta 0:00:01\r\u001b[K     |████████████████████▎           | 51 kB 4.8 MB/s eta 0:00:01\r\u001b[K     |████████████████████████▎       | 61 kB 5.7 MB/s eta 0:00:01\r\u001b[K     |████████████████████████████▍   | 71 kB 6.5 MB/s eta 0:00:01\r\u001b[K     |████████████████████████████████| 80 kB 4.8 MB/s \n",
            "\u001b[?25hRequirement already satisfied: scikit-learn>=0.20.0 in /usr/local/lib/python3.7/dist-packages (from category_encoders) (1.0.2)\n",
            "Requirement already satisfied: pandas>=0.21.1 in /usr/local/lib/python3.7/dist-packages (from category_encoders) (1.3.5)\n",
            "Requirement already satisfied: numpy>=1.14.0 in /usr/local/lib/python3.7/dist-packages (from category_encoders) (1.21.6)\n",
            "Requirement already satisfied: patsy>=0.5.1 in /usr/local/lib/python3.7/dist-packages (from category_encoders) (0.5.2)\n",
            "Requirement already satisfied: scipy>=1.0.0 in /usr/local/lib/python3.7/dist-packages (from category_encoders) (1.4.1)\n",
            "Requirement already satisfied: statsmodels>=0.9.0 in /usr/local/lib/python3.7/dist-packages (from category_encoders) (0.10.2)\n",
            "Requirement already satisfied: python-dateutil>=2.7.3 in /usr/local/lib/python3.7/dist-packages (from pandas>=0.21.1->category_encoders) (2.8.2)\n",
            "Requirement already satisfied: pytz>=2017.3 in /usr/local/lib/python3.7/dist-packages (from pandas>=0.21.1->category_encoders) (2022.1)\n",
            "Requirement already satisfied: six in /usr/local/lib/python3.7/dist-packages (from patsy>=0.5.1->category_encoders) (1.15.0)\n",
            "Requirement already satisfied: joblib>=0.11 in /usr/local/lib/python3.7/dist-packages (from scikit-learn>=0.20.0->category_encoders) (1.1.0)\n",
            "Requirement already satisfied: threadpoolctl>=2.0.0 in /usr/local/lib/python3.7/dist-packages (from scikit-learn>=0.20.0->category_encoders) (3.1.0)\n",
            "Installing collected packages: category-encoders\n",
            "Successfully installed category-encoders-2.4.1\n"
          ]
        }
      ]
    },
    {
      "cell_type": "code",
      "source": [
        "from sklearn.model_selection import train_test_split\n",
        "import category_encoders as ce #esta biblioteca tiene mejores encoders que scikitlearn \n",
        "ohe = ce.OneHotEncoder(handle_unknown='ignore', use_cat_names=True) \n",
        "df_ohe= ohe.fit_transform(df)\n",
        "df_ohe.head()\n"
      ],
      "metadata": {
        "colab": {
          "base_uri": "https://localhost:8080/",
          "height": 352
        },
        "id": "8Y-flrg3On6U",
        "outputId": "ac8f72b6-9e03-4d97-ba22-abc73f4898e1"
      },
      "execution_count": 54,
      "outputs": [
        {
          "output_type": "stream",
          "name": "stderr",
          "text": [
            "/usr/local/lib/python3.7/dist-packages/statsmodels/tools/_testing.py:19: FutureWarning: pandas.util.testing is deprecated. Use the functions in the public API at pandas.testing instead.\n",
            "  import pandas.util.testing as tm\n"
          ]
        },
        {
          "output_type": "execute_result",
          "data": {
            "text/plain": [
              "   Item_Weight  Item_Visibility  Item_Type_Dairy  Item_Type_Soft Drinks  \\\n",
              "0        9.300         0.016047                1                      0   \n",
              "1        5.920         0.019278                0                      1   \n",
              "2       17.500         0.016760                0                      0   \n",
              "4        8.930         0.000000                0                      0   \n",
              "5       10.395         0.000000                0                      0   \n",
              "\n",
              "   Item_Type_Meat  Item_Type_Household  Item_Type_Baking Goods  \\\n",
              "0               0                    0                       0   \n",
              "1               0                    0                       0   \n",
              "2               1                    0                       0   \n",
              "4               0                    1                       0   \n",
              "5               0                    0                       1   \n",
              "\n",
              "   Item_Type_Snack Foods  Item_Type_Fruits and Vegetables  \\\n",
              "0                      0                                0   \n",
              "1                      0                                0   \n",
              "2                      0                                0   \n",
              "4                      0                                0   \n",
              "5                      0                                0   \n",
              "\n",
              "   Item_Type_Breakfast  ...  Outlet_Size_Medium  Outlet_Size_High  \\\n",
              "0                    0  ...                   1                 0   \n",
              "1                    0  ...                   1                 0   \n",
              "2                    0  ...                   1                 0   \n",
              "4                    0  ...                   0                 1   \n",
              "5                    0  ...                   1                 0   \n",
              "\n",
              "   Outlet_Size_Small  Outlet_Location_Type  Outlet_Type_Supermarket Type1  \\\n",
              "0                  0                     1                              1   \n",
              "1                  0                     3                              0   \n",
              "2                  0                     1                              1   \n",
              "4                  0                     3                              1   \n",
              "5                  0                     3                              0   \n",
              "\n",
              "   Outlet_Type_Supermarket Type2  Outlet_Type_Supermarket Type3  \\\n",
              "0                              0                              0   \n",
              "1                              1                              0   \n",
              "2                              0                              0   \n",
              "4                              0                              0   \n",
              "5                              1                              0   \n",
              "\n",
              "   Outlet_Type_Grocery Store  Item_Outlet_Sales  Item_Fat_Content_n  \n",
              "0                          0          3735.1380                   0  \n",
              "1                          0           443.4228                   1  \n",
              "2                          0          2097.2700                   0  \n",
              "4                          0           994.7052                   0  \n",
              "5                          0           556.6088                   1  \n",
              "\n",
              "[5 rows x 37 columns]"
            ],
            "text/html": [
              "\n",
              "  <div id=\"df-6195d7fe-155b-4344-b5f9-ccb7bcdf2a75\">\n",
              "    <div class=\"colab-df-container\">\n",
              "      <div>\n",
              "<style scoped>\n",
              "    .dataframe tbody tr th:only-of-type {\n",
              "        vertical-align: middle;\n",
              "    }\n",
              "\n",
              "    .dataframe tbody tr th {\n",
              "        vertical-align: top;\n",
              "    }\n",
              "\n",
              "    .dataframe thead th {\n",
              "        text-align: right;\n",
              "    }\n",
              "</style>\n",
              "<table border=\"1\" class=\"dataframe\">\n",
              "  <thead>\n",
              "    <tr style=\"text-align: right;\">\n",
              "      <th></th>\n",
              "      <th>Item_Weight</th>\n",
              "      <th>Item_Visibility</th>\n",
              "      <th>Item_Type_Dairy</th>\n",
              "      <th>Item_Type_Soft Drinks</th>\n",
              "      <th>Item_Type_Meat</th>\n",
              "      <th>Item_Type_Household</th>\n",
              "      <th>Item_Type_Baking Goods</th>\n",
              "      <th>Item_Type_Snack Foods</th>\n",
              "      <th>Item_Type_Fruits and Vegetables</th>\n",
              "      <th>Item_Type_Breakfast</th>\n",
              "      <th>...</th>\n",
              "      <th>Outlet_Size_Medium</th>\n",
              "      <th>Outlet_Size_High</th>\n",
              "      <th>Outlet_Size_Small</th>\n",
              "      <th>Outlet_Location_Type</th>\n",
              "      <th>Outlet_Type_Supermarket Type1</th>\n",
              "      <th>Outlet_Type_Supermarket Type2</th>\n",
              "      <th>Outlet_Type_Supermarket Type3</th>\n",
              "      <th>Outlet_Type_Grocery Store</th>\n",
              "      <th>Item_Outlet_Sales</th>\n",
              "      <th>Item_Fat_Content_n</th>\n",
              "    </tr>\n",
              "  </thead>\n",
              "  <tbody>\n",
              "    <tr>\n",
              "      <th>0</th>\n",
              "      <td>9.300</td>\n",
              "      <td>0.016047</td>\n",
              "      <td>1</td>\n",
              "      <td>0</td>\n",
              "      <td>0</td>\n",
              "      <td>0</td>\n",
              "      <td>0</td>\n",
              "      <td>0</td>\n",
              "      <td>0</td>\n",
              "      <td>0</td>\n",
              "      <td>...</td>\n",
              "      <td>1</td>\n",
              "      <td>0</td>\n",
              "      <td>0</td>\n",
              "      <td>1</td>\n",
              "      <td>1</td>\n",
              "      <td>0</td>\n",
              "      <td>0</td>\n",
              "      <td>0</td>\n",
              "      <td>3735.1380</td>\n",
              "      <td>0</td>\n",
              "    </tr>\n",
              "    <tr>\n",
              "      <th>1</th>\n",
              "      <td>5.920</td>\n",
              "      <td>0.019278</td>\n",
              "      <td>0</td>\n",
              "      <td>1</td>\n",
              "      <td>0</td>\n",
              "      <td>0</td>\n",
              "      <td>0</td>\n",
              "      <td>0</td>\n",
              "      <td>0</td>\n",
              "      <td>0</td>\n",
              "      <td>...</td>\n",
              "      <td>1</td>\n",
              "      <td>0</td>\n",
              "      <td>0</td>\n",
              "      <td>3</td>\n",
              "      <td>0</td>\n",
              "      <td>1</td>\n",
              "      <td>0</td>\n",
              "      <td>0</td>\n",
              "      <td>443.4228</td>\n",
              "      <td>1</td>\n",
              "    </tr>\n",
              "    <tr>\n",
              "      <th>2</th>\n",
              "      <td>17.500</td>\n",
              "      <td>0.016760</td>\n",
              "      <td>0</td>\n",
              "      <td>0</td>\n",
              "      <td>1</td>\n",
              "      <td>0</td>\n",
              "      <td>0</td>\n",
              "      <td>0</td>\n",
              "      <td>0</td>\n",
              "      <td>0</td>\n",
              "      <td>...</td>\n",
              "      <td>1</td>\n",
              "      <td>0</td>\n",
              "      <td>0</td>\n",
              "      <td>1</td>\n",
              "      <td>1</td>\n",
              "      <td>0</td>\n",
              "      <td>0</td>\n",
              "      <td>0</td>\n",
              "      <td>2097.2700</td>\n",
              "      <td>0</td>\n",
              "    </tr>\n",
              "    <tr>\n",
              "      <th>4</th>\n",
              "      <td>8.930</td>\n",
              "      <td>0.000000</td>\n",
              "      <td>0</td>\n",
              "      <td>0</td>\n",
              "      <td>0</td>\n",
              "      <td>1</td>\n",
              "      <td>0</td>\n",
              "      <td>0</td>\n",
              "      <td>0</td>\n",
              "      <td>0</td>\n",
              "      <td>...</td>\n",
              "      <td>0</td>\n",
              "      <td>1</td>\n",
              "      <td>0</td>\n",
              "      <td>3</td>\n",
              "      <td>1</td>\n",
              "      <td>0</td>\n",
              "      <td>0</td>\n",
              "      <td>0</td>\n",
              "      <td>994.7052</td>\n",
              "      <td>0</td>\n",
              "    </tr>\n",
              "    <tr>\n",
              "      <th>5</th>\n",
              "      <td>10.395</td>\n",
              "      <td>0.000000</td>\n",
              "      <td>0</td>\n",
              "      <td>0</td>\n",
              "      <td>0</td>\n",
              "      <td>0</td>\n",
              "      <td>1</td>\n",
              "      <td>0</td>\n",
              "      <td>0</td>\n",
              "      <td>0</td>\n",
              "      <td>...</td>\n",
              "      <td>1</td>\n",
              "      <td>0</td>\n",
              "      <td>0</td>\n",
              "      <td>3</td>\n",
              "      <td>0</td>\n",
              "      <td>1</td>\n",
              "      <td>0</td>\n",
              "      <td>0</td>\n",
              "      <td>556.6088</td>\n",
              "      <td>1</td>\n",
              "    </tr>\n",
              "  </tbody>\n",
              "</table>\n",
              "<p>5 rows × 37 columns</p>\n",
              "</div>\n",
              "      <button class=\"colab-df-convert\" onclick=\"convertToInteractive('df-6195d7fe-155b-4344-b5f9-ccb7bcdf2a75')\"\n",
              "              title=\"Convert this dataframe to an interactive table.\"\n",
              "              style=\"display:none;\">\n",
              "        \n",
              "  <svg xmlns=\"http://www.w3.org/2000/svg\" height=\"24px\"viewBox=\"0 0 24 24\"\n",
              "       width=\"24px\">\n",
              "    <path d=\"M0 0h24v24H0V0z\" fill=\"none\"/>\n",
              "    <path d=\"M18.56 5.44l.94 2.06.94-2.06 2.06-.94-2.06-.94-.94-2.06-.94 2.06-2.06.94zm-11 1L8.5 8.5l.94-2.06 2.06-.94-2.06-.94L8.5 2.5l-.94 2.06-2.06.94zm10 10l.94 2.06.94-2.06 2.06-.94-2.06-.94-.94-2.06-.94 2.06-2.06.94z\"/><path d=\"M17.41 7.96l-1.37-1.37c-.4-.4-.92-.59-1.43-.59-.52 0-1.04.2-1.43.59L10.3 9.45l-7.72 7.72c-.78.78-.78 2.05 0 2.83L4 21.41c.39.39.9.59 1.41.59.51 0 1.02-.2 1.41-.59l7.78-7.78 2.81-2.81c.8-.78.8-2.07 0-2.86zM5.41 20L4 18.59l7.72-7.72 1.47 1.35L5.41 20z\"/>\n",
              "  </svg>\n",
              "      </button>\n",
              "      \n",
              "  <style>\n",
              "    .colab-df-container {\n",
              "      display:flex;\n",
              "      flex-wrap:wrap;\n",
              "      gap: 12px;\n",
              "    }\n",
              "\n",
              "    .colab-df-convert {\n",
              "      background-color: #E8F0FE;\n",
              "      border: none;\n",
              "      border-radius: 50%;\n",
              "      cursor: pointer;\n",
              "      display: none;\n",
              "      fill: #1967D2;\n",
              "      height: 32px;\n",
              "      padding: 0 0 0 0;\n",
              "      width: 32px;\n",
              "    }\n",
              "\n",
              "    .colab-df-convert:hover {\n",
              "      background-color: #E2EBFA;\n",
              "      box-shadow: 0px 1px 2px rgba(60, 64, 67, 0.3), 0px 1px 3px 1px rgba(60, 64, 67, 0.15);\n",
              "      fill: #174EA6;\n",
              "    }\n",
              "\n",
              "    [theme=dark] .colab-df-convert {\n",
              "      background-color: #3B4455;\n",
              "      fill: #D2E3FC;\n",
              "    }\n",
              "\n",
              "    [theme=dark] .colab-df-convert:hover {\n",
              "      background-color: #434B5C;\n",
              "      box-shadow: 0px 1px 3px 1px rgba(0, 0, 0, 0.15);\n",
              "      filter: drop-shadow(0px 1px 2px rgba(0, 0, 0, 0.3));\n",
              "      fill: #FFFFFF;\n",
              "    }\n",
              "  </style>\n",
              "\n",
              "      <script>\n",
              "        const buttonEl =\n",
              "          document.querySelector('#df-6195d7fe-155b-4344-b5f9-ccb7bcdf2a75 button.colab-df-convert');\n",
              "        buttonEl.style.display =\n",
              "          google.colab.kernel.accessAllowed ? 'block' : 'none';\n",
              "\n",
              "        async function convertToInteractive(key) {\n",
              "          const element = document.querySelector('#df-6195d7fe-155b-4344-b5f9-ccb7bcdf2a75');\n",
              "          const dataTable =\n",
              "            await google.colab.kernel.invokeFunction('convertToInteractive',\n",
              "                                                     [key], {});\n",
              "          if (!dataTable) return;\n",
              "\n",
              "          const docLinkHtml = 'Like what you see? Visit the ' +\n",
              "            '<a target=\"_blank\" href=https://colab.research.google.com/notebooks/data_table.ipynb>data table notebook</a>'\n",
              "            + ' to learn more about interactive tables.';\n",
              "          element.innerHTML = '';\n",
              "          dataTable['output_type'] = 'display_data';\n",
              "          await google.colab.output.renderOutput(dataTable, element);\n",
              "          const docLink = document.createElement('div');\n",
              "          docLink.innerHTML = docLinkHtml;\n",
              "          element.appendChild(docLink);\n",
              "        }\n",
              "      </script>\n",
              "    </div>\n",
              "  </div>\n",
              "  "
            ]
          },
          "metadata": {},
          "execution_count": 54
        }
      ]
    },
    {
      "cell_type": "code",
      "source": [
        "#Examinaremos las características de los features que nos brindan información cuantitativa sobre cada punto de datos. \n",
        "#La columna \"Item_Outlet_Sales\", será la variable que buscamos predecir.\n",
        " \n",
        "# matriz de características (debe ser una matriz NumPy)\n",
        "# valores convierte el marco de datos en Num\n",
        "X_ohe=df_ohe.drop(\"Item_Outlet_Sales\", axis=1)\n",
        "X_ohe.shape"
      ],
      "metadata": {
        "colab": {
          "base_uri": "https://localhost:8080/"
        },
        "id": "4Ei7dIFFCkCt",
        "outputId": "582b49a7-ebfe-4aca-ead1-bd9fe736c7ed"
      },
      "execution_count": 55,
      "outputs": [
        {
          "output_type": "execute_result",
          "data": {
            "text/plain": [
              "(6109, 36)"
            ]
          },
          "metadata": {},
          "execution_count": 55
        }
      ]
    },
    {
      "cell_type": "code",
      "source": [
        "y=df_ohe[\"Item_Outlet_Sales\"].values\n",
        "y.shape"
      ],
      "metadata": {
        "colab": {
          "base_uri": "https://localhost:8080/"
        },
        "id": "RWQUv1KeW3Af",
        "outputId": "0c048a53-1b11-4084-bfd4-21c444961323"
      },
      "execution_count": 56,
      "outputs": [
        {
          "output_type": "execute_result",
          "data": {
            "text/plain": [
              "(6109,)"
            ]
          },
          "metadata": {},
          "execution_count": 56
        }
      ]
    },
    {
      "cell_type": "code",
      "source": [
        "X_ohe_train, X_ohe_test, y_ohe_train, y_ohe_test = train_test_split(X_ohe, y, test_size=0.3, random_state=42)"
      ],
      "metadata": {
        "id": "A9dVMh3yWbkQ"
      },
      "execution_count": 57,
      "outputs": []
    },
    {
      "cell_type": "code",
      "source": [
        "# Hacer una instancia de regresión lineal\n",
        "reg = LinearRegression(fit_intercept=True)"
      ],
      "metadata": {
        "id": "draOdw5v9zjp"
      },
      "execution_count": 58,
      "outputs": []
    },
    {
      "cell_type": "code",
      "source": [
        "reg.fit(X_ohe_train,y_ohe_train)"
      ],
      "metadata": {
        "colab": {
          "base_uri": "https://localhost:8080/"
        },
        "id": "_kwtTY3m-G-D",
        "outputId": "75c6b004-efb3-4484-b473-1a6c97241f22"
      },
      "execution_count": 59,
      "outputs": [
        {
          "output_type": "execute_result",
          "data": {
            "text/plain": [
              "LinearRegression()"
            ]
          },
          "metadata": {},
          "execution_count": 59
        }
      ]
    },
    {
      "cell_type": "code",
      "source": [
        "reg.predict(X_ohe_train[0:10])\n"
      ],
      "metadata": {
        "id": "FcFfrooAVD0Z",
        "colab": {
          "base_uri": "https://localhost:8080/"
        },
        "outputId": "39b52f47-6101-45de-f884-2b508c7b9b75"
      },
      "execution_count": 60,
      "outputs": [
        {
          "output_type": "execute_result",
          "data": {
            "text/plain": [
              "array([1654.58529776, 1525.46415974,  941.56328105, 3588.53389979,\n",
              "       4121.12206949, 2028.25152131, 3852.26973662,  886.03112643,\n",
              "       3240.44661843,  825.42742173])"
            ]
          },
          "metadata": {},
          "execution_count": 60
        }
      ]
    },
    {
      "cell_type": "code",
      "source": [
        "y"
      ],
      "metadata": {
        "id": "KiNO-L3U2Ra9",
        "colab": {
          "base_uri": "https://localhost:8080/"
        },
        "outputId": "19e8bfb6-8c36-417e-be02-7ae1cfdc8ef4"
      },
      "execution_count": 61,
      "outputs": [
        {
          "output_type": "execute_result",
          "data": {
            "text/plain": [
              "array([3735.138 ,  443.4228, 2097.27  , ..., 1193.1136, 1845.5976,\n",
              "        765.67  ])"
            ]
          },
          "metadata": {},
          "execution_count": 61
        }
      ]
    },
    {
      "cell_type": "code",
      "source": [
        "reg.predict(X_ohe_test[0:10])"
      ],
      "metadata": {
        "id": "PHT-tpcbV4ya",
        "colab": {
          "base_uri": "https://localhost:8080/"
        },
        "outputId": "110ed7ce-a591-4c69-b812-d3e886c72eea"
      },
      "execution_count": 62,
      "outputs": [
        {
          "output_type": "execute_result",
          "data": {
            "text/plain": [
              "array([2750.40151174, 3017.66390744, 1802.66977703, 4021.05570126,\n",
              "        434.15673459, 4438.32292727, 2915.52048248, 2646.77606336,\n",
              "        898.11065711, 2794.49374777])"
            ]
          },
          "metadata": {},
          "execution_count": 62
        }
      ]
    },
    {
      "cell_type": "code",
      "source": [
        "score = reg.score(X_ohe_test, y_ohe_test)\n"
      ],
      "metadata": {
        "id": "ocSlW2oaa98B"
      },
      "execution_count": 63,
      "outputs": []
    },
    {
      "cell_type": "code",
      "source": [
        "score"
      ],
      "metadata": {
        "id": "jvU3s796bJsk",
        "colab": {
          "base_uri": "https://localhost:8080/"
        },
        "outputId": "238a7049-7229-41fc-d24e-1abef5d5c5a0"
      },
      "execution_count": 64,
      "outputs": [
        {
          "output_type": "execute_result",
          "data": {
            "text/plain": [
              "0.5339649692704184"
            ]
          },
          "metadata": {},
          "execution_count": 64
        }
      ]
    },
    {
      "cell_type": "code",
      "source": [
        "#nuestra regresion lineal funciona mas o menos mal, de todos modos, revisaremos cuales son los features mas relevantes:\n",
        "reg.coef_"
      ],
      "metadata": {
        "id": "o3F8cXrzbKAg",
        "colab": {
          "base_uri": "https://localhost:8080/"
        },
        "outputId": "1499e812-68da-4f51-a3bb-86cffdf6e081"
      },
      "execution_count": 65,
      "outputs": [
        {
          "output_type": "execute_result",
          "data": {
            "text/plain": [
              "array([  -2.70825486,  -58.38481189,  -77.74953597,    5.09040585,\n",
              "         -5.88456997,  -65.46713783,   20.56887325,  -15.74852038,\n",
              "        -20.51231549,  338.46963968,  -34.13689474,  -82.55385559,\n",
              "        -39.05275179,  -51.05442076,  -49.50115148,   47.05115914,\n",
              "       -112.48700049,  142.96807656,   16.43795894,   53.70935093,\n",
              "       -315.6538826 , -175.55957817,  554.84479878,  323.60673901,\n",
              "        173.20348474, -614.15091268,   -0.73434771,  292.9002671 ,\n",
              "       -175.55957817, -117.34068894,  300.46616076,  374.95999651,\n",
              "       -315.6538826 ,  554.84479878, -614.15091268,   12.39082671])"
            ]
          },
          "metadata": {},
          "execution_count": 65
        }
      ]
    },
    {
      "cell_type": "code",
      "source": [
        "#se aprecia que los coeficientes 23 y 35 son los mas altamente influyentes, mientras que 24 y 18 los que influyen negativamente. \n",
        "reg.coef_"
      ],
      "metadata": {
        "id": "tvQh2cCZ2W_W",
        "colab": {
          "base_uri": "https://localhost:8080/"
        },
        "outputId": "f87d190e-6618-4224-d798-ff1f7cf81150"
      },
      "execution_count": 66,
      "outputs": [
        {
          "output_type": "execute_result",
          "data": {
            "text/plain": [
              "array([  -2.70825486,  -58.38481189,  -77.74953597,    5.09040585,\n",
              "         -5.88456997,  -65.46713783,   20.56887325,  -15.74852038,\n",
              "        -20.51231549,  338.46963968,  -34.13689474,  -82.55385559,\n",
              "        -39.05275179,  -51.05442076,  -49.50115148,   47.05115914,\n",
              "       -112.48700049,  142.96807656,   16.43795894,   53.70935093,\n",
              "       -315.6538826 , -175.55957817,  554.84479878,  323.60673901,\n",
              "        173.20348474, -614.15091268,   -0.73434771,  292.9002671 ,\n",
              "       -175.55957817, -117.34068894,  300.46616076,  374.95999651,\n",
              "       -315.6538826 ,  554.84479878, -614.15091268,   12.39082671])"
            ]
          },
          "metadata": {},
          "execution_count": 66
        }
      ]
    },
    {
      "cell_type": "code",
      "source": [
        "reg.coef_[0]"
      ],
      "metadata": {
        "id": "7qAiC2UEx2Xt",
        "colab": {
          "base_uri": "https://localhost:8080/"
        },
        "outputId": "f0594fd8-da78-46f7-a0ab-834ddb0ec252"
      },
      "execution_count": 67,
      "outputs": [
        {
          "output_type": "execute_result",
          "data": {
            "text/plain": [
              "-2.708254859708854"
            ]
          },
          "metadata": {},
          "execution_count": 67
        }
      ]
    },
    {
      "cell_type": "code",
      "source": [
        "#df_ohe contiene las 37 columnas feaures y la target, por lo que podemos crear un diccionario para asociar cada una de las columnas con las respuestas\n",
        "df_cols={}\n",
        "for i in range(36):\n",
        "  \n",
        "  #print(df_ohe.columns[i])\n",
        "  df_cols[df_ohe.columns[i]]= reg.coef_[i]\n",
        "print(df_cols)"
      ],
      "metadata": {
        "id": "vlZpMpMNNdrr",
        "colab": {
          "base_uri": "https://localhost:8080/"
        },
        "outputId": "a1a4c873-9246-4e54-efef-aff19278b2f0"
      },
      "execution_count": 68,
      "outputs": [
        {
          "output_type": "stream",
          "name": "stdout",
          "text": [
            "{'Item_Weight': -2.708254859708854, 'Item_Visibility': -58.38481189091654, 'Item_Type_Dairy': -77.74953597280054, 'Item_Type_Soft Drinks': 5.090405846147308, 'Item_Type_Meat': -5.884569966512297, 'Item_Type_Household': -65.46713782758633, 'Item_Type_Baking Goods': 20.568873247279033, 'Item_Type_Snack Foods': -15.748520378141826, 'Item_Type_Fruits and Vegetables': -20.51231548715037, 'Item_Type_Breakfast': 338.4696396802984, 'Item_Type_Health and Hygiene': -34.136894737072744, 'Item_Type_Hard Drinks': -82.55385558994188, 'Item_Type_Frozen Foods': -39.052751790001516, 'Item_Type_Canned': -51.05442075624418, 'Item_Type_Starchy Foods': -49.501151484916626, 'Item_Type_Breads': 47.05115913725522, 'Item_Type_Others': -112.48700048561057, 'Item_Type_Seafood': 142.96807656499524, 'Item_MRP': 16.43795894343878, 'Outlet_Identifier_OUT049': 53.70935092997883, 'Outlet_Identifier_OUT018': -315.6538826033516, 'Outlet_Identifier_OUT013': -175.55957816535377, 'Outlet_Identifier_OUT027': 554.8447987779044, 'Outlet_Identifier_OUT046': 323.60673900687584, 'Outlet_Identifier_OUT035': 173.2034847370362, 'Outlet_Identifier_OUT019': -614.150912683088, 'Outlet_Establishment_Year': -0.7343477051877882, 'Outlet_Size_Medium': 292.90026710452975, 'Outlet_Size_High': -175.55957816535346, 'Outlet_Size_Small': -117.34068893917322, 'Outlet_Location_Type': 300.46616075543614, 'Outlet_Type_Supermarket Type1': 374.9599965085352, 'Outlet_Type_Supermarket Type2': -315.65388260335106, 'Outlet_Type_Supermarket Type3': 554.8447987779043, 'Outlet_Type_Grocery Store': -614.1509126830877, 'Item_Outlet_Sales': 12.390826708876752}\n"
          ]
        }
      ]
    },
    {
      "cell_type": "code",
      "source": [
        "#probemos ahora con KNN\n",
        "from sklearn.preprocessing import StandardScaler\n",
        "from sklearn.neighbors import KNeighborsClassifier"
      ],
      "metadata": {
        "id": "rhJHraLobSlo"
      },
      "execution_count": 69,
      "outputs": []
    },
    {
      "cell_type": "code",
      "source": [
        "X_ohe.shape"
      ],
      "metadata": {
        "id": "s8heVjAqbkMT",
        "colab": {
          "base_uri": "https://localhost:8080/"
        },
        "outputId": "d2a298d6-6cb7-447d-d1c4-86754751f1d9"
      },
      "execution_count": 70,
      "outputs": [
        {
          "output_type": "execute_result",
          "data": {
            "text/plain": [
              "(6109, 36)"
            ]
          },
          "metadata": {},
          "execution_count": 70
        }
      ]
    },
    {
      "cell_type": "code",
      "source": [
        "y.shape"
      ],
      "metadata": {
        "id": "PzFiMiPwbuYB",
        "colab": {
          "base_uri": "https://localhost:8080/"
        },
        "outputId": "ea8a52ea-d7c9-4dde-ec7a-e4e96bf38aa0"
      },
      "execution_count": 71,
      "outputs": [
        {
          "output_type": "execute_result",
          "data": {
            "text/plain": [
              "(6109,)"
            ]
          },
          "metadata": {},
          "execution_count": 71
        }
      ]
    },
    {
      "cell_type": "code",
      "source": [
        "scaler = StandardScaler()\n",
        "# Ajusta en X_ohe (asumiendo que tu matriz de características es una matriz NumPy)\n",
        "scaler.fit(X_ohe)\n",
        "# Transform X\n",
        "X_ohe = scaler.transform(X_ohe);\n",
        "scaler3= StandardScaler()\n",
        "scaler3.fit(y.reshape(-1, 1))\n",
        "y= scaler3.transform(y.reshape(-1, 1));\n",
        "y"
      ],
      "metadata": {
        "id": "jopo2gyibwbL",
        "colab": {
          "base_uri": "https://localhost:8080/"
        },
        "outputId": "ea8e417a-d356-4112-9503-291a41336809"
      },
      "execution_count": 72,
      "outputs": [
        {
          "output_type": "execute_result",
          "data": {
            "text/plain": [
              "array([[ 0.81108252],\n",
              "       [-1.0790832 ],\n",
              "       [-0.12941256],\n",
              "       ...,\n",
              "       [-0.64859643],\n",
              "       [-0.27392765],\n",
              "       [-0.8940427 ]])"
            ]
          },
          "metadata": {},
          "execution_count": 72
        }
      ]
    },
    {
      "cell_type": "code",
      "source": [
        "from sklearn import neighbors\n",
        "from sklearn.metrics import mean_squared_error "
      ],
      "metadata": {
        "id": "d-T9DUJWb0mF"
      },
      "execution_count": 73,
      "outputs": []
    },
    {
      "cell_type": "code",
      "source": [
        "X_ohe[0]\n"
      ],
      "metadata": {
        "id": "veJwtgiZeZHz",
        "colab": {
          "base_uri": "https://localhost:8080/"
        },
        "outputId": "a6417760-bec0-4d0a-f04a-77debd2076e4"
      },
      "execution_count": 74,
      "outputs": [
        {
          "output_type": "execute_result",
          "data": {
            "text/plain": [
              "array([-0.77421011, -0.96725846,  3.36770161, -0.23199341, -0.23081565,\n",
              "       -0.34476727, -0.28603033, -0.4066877 , -0.41105094, -0.1144603 ,\n",
              "       -0.25281419, -0.15756919, -0.33427226, -0.28903332, -0.13224349,\n",
              "       -0.17373974, -0.14334554, -0.0871034 ,  1.74380549,  2.35983415,\n",
              "       -0.42322098, -0.42429594, -0.42429594, -0.42375859, -0.42375859,\n",
              "       -0.30726309,  0.36180879,  1.09069049, -0.42429594, -0.80082574,\n",
              "       -1.16109681,  0.80082574, -0.42322098, -0.42429594, -0.30726309,\n",
              "       -0.73825314])"
            ]
          },
          "metadata": {},
          "execution_count": 74
        }
      ]
    },
    {
      "cell_type": "code",
      "source": [
        "rmse_val=[]\n",
        "for K in range(20):\n",
        "    K = K+1\n",
        "    model = neighbors.KNeighborsRegressor(n_neighbors = K)\n",
        "\n",
        "    model.fit(X_ohe_train, y_ohe_train)  #fit the model\n",
        "    pred=model.predict(X_ohe_test) #make prediction on test set\n",
        "    error = mean_squared_error(y_ohe_test,pred)**(1/2) #calculate rmse\n",
        "    rmse_val.append(error) #store rmse values\n",
        "    \n",
        "    print('Score for k= ' , K , 'is:', model.score(X_ohe_test, y_ohe_test))\n",
        "    print('RMSE value for k= ' , K , 'is:', error)"
      ],
      "metadata": {
        "id": "Wnkry0E-VvJv",
        "colab": {
          "base_uri": "https://localhost:8080/"
        },
        "outputId": "5201ffe2-191c-4ec3-f75b-ff8757d8e548"
      },
      "execution_count": 75,
      "outputs": [
        {
          "output_type": "stream",
          "name": "stdout",
          "text": [
            "Score for k=  1 is: 0.17718151839625074\n",
            "RMSE value for k=  1 is: 1572.5307106337063\n",
            "Score for k=  2 is: 0.3475155391019491\n",
            "RMSE value for k=  2 is: 1400.3358372881803\n",
            "Score for k=  3 is: 0.38714249595927264\n",
            "RMSE value for k=  3 is: 1357.1469368373741\n",
            "Score for k=  4 is: 0.4217056602585\n",
            "RMSE value for k=  4 is: 1318.3222668434807\n",
            "Score for k=  5 is: 0.4230434330301326\n",
            "RMSE value for k=  5 is: 1316.7965414131875\n",
            "Score for k=  6 is: 0.4348335654054015\n",
            "RMSE value for k=  6 is: 1303.2726976020929\n",
            "Score for k=  7 is: 0.43830229530322096\n",
            "RMSE value for k=  7 is: 1299.2670998216042\n",
            "Score for k=  8 is: 0.433668900667055\n",
            "RMSE value for k=  8 is: 1304.6148638012066\n",
            "Score for k=  9 is: 0.42642929185347256\n",
            "RMSE value for k=  9 is: 1312.9270581235987\n",
            "Score for k=  10 is: 0.4240309752829817\n",
            "RMSE value for k=  10 is: 1315.669117595456\n",
            "Score for k=  11 is: 0.41572754608849494\n",
            "RMSE value for k=  11 is: 1325.11882132032\n",
            "Score for k=  12 is: 0.4152947406991113\n",
            "RMSE value for k=  12 is: 1325.609527662101\n",
            "Score for k=  13 is: 0.40931941613204803\n",
            "RMSE value for k=  13 is: 1332.3657633972928\n",
            "Score for k=  14 is: 0.40401801049036323\n",
            "RMSE value for k=  14 is: 1338.3314524866628\n",
            "Score for k=  15 is: 0.4031939545465738\n",
            "RMSE value for k=  15 is: 1339.2563789472413\n",
            "Score for k=  16 is: 0.39809396514047446\n",
            "RMSE value for k=  16 is: 1344.966494994053\n",
            "Score for k=  17 is: 0.3911221824262383\n",
            "RMSE value for k=  17 is: 1352.7333366620476\n",
            "Score for k=  18 is: 0.38804944120379825\n",
            "RMSE value for k=  18 is: 1356.1423691646557\n",
            "Score for k=  19 is: 0.38564437111636607\n",
            "RMSE value for k=  19 is: 1358.8046913108988\n",
            "Score for k=  20 is: 0.38625717606086885\n",
            "RMSE value for k=  20 is: 1358.1268347543419\n"
          ]
        }
      ]
    },
    {
      "cell_type": "code",
      "source": [
        "#como podemos apreciar en lo anterior, tenemos otro modelo que predice aprox con un 50% de exactitud los valores y en este caso el RMSE para el mejor valor de k es de 1174.3425617442492\n",
        "\n",
        "#¿Cómo podemos mejorar los resultados de nuestros modelos?\n",
        "#una de las maneras fue iterando los resultados y cambiando los valores de k, otra manera es eliminar columnas que no son relevantes... \n",
        "#elegir cuales son estas columnas no es facil, pero podemos ver cuales no son relevantes viendo los pesos que el modelo les da a las variables\n",
        "\n"
      ],
      "metadata": {
        "id": "nZKattLDVzJG"
      },
      "execution_count": 76,
      "outputs": []
    },
    {
      "cell_type": "code",
      "source": [
        "#anteriormente habiamos generado una lista con los features que afectaban poco los resultados de nuestro modelo de regresion lineal, por lo que \n",
        "#ocuparemos dichos valores para elegir qué features usaremos para filtrar nuestro modelo, para ello creo que una buena solucion es descartar los features\n",
        "#cuyo valor absoluto es un outlayer, para ello primero graficaremos usando histograma, los valores del diccionario de resultados de la regresion lineal"
      ],
      "metadata": {
        "id": "uomjjzvsLwab"
      },
      "execution_count": 77,
      "outputs": []
    },
    {
      "cell_type": "code",
      "source": [
        "good_cols={}\n",
        "for key, value in df_cols.items():\n",
        "  if value > abs(35):\n",
        "    print(\"el valor a guardar sera: \", value)\n",
        "    good_cols[key]=value\n",
        "good_cols"
      ],
      "metadata": {
        "id": "hrftRAuUMIOC",
        "colab": {
          "base_uri": "https://localhost:8080/"
        },
        "outputId": "0d3c294b-68ea-4106-b603-c17a42e67fd6"
      },
      "execution_count": 78,
      "outputs": [
        {
          "output_type": "stream",
          "name": "stdout",
          "text": [
            "el valor a guardar sera:  338.4696396802984\n",
            "el valor a guardar sera:  47.05115913725522\n",
            "el valor a guardar sera:  142.96807656499524\n",
            "el valor a guardar sera:  53.70935092997883\n",
            "el valor a guardar sera:  554.8447987779044\n",
            "el valor a guardar sera:  323.60673900687584\n",
            "el valor a guardar sera:  173.2034847370362\n",
            "el valor a guardar sera:  292.90026710452975\n",
            "el valor a guardar sera:  300.46616075543614\n",
            "el valor a guardar sera:  374.9599965085352\n",
            "el valor a guardar sera:  554.8447987779043\n"
          ]
        },
        {
          "output_type": "execute_result",
          "data": {
            "text/plain": [
              "{'Item_Type_Breads': 47.05115913725522,\n",
              " 'Item_Type_Breakfast': 338.4696396802984,\n",
              " 'Item_Type_Seafood': 142.96807656499524,\n",
              " 'Outlet_Identifier_OUT027': 554.8447987779044,\n",
              " 'Outlet_Identifier_OUT035': 173.2034847370362,\n",
              " 'Outlet_Identifier_OUT046': 323.60673900687584,\n",
              " 'Outlet_Identifier_OUT049': 53.70935092997883,\n",
              " 'Outlet_Location_Type': 300.46616075543614,\n",
              " 'Outlet_Size_Medium': 292.90026710452975,\n",
              " 'Outlet_Type_Supermarket Type1': 374.9599965085352,\n",
              " 'Outlet_Type_Supermarket Type3': 554.8447987779043}"
            ]
          },
          "metadata": {},
          "execution_count": 78
        }
      ]
    },
    {
      "cell_type": "code",
      "source": [
        "gc=[*good_cols] #acceder a los indices del dict y transformarlos a lista\n",
        "gc"
      ],
      "metadata": {
        "id": "MyA6lyplMFub",
        "colab": {
          "base_uri": "https://localhost:8080/"
        },
        "outputId": "64b9fa1a-4782-4b47-906a-606a6531aeb1"
      },
      "execution_count": 79,
      "outputs": [
        {
          "output_type": "execute_result",
          "data": {
            "text/plain": [
              "['Item_Type_Breakfast',\n",
              " 'Item_Type_Breads',\n",
              " 'Item_Type_Seafood',\n",
              " 'Outlet_Identifier_OUT049',\n",
              " 'Outlet_Identifier_OUT027',\n",
              " 'Outlet_Identifier_OUT046',\n",
              " 'Outlet_Identifier_OUT035',\n",
              " 'Outlet_Size_Medium',\n",
              " 'Outlet_Location_Type',\n",
              " 'Outlet_Type_Supermarket Type1',\n",
              " 'Outlet_Type_Supermarket Type3']"
            ]
          },
          "metadata": {},
          "execution_count": 79
        }
      ]
    },
    {
      "cell_type": "code",
      "source": [
        "new_df=df_ohe.loc[:,gc]\n",
        "new_df_arr=new_df.values\n",
        "scaler2 = StandardScaler()\n",
        "# Ajusta en X_ohe (asumiendo que tu matriz de características es una matriz NumPy)\n"
      ],
      "metadata": {
        "id": "LDwIuBIUq0RW"
      },
      "execution_count": 80,
      "outputs": []
    },
    {
      "cell_type": "code",
      "source": [
        "scaler2.fit(new_df_arr)\n",
        "# Transform X\n",
        "new_df_arr = scaler2.transform(new_df_arr);\n",
        "new_df_arr"
      ],
      "metadata": {
        "id": "9iFifaT4tdac",
        "colab": {
          "base_uri": "https://localhost:8080/"
        },
        "outputId": "7675169a-63fe-4933-eb39-39751c50c808"
      },
      "execution_count": 81,
      "outputs": [
        {
          "output_type": "execute_result",
          "data": {
            "text/plain": [
              "array([[-0.1144603 , -0.17373974, -0.0871034 , ..., -1.16109681,\n",
              "         0.80082574, -0.42429594],\n",
              "       [-0.1144603 , -0.17373974, -0.0871034 , ...,  1.01671725,\n",
              "        -1.24871111, -0.42429594],\n",
              "       [-0.1144603 , -0.17373974, -0.0871034 , ..., -1.16109681,\n",
              "         0.80082574, -0.42429594],\n",
              "       ...,\n",
              "       [-0.1144603 , -0.17373974, -0.0871034 , ..., -0.07218978,\n",
              "         0.80082574, -0.42429594],\n",
              "       [-0.1144603 , -0.17373974, -0.0871034 , ...,  1.01671725,\n",
              "        -1.24871111, -0.42429594],\n",
              "       [-0.1144603 , -0.17373974, -0.0871034 , ..., -1.16109681,\n",
              "         0.80082574, -0.42429594]])"
            ]
          },
          "metadata": {},
          "execution_count": 81
        }
      ]
    },
    {
      "cell_type": "code",
      "source": [
        "X_new_train, X_new_test, y_new_train, y_new_test = train_test_split(new_df_arr, y, test_size=0.3, random_state=42)\n"
      ],
      "metadata": {
        "id": "87NCW3w-slQ9"
      },
      "execution_count": 82,
      "outputs": []
    },
    {
      "cell_type": "code",
      "source": [
        "#usaremos la lista de variables que para la regresion eran relevantes para generar un modelo en KNN y evaluar si mejora:\n",
        "\n",
        "rmse_val=[]\n",
        "for K in range(20):\n",
        "    K = K+1 #solo para q no parta con neighbors=0\n",
        "    model2 = neighbors.KNeighborsRegressor(n_neighbors = K)\n",
        "\n",
        "    model2.fit(X_new_train, y_new_train)  #fit the model\n",
        "    pred=model2.predict(X_new_test) #make prediction on test set\n",
        "    error = mean_squared_error(y_new_test,pred)**(1/2) #calculate rmse\n",
        "    rmse_val.append(error) #store rmse values\n",
        "    \n",
        "    print('Score for k= ' , K , 'is:', model2.score(X_new_test, y_new_test))\n",
        "    print('RMSE value for k= ' , K , 'is:', error)"
      ],
      "metadata": {
        "id": "8rkpyoRsuFf_",
        "colab": {
          "base_uri": "https://localhost:8080/"
        },
        "outputId": "2a029c5d-877a-4f09-fde4-a292e2ca50bb"
      },
      "execution_count": 83,
      "outputs": [
        {
          "output_type": "stream",
          "name": "stdout",
          "text": [
            "Score for k=  1 is: -0.3477514951965903\n",
            "RMSE value for k=  1 is: 1.1556588706995508\n",
            "Score for k=  2 is: -0.1160666078583894\n",
            "RMSE value for k=  2 is: 1.0516465545433034\n",
            "Score for k=  3 is: 0.03815147231498994\n",
            "RMSE value for k=  3 is: 0.9762883082470751\n",
            "Score for k=  4 is: 0.03191195424890414\n",
            "RMSE value for k=  4 is: 0.979449783917837\n",
            "Score for k=  5 is: -0.01941385124648165\n",
            "RMSE value for k=  5 is: 1.0050785654311742\n",
            "Score for k=  6 is: 0.06231752599190521\n",
            "RMSE value for k=  6 is: 0.9639458667302024\n",
            "Score for k=  7 is: 0.06897231836076523\n",
            "RMSE value for k=  7 is: 0.960519183385201\n",
            "Score for k=  8 is: 0.09142302837454286\n",
            "RMSE value for k=  8 is: 0.9488675807584936\n",
            "Score for k=  9 is: 0.08847760839852159\n",
            "RMSE value for k=  9 is: 0.9504043532198695\n",
            "Score for k=  10 is: 0.1304090248276799\n",
            "RMSE value for k=  10 is: 0.9282869775912397\n",
            "Score for k=  11 is: 0.12840647976729946\n",
            "RMSE value for k=  11 is: 0.929355219769553\n",
            "Score for k=  12 is: 0.12168578164732025\n",
            "RMSE value for k=  12 is: 0.9329313832291867\n",
            "Score for k=  13 is: 0.10572068253487021\n",
            "RMSE value for k=  13 is: 0.9413721362043301\n",
            "Score for k=  14 is: 0.12126346615854167\n",
            "RMSE value for k=  14 is: 0.9331556446700382\n",
            "Score for k=  15 is: 0.12758941115431244\n",
            "RMSE value for k=  15 is: 0.9297907261639566\n",
            "Score for k=  16 is: 0.13363596893036034\n",
            "RMSE value for k=  16 is: 0.9265629978973797\n",
            "Score for k=  17 is: 0.14122305519184453\n",
            "RMSE value for k=  17 is: 0.9224969403149181\n",
            "Score for k=  18 is: 0.13615821966773023\n",
            "RMSE value for k=  18 is: 0.9252132606337105\n",
            "Score for k=  19 is: 0.135580216636507\n",
            "RMSE value for k=  19 is: 0.9255227424483152\n",
            "Score for k=  20 is: 0.14173929022987886\n",
            "RMSE value for k=  20 is: 0.9222196291716847\n"
          ]
        }
      ]
    },
    {
      "cell_type": "code",
      "source": [
        "#el resultado anterior es muy malo, por lo que eliminando features sugeridos por la regresion lineal para aplicarlo al KNN en este caso no dio resultado\n",
        "#en el caso de una nueva regresion lineal:\n",
        "\n"
      ],
      "metadata": {
        "id": "ZKQg7OA6vY5b"
      },
      "execution_count": 84,
      "outputs": []
    },
    {
      "cell_type": "code",
      "source": [
        "# Hacer una instancia de regresión lineal\n",
        "reg2 = LinearRegression(fit_intercept=True)"
      ],
      "metadata": {
        "id": "4TO-cL4ZzqYH"
      },
      "execution_count": 85,
      "outputs": []
    },
    {
      "cell_type": "code",
      "source": [
        "reg2.fit(X_new_train, y_new_train)\n",
        "reg2_pred = model2.predict(X_new_test)\n",
        "reg2_pred"
      ],
      "metadata": {
        "id": "9iVQOLJ2zz7R",
        "colab": {
          "base_uri": "https://localhost:8080/"
        },
        "outputId": "bb1edc0e-6ae2-49d6-b198-2f1f4724f220"
      },
      "execution_count": 86,
      "outputs": [
        {
          "output_type": "execute_result",
          "data": {
            "text/plain": [
              "array([[-0.23493152],\n",
              "       [ 0.07090143],\n",
              "       [ 0.07090143],\n",
              "       ...,\n",
              "       [-0.36751838],\n",
              "       [ 0.46350077],\n",
              "       [-1.13125009]])"
            ]
          },
          "metadata": {},
          "execution_count": 86
        }
      ]
    },
    {
      "cell_type": "code",
      "source": [
        " error2 = mean_squared_error(y_new_test,reg2_pred)**(1/2)\n",
        " print(\"el error es: \",error2)\n",
        " print(\"el score es: \", reg2.score(X_new_test, y_new_test))"
      ],
      "metadata": {
        "id": "OqNcwWQa0Hn7",
        "colab": {
          "base_uri": "https://localhost:8080/"
        },
        "outputId": "626ccc87-02fc-4a4a-87cc-75b7ffc4994f"
      },
      "execution_count": 87,
      "outputs": [
        {
          "output_type": "stream",
          "name": "stdout",
          "text": [
            "el error es:  0.9222196291716847\n",
            "el score es:  0.18624686038875649\n"
          ]
        }
      ]
    },
    {
      "cell_type": "code",
      "source": [
        "#por lo anterior, al parecer no nos está resultando eliminar features para mejorar los resultados!\n",
        "#probaremos con otros tipos de modelos que puedan ser aplicables a este problema"
      ],
      "metadata": {
        "id": "ZTTg7jVU07Ov"
      },
      "execution_count": 88,
      "outputs": []
    },
    {
      "cell_type": "code",
      "source": [
        "#elegimos random forest porque es poco probable que arboles de desicion entregue mejores resultados. En caso de que no resulte un modelo interesante, probaremos con otros\n",
        "from sklearn.ensemble import RandomForestRegressor\n",
        "import matplotlib.pyplot as plt\n",
        "import numpy as np\n",
        "\n"
      ],
      "metadata": {
        "id": "_ZRpmWAU1P6c"
      },
      "execution_count": 89,
      "outputs": []
    },
    {
      "cell_type": "code",
      "source": [
        "X_rf=df_ohe.drop(\"Item_Outlet_Sales\", axis=1)\n",
        "y_rf=df_ohe[\"Item_Outlet_Sales\"]\n",
        "X_rf.info()"
      ],
      "metadata": {
        "id": "rqi6Pw-L2A26",
        "colab": {
          "base_uri": "https://localhost:8080/"
        },
        "outputId": "0d378963-f763-46ee-f333-8f06d370e8c9"
      },
      "execution_count": 90,
      "outputs": [
        {
          "output_type": "stream",
          "name": "stdout",
          "text": [
            "<class 'pandas.core.frame.DataFrame'>\n",
            "Int64Index: 6109 entries, 0 to 8522\n",
            "Data columns (total 36 columns):\n",
            " #   Column                           Non-Null Count  Dtype  \n",
            "---  ------                           --------------  -----  \n",
            " 0   Item_Weight                      6109 non-null   float64\n",
            " 1   Item_Visibility                  6109 non-null   float64\n",
            " 2   Item_Type_Dairy                  6109 non-null   int64  \n",
            " 3   Item_Type_Soft Drinks            6109 non-null   int64  \n",
            " 4   Item_Type_Meat                   6109 non-null   int64  \n",
            " 5   Item_Type_Household              6109 non-null   int64  \n",
            " 6   Item_Type_Baking Goods           6109 non-null   int64  \n",
            " 7   Item_Type_Snack Foods            6109 non-null   int64  \n",
            " 8   Item_Type_Fruits and Vegetables  6109 non-null   int64  \n",
            " 9   Item_Type_Breakfast              6109 non-null   int64  \n",
            " 10  Item_Type_Health and Hygiene     6109 non-null   int64  \n",
            " 11  Item_Type_Hard Drinks            6109 non-null   int64  \n",
            " 12  Item_Type_Frozen Foods           6109 non-null   int64  \n",
            " 13  Item_Type_Canned                 6109 non-null   int64  \n",
            " 14  Item_Type_Starchy Foods          6109 non-null   int64  \n",
            " 15  Item_Type_Breads                 6109 non-null   int64  \n",
            " 16  Item_Type_Others                 6109 non-null   int64  \n",
            " 17  Item_Type_Seafood                6109 non-null   int64  \n",
            " 18  Item_MRP                         6109 non-null   float64\n",
            " 19  Outlet_Identifier_OUT049         6109 non-null   int64  \n",
            " 20  Outlet_Identifier_OUT018         6109 non-null   int64  \n",
            " 21  Outlet_Identifier_OUT013         6109 non-null   int64  \n",
            " 22  Outlet_Identifier_OUT027         6109 non-null   int64  \n",
            " 23  Outlet_Identifier_OUT046         6109 non-null   int64  \n",
            " 24  Outlet_Identifier_OUT035         6109 non-null   int64  \n",
            " 25  Outlet_Identifier_OUT019         6109 non-null   int64  \n",
            " 26  Outlet_Establishment_Year        6109 non-null   int64  \n",
            " 27  Outlet_Size_Medium               6109 non-null   int64  \n",
            " 28  Outlet_Size_High                 6109 non-null   int64  \n",
            " 29  Outlet_Size_Small                6109 non-null   int64  \n",
            " 30  Outlet_Location_Type             6109 non-null   int64  \n",
            " 31  Outlet_Type_Supermarket Type1    6109 non-null   int64  \n",
            " 32  Outlet_Type_Supermarket Type2    6109 non-null   int64  \n",
            " 33  Outlet_Type_Supermarket Type3    6109 non-null   int64  \n",
            " 34  Outlet_Type_Grocery Store        6109 non-null   int64  \n",
            " 35  Item_Fat_Content_n               6109 non-null   int64  \n",
            "dtypes: float64(3), int64(33)\n",
            "memory usage: 1.7 MB\n"
          ]
        }
      ]
    },
    {
      "cell_type": "code",
      "source": [
        "X_rf_train, X_rf_test, y_rf_train, y_rf_test = train_test_split(X_rf, y_rf, test_size=0.3, random_state=42)"
      ],
      "metadata": {
        "id": "ZDhG4fqY3y_I"
      },
      "execution_count": 91,
      "outputs": []
    },
    {
      "cell_type": "code",
      "source": [
        "rndf_clf = RandomForestRegressor(n_estimators=300)\n",
        "rndf_clf.fit(X_rf_train, y_rf_train)\n",
        "y_pred = rndf_clf.predict(X_rf_test)\n",
        "\n",
        "print(y_pred)\n",
        "print(y_rf_test)\n",
        "rndf_clf.score(X_rf_test, y_rf_test)"
      ],
      "metadata": {
        "colab": {
          "base_uri": "https://localhost:8080/"
        },
        "id": "H-EOItBB0jzf",
        "outputId": "87bbbeba-7bb0-48e3-d43f-3bf0d7f52d47"
      },
      "execution_count": 92,
      "outputs": [
        {
          "output_type": "stream",
          "name": "stdout",
          "text": [
            "[2405.10706867 3489.664198   1450.52963467 ... 1132.04864333 1832.66332533\n",
            "  575.34663133]\n",
            "1584    1099.9016\n",
            "3528    3872.9586\n",
            "6603     958.7520\n",
            "2228     969.4048\n",
            "3997     591.2304\n",
            "          ...    \n",
            "2437    6035.4770\n",
            "3229    1813.6392\n",
            "720      554.6114\n",
            "8503    3392.9168\n",
            "83       583.2408\n",
            "Name: Item_Outlet_Sales, Length: 1833, dtype: float64\n"
          ]
        },
        {
          "output_type": "execute_result",
          "data": {
            "text/plain": [
              "0.5237575423346126"
            ]
          },
          "metadata": {},
          "execution_count": 92
        }
      ]
    },
    {
      "cell_type": "code",
      "source": [
        "#la capacidad predictiva del random forest supera a la de otros modelos pero aun no es suficientemente buena, revisaré si los valores son homogeneos y \n",
        "#diversos para ver si ese 58% es relevante\n",
        "\n",
        "y_rf.value_counts(normalize=True, bins=8)\n",
        "\n",
        "#probaremos modificando parámetros y eliminando columnas lo "
      ],
      "metadata": {
        "colab": {
          "base_uri": "https://localhost:8080/"
        },
        "id": "qtCrxsYP1eW0",
        "outputId": "f14a6b82-932c-48ac-cbef-a56356ffe05b"
      },
      "execution_count": 93,
      "outputs": [
        {
          "output_type": "execute_result",
          "data": {
            "text/plain": [
              "(20.901999999999997, 1665.582]    0.435259\n",
              "(1665.582, 3297.208]              0.318383\n",
              "(3297.208, 4928.834]              0.157800\n",
              "(4928.834, 6560.46]               0.063513\n",
              "(6560.46, 8192.086]               0.019152\n",
              "(8192.086, 9823.713]              0.004583\n",
              "(9823.713, 11455.339]             0.000982\n",
              "(11455.339, 13086.965]            0.000327\n",
              "Name: Item_Outlet_Sales, dtype: float64"
            ]
          },
          "metadata": {},
          "execution_count": 93
        }
      ]
    },
    {
      "cell_type": "code",
      "source": [
        "grid = { \n",
        "    'n_estimators': [45,50,55,60,65,70,75],\n",
        "    'max_features': ['sqrt', 'log2'],\n",
        "    'max_depth' : [12,13,14,15]\n",
        "}\n",
        "forest_clf = RandomForestRegressor()\n",
        "\n",
        "from sklearn.model_selection import GridSearchCV\n",
        "\n",
        "grid_search = GridSearchCV(forest_clf, grid, cv=4,\n",
        "                          return_train_score=True)\n",
        "\n",
        "grid_search.fit(X_rf_train, y_rf_train)"
      ],
      "metadata": {
        "colab": {
          "base_uri": "https://localhost:8080/"
        },
        "id": "Fh_rFZ5w5Mvz",
        "outputId": "27d0be08-d278-4ee7-9caf-703476aea7f3"
      },
      "execution_count": 94,
      "outputs": [
        {
          "output_type": "execute_result",
          "data": {
            "text/plain": [
              "GridSearchCV(cv=4, estimator=RandomForestRegressor(),\n",
              "             param_grid={'max_depth': [12, 13, 14, 15],\n",
              "                         'max_features': ['sqrt', 'log2'],\n",
              "                         'n_estimators': [45, 50, 55, 60, 65, 70, 75]},\n",
              "             return_train_score=True)"
            ]
          },
          "metadata": {},
          "execution_count": 94
        }
      ]
    },
    {
      "cell_type": "code",
      "source": [
        ""
      ],
      "metadata": {
        "id": "A-NaDCwSPOu5"
      },
      "execution_count": null,
      "outputs": []
    },
    {
      "cell_type": "code",
      "source": [
        "cvres = grid_search.cv_results_\n",
        "print(cvres['mean_test_score'], cvres['params'])"
      ],
      "metadata": {
        "colab": {
          "base_uri": "https://localhost:8080/"
        },
        "id": "m7eMJzF17N1u",
        "outputId": "ebe03303-f2e3-4312-a3d3-a5b9fb1849b8"
      },
      "execution_count": 95,
      "outputs": [
        {
          "output_type": "stream",
          "name": "stdout",
          "text": [
            "[0.56813369 0.56917506 0.57109046 0.56780242 0.57132197 0.56409509\n",
            " 0.56723356 0.55347151 0.5584761  0.55768966 0.55705922 0.56065837\n",
            " 0.55936341 0.5593609  0.56554686 0.56573595 0.57296788 0.57099695\n",
            " 0.57107813 0.57268714 0.57113705 0.56296704 0.55596102 0.56059727\n",
            " 0.55872393 0.55526563 0.56187396 0.56366616 0.56887912 0.56773847\n",
            " 0.56940831 0.57108426 0.57354065 0.57259295 0.5724927  0.55648957\n",
            " 0.55938301 0.56439268 0.56058131 0.56749164 0.56618796 0.5644628\n",
            " 0.56657089 0.57087492 0.56672649 0.57166026 0.57006653 0.56841368\n",
            " 0.56837863 0.55882033 0.56428284 0.56089423 0.56312256 0.55902453\n",
            " 0.5628235  0.5623338 ] [{'max_depth': 12, 'max_features': 'sqrt', 'n_estimators': 45}, {'max_depth': 12, 'max_features': 'sqrt', 'n_estimators': 50}, {'max_depth': 12, 'max_features': 'sqrt', 'n_estimators': 55}, {'max_depth': 12, 'max_features': 'sqrt', 'n_estimators': 60}, {'max_depth': 12, 'max_features': 'sqrt', 'n_estimators': 65}, {'max_depth': 12, 'max_features': 'sqrt', 'n_estimators': 70}, {'max_depth': 12, 'max_features': 'sqrt', 'n_estimators': 75}, {'max_depth': 12, 'max_features': 'log2', 'n_estimators': 45}, {'max_depth': 12, 'max_features': 'log2', 'n_estimators': 50}, {'max_depth': 12, 'max_features': 'log2', 'n_estimators': 55}, {'max_depth': 12, 'max_features': 'log2', 'n_estimators': 60}, {'max_depth': 12, 'max_features': 'log2', 'n_estimators': 65}, {'max_depth': 12, 'max_features': 'log2', 'n_estimators': 70}, {'max_depth': 12, 'max_features': 'log2', 'n_estimators': 75}, {'max_depth': 13, 'max_features': 'sqrt', 'n_estimators': 45}, {'max_depth': 13, 'max_features': 'sqrt', 'n_estimators': 50}, {'max_depth': 13, 'max_features': 'sqrt', 'n_estimators': 55}, {'max_depth': 13, 'max_features': 'sqrt', 'n_estimators': 60}, {'max_depth': 13, 'max_features': 'sqrt', 'n_estimators': 65}, {'max_depth': 13, 'max_features': 'sqrt', 'n_estimators': 70}, {'max_depth': 13, 'max_features': 'sqrt', 'n_estimators': 75}, {'max_depth': 13, 'max_features': 'log2', 'n_estimators': 45}, {'max_depth': 13, 'max_features': 'log2', 'n_estimators': 50}, {'max_depth': 13, 'max_features': 'log2', 'n_estimators': 55}, {'max_depth': 13, 'max_features': 'log2', 'n_estimators': 60}, {'max_depth': 13, 'max_features': 'log2', 'n_estimators': 65}, {'max_depth': 13, 'max_features': 'log2', 'n_estimators': 70}, {'max_depth': 13, 'max_features': 'log2', 'n_estimators': 75}, {'max_depth': 14, 'max_features': 'sqrt', 'n_estimators': 45}, {'max_depth': 14, 'max_features': 'sqrt', 'n_estimators': 50}, {'max_depth': 14, 'max_features': 'sqrt', 'n_estimators': 55}, {'max_depth': 14, 'max_features': 'sqrt', 'n_estimators': 60}, {'max_depth': 14, 'max_features': 'sqrt', 'n_estimators': 65}, {'max_depth': 14, 'max_features': 'sqrt', 'n_estimators': 70}, {'max_depth': 14, 'max_features': 'sqrt', 'n_estimators': 75}, {'max_depth': 14, 'max_features': 'log2', 'n_estimators': 45}, {'max_depth': 14, 'max_features': 'log2', 'n_estimators': 50}, {'max_depth': 14, 'max_features': 'log2', 'n_estimators': 55}, {'max_depth': 14, 'max_features': 'log2', 'n_estimators': 60}, {'max_depth': 14, 'max_features': 'log2', 'n_estimators': 65}, {'max_depth': 14, 'max_features': 'log2', 'n_estimators': 70}, {'max_depth': 14, 'max_features': 'log2', 'n_estimators': 75}, {'max_depth': 15, 'max_features': 'sqrt', 'n_estimators': 45}, {'max_depth': 15, 'max_features': 'sqrt', 'n_estimators': 50}, {'max_depth': 15, 'max_features': 'sqrt', 'n_estimators': 55}, {'max_depth': 15, 'max_features': 'sqrt', 'n_estimators': 60}, {'max_depth': 15, 'max_features': 'sqrt', 'n_estimators': 65}, {'max_depth': 15, 'max_features': 'sqrt', 'n_estimators': 70}, {'max_depth': 15, 'max_features': 'sqrt', 'n_estimators': 75}, {'max_depth': 15, 'max_features': 'log2', 'n_estimators': 45}, {'max_depth': 15, 'max_features': 'log2', 'n_estimators': 50}, {'max_depth': 15, 'max_features': 'log2', 'n_estimators': 55}, {'max_depth': 15, 'max_features': 'log2', 'n_estimators': 60}, {'max_depth': 15, 'max_features': 'log2', 'n_estimators': 65}, {'max_depth': 15, 'max_features': 'log2', 'n_estimators': 70}, {'max_depth': 15, 'max_features': 'log2', 'n_estimators': 75}]\n"
          ]
        }
      ]
    },
    {
      "cell_type": "code",
      "source": [
        "grid_search.best_params_\n",
        "#dado que  los valores inicialmente nos dieron {'max_depth': 8, 'max_features': 'sqrt', 'n_estimators': 15} con 0.56 estos son los mejores paramteros, buscaremos una alternativa de prediccion con una \n",
        "#aun mayor profundidad (dado que son grandes vol de datos), metodo sqrt y menores estimadores modificando los parametros anteriormente\n",
        "#despues de varias pruebas con diferentes valores, se observa un patron, el metodo sqrt da mejores resultados constantemente que el gini, tambien se observa que el max depth llega a 13\n",
        "#despues ya no mejora las estimaciones, ahi se observa que el numero de estimadores si está mejorando los resultados."
      ],
      "metadata": {
        "colab": {
          "base_uri": "https://localhost:8080/"
        },
        "id": "eTiZlaLb7Q1Y",
        "outputId": "97df8483-3df9-43df-8dd4-48c5f6712caa"
      },
      "execution_count": 96,
      "outputs": [
        {
          "output_type": "execute_result",
          "data": {
            "text/plain": [
              "{'max_depth': 14, 'max_features': 'sqrt', 'n_estimators': 65}"
            ]
          },
          "metadata": {},
          "execution_count": 96
        }
      ]
    },
    {
      "cell_type": "code",
      "source": [
        "grid_search.best_score_"
      ],
      "metadata": {
        "colab": {
          "base_uri": "https://localhost:8080/"
        },
        "id": "e14smXgcQhpY",
        "outputId": "58364bd8-343c-4259-ecc0-2b10c84268d4"
      },
      "execution_count": 97,
      "outputs": [
        {
          "output_type": "execute_result",
          "data": {
            "text/plain": [
              "0.5735406450605295"
            ]
          },
          "metadata": {},
          "execution_count": 97
        }
      ]
    },
    {
      "cell_type": "code",
      "source": [
        "feature_importances = grid_search.best_estimator_.feature_importances_\n",
        "feature_importances"
      ],
      "metadata": {
        "colab": {
          "base_uri": "https://localhost:8080/"
        },
        "id": "jgTs0HmuDyVw",
        "outputId": "cc112dba-06f8-47e6-d304-e0e24a3cf237"
      },
      "execution_count": 98,
      "outputs": [
        {
          "output_type": "execute_result",
          "data": {
            "text/plain": [
              "array([0.08265417, 0.08259797, 0.00466175, 0.00397106, 0.00395114,\n",
              "       0.00529733, 0.00427689, 0.00616196, 0.0055233 , 0.00387586,\n",
              "       0.00374892, 0.00261992, 0.00456579, 0.00365649, 0.00274158,\n",
              "       0.00310236, 0.00226192, 0.00208326, 0.46864928, 0.00130038,\n",
              "       0.0078302 , 0.00152641, 0.03769267, 0.00459136, 0.00265963,\n",
              "       0.05119734, 0.03674145, 0.00754439, 0.00107456, 0.00987914,\n",
              "       0.01071334, 0.01698994, 0.00392741, 0.05190327, 0.04766777,\n",
              "       0.0103598 ])"
            ]
          },
          "metadata": {},
          "execution_count": 98
        }
      ]
    },
    {
      "cell_type": "markdown",
      "source": [
        "Observamos que la columna numero 18 es la que explica con mayor exactitud los valores para este grid search, con un importante 0,47% vs otras con 0.002% o incluso 0,001% de importancia\n",
        "Esa columna es la del valor de los items, por lo que tiene total sentido para predecir los valores de venta, a mayor valor de los items mas vende el Outlet.\n",
        "De todos modos, este ejercicio nos sirve para concluir que hay algunas columnas que podriamos eliminar para poder probar otro modelo sin columnas que agregan poco valor."
      ],
      "metadata": {
        "id": "oj7QTH1ZF5Ji"
      }
    },
    {
      "cell_type": "code",
      "source": [
        "cols=[4,6,7,10,11,12,14,16,17,19,22,24,26,27]\n",
        "X_rf.info()"
      ],
      "metadata": {
        "colab": {
          "base_uri": "https://localhost:8080/"
        },
        "id": "55zCNwzPHT8J",
        "outputId": "3a1741b3-f7f6-4748-c397-425113d99451"
      },
      "execution_count": 99,
      "outputs": [
        {
          "output_type": "stream",
          "name": "stdout",
          "text": [
            "<class 'pandas.core.frame.DataFrame'>\n",
            "Int64Index: 6109 entries, 0 to 8522\n",
            "Data columns (total 36 columns):\n",
            " #   Column                           Non-Null Count  Dtype  \n",
            "---  ------                           --------------  -----  \n",
            " 0   Item_Weight                      6109 non-null   float64\n",
            " 1   Item_Visibility                  6109 non-null   float64\n",
            " 2   Item_Type_Dairy                  6109 non-null   int64  \n",
            " 3   Item_Type_Soft Drinks            6109 non-null   int64  \n",
            " 4   Item_Type_Meat                   6109 non-null   int64  \n",
            " 5   Item_Type_Household              6109 non-null   int64  \n",
            " 6   Item_Type_Baking Goods           6109 non-null   int64  \n",
            " 7   Item_Type_Snack Foods            6109 non-null   int64  \n",
            " 8   Item_Type_Fruits and Vegetables  6109 non-null   int64  \n",
            " 9   Item_Type_Breakfast              6109 non-null   int64  \n",
            " 10  Item_Type_Health and Hygiene     6109 non-null   int64  \n",
            " 11  Item_Type_Hard Drinks            6109 non-null   int64  \n",
            " 12  Item_Type_Frozen Foods           6109 non-null   int64  \n",
            " 13  Item_Type_Canned                 6109 non-null   int64  \n",
            " 14  Item_Type_Starchy Foods          6109 non-null   int64  \n",
            " 15  Item_Type_Breads                 6109 non-null   int64  \n",
            " 16  Item_Type_Others                 6109 non-null   int64  \n",
            " 17  Item_Type_Seafood                6109 non-null   int64  \n",
            " 18  Item_MRP                         6109 non-null   float64\n",
            " 19  Outlet_Identifier_OUT049         6109 non-null   int64  \n",
            " 20  Outlet_Identifier_OUT018         6109 non-null   int64  \n",
            " 21  Outlet_Identifier_OUT013         6109 non-null   int64  \n",
            " 22  Outlet_Identifier_OUT027         6109 non-null   int64  \n",
            " 23  Outlet_Identifier_OUT046         6109 non-null   int64  \n",
            " 24  Outlet_Identifier_OUT035         6109 non-null   int64  \n",
            " 25  Outlet_Identifier_OUT019         6109 non-null   int64  \n",
            " 26  Outlet_Establishment_Year        6109 non-null   int64  \n",
            " 27  Outlet_Size_Medium               6109 non-null   int64  \n",
            " 28  Outlet_Size_High                 6109 non-null   int64  \n",
            " 29  Outlet_Size_Small                6109 non-null   int64  \n",
            " 30  Outlet_Location_Type             6109 non-null   int64  \n",
            " 31  Outlet_Type_Supermarket Type1    6109 non-null   int64  \n",
            " 32  Outlet_Type_Supermarket Type2    6109 non-null   int64  \n",
            " 33  Outlet_Type_Supermarket Type3    6109 non-null   int64  \n",
            " 34  Outlet_Type_Grocery Store        6109 non-null   int64  \n",
            " 35  Item_Fat_Content_n               6109 non-null   int64  \n",
            "dtypes: float64(3), int64(33)\n",
            "memory usage: 1.7 MB\n"
          ]
        }
      ]
    },
    {
      "cell_type": "code",
      "source": [
        "X_dep.columns[cols]"
      ],
      "metadata": {
        "colab": {
          "base_uri": "https://localhost:8080/"
        },
        "id": "z0pNZDzTNRnh",
        "outputId": "65d06c39-849c-43e0-c277-968a6204c65d"
      },
      "execution_count": 102,
      "outputs": [
        {
          "output_type": "execute_result",
          "data": {
            "text/plain": [
              "Index(['Item_Type_Meat', 'Item_Type_Baking Goods', 'Item_Type_Snack Foods',\n",
              "       'Item_Type_Health and Hygiene', 'Item_Type_Hard Drinks',\n",
              "       'Item_Type_Frozen Foods', 'Item_Type_Starchy Foods', 'Item_Type_Others',\n",
              "       'Item_Type_Seafood', 'Outlet_Identifier_OUT049',\n",
              "       'Outlet_Identifier_OUT027', 'Outlet_Identifier_OUT035',\n",
              "       'Outlet_Establishment_Year', 'Outlet_Size_Medium'],\n",
              "      dtype='object')"
            ]
          },
          "metadata": {},
          "execution_count": 102
        }
      ]
    },
    {
      "cell_type": "code",
      "source": [
        "#observamos que justamente las variables que creamos para hacer la regresion lineal y KNN usando one hot encoding son las que menos valor añaden al modelo y por lo tanto\n",
        "#probaremos la opcion de hacer un random forest con la data original del DF, pero haciendo drop al item type y al  outlet identifier. en el caso \n",
        "df.info()\n"
      ],
      "metadata": {
        "colab": {
          "base_uri": "https://localhost:8080/"
        },
        "id": "qJp9elnjN5ll",
        "outputId": "60e7645b-849e-4850-b4a7-1dc64cf0d670"
      },
      "execution_count": 103,
      "outputs": [
        {
          "output_type": "stream",
          "name": "stdout",
          "text": [
            "<class 'pandas.core.frame.DataFrame'>\n",
            "Int64Index: 6109 entries, 0 to 8522\n",
            "Data columns (total 11 columns):\n",
            " #   Column                     Non-Null Count  Dtype  \n",
            "---  ------                     --------------  -----  \n",
            " 0   Item_Weight                6109 non-null   float64\n",
            " 1   Item_Visibility            6109 non-null   float64\n",
            " 2   Item_Type                  6109 non-null   object \n",
            " 3   Item_MRP                   6109 non-null   float64\n",
            " 4   Outlet_Identifier          6109 non-null   object \n",
            " 5   Outlet_Establishment_Year  6109 non-null   int64  \n",
            " 6   Outlet_Size                6109 non-null   object \n",
            " 7   Outlet_Location_Type       6109 non-null   int64  \n",
            " 8   Outlet_Type                6109 non-null   object \n",
            " 9   Item_Outlet_Sales          6109 non-null   float64\n",
            " 10  Item_Fat_Content_n         6109 non-null   int64  \n",
            "dtypes: float64(4), int64(3), object(4)\n",
            "memory usage: 572.7+ KB\n"
          ]
        }
      ]
    },
    {
      "cell_type": "code",
      "source": [
        "df2=df.drop([\"Item_Type\",\"Outlet_Identifier\"], axis=1)\n",
        "#df2[\"Outlet_Type\"].value_counts()\n",
        "df2[\"Outlet_Type\"]"
      ],
      "metadata": {
        "colab": {
          "base_uri": "https://localhost:8080/"
        },
        "id": "Dvy5PbVLeEUQ",
        "outputId": "40d3c92b-1a8a-4561-810a-25ab336192eb"
      },
      "execution_count": 104,
      "outputs": [
        {
          "output_type": "execute_result",
          "data": {
            "text/plain": [
              "0       Supermarket Type1\n",
              "1       Supermarket Type2\n",
              "2       Supermarket Type1\n",
              "4       Supermarket Type1\n",
              "5       Supermarket Type2\n",
              "              ...        \n",
              "8517    Supermarket Type1\n",
              "8518    Supermarket Type1\n",
              "8520    Supermarket Type1\n",
              "8521    Supermarket Type2\n",
              "8522    Supermarket Type1\n",
              "Name: Outlet_Type, Length: 6109, dtype: object"
            ]
          },
          "metadata": {},
          "execution_count": 104
        }
      ]
    },
    {
      "cell_type": "code",
      "source": [
        "#al parecer, no podemos mejorar de los 0.588 , con {'max_depth': 8, 'max_features': 'log2', 'n_estimators': 75}, por lo que concluimos que, con los parametros actuales y la calidad de la informacion,\n",
        "#nuestro predictor es poco eficiente, si mejoramos la calidad de la data o bien, cambiamos de modelo quizas podemos encontrar mejores soluciones, pero por ahora queda hasta aqui\n"
      ],
      "metadata": {
        "id": "KKwqlB-TuShK"
      },
      "execution_count": null,
      "outputs": []
    }
  ]
}